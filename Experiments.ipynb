{
 "cells": [
  {
   "cell_type": "code",
   "execution_count": 1,
   "id": "09d99742-2fc3-4d9e-87e2-1ce2706babd3",
   "metadata": {},
   "outputs": [
    {
     "name": "stdout",
     "output_type": "stream",
     "text": [
      "Requirement already satisfied: memory_profiler in /home/piyush/.local/lib/python3.8/site-packages (0.60.0)\n",
      "Requirement already satisfied: psutil in /home/piyush/.local/lib/python3.8/site-packages (from memory_profiler) (5.9.0)\n"
     ]
    }
   ],
   "source": [
    "import tensorflow as tf\n",
    "import numpy as np\n",
    "from tensorflow.keras.models import load_model\n",
    "import time\n",
    "!pip install memory_profiler\n",
    "%load_ext memory_profiler"
   ]
  },
  {
   "cell_type": "code",
   "execution_count": 9,
   "id": "03e4bef7-a8ad-4088-a1cc-5fc8e4db4d19",
   "metadata": {},
   "outputs": [],
   "source": [
    "model=load_model('/home/piyush/Downloads/cancerDetection.h5')"
   ]
  },
  {
   "cell_type": "code",
   "execution_count": 50,
   "id": "69baa8d8-ad04-4480-8dcf-8c28629faa4e",
   "metadata": {},
   "outputs": [],
   "source": [
    "model=load_model('/home/piyush/Downloads/resnet_skin.h5')"
   ]
  },
  {
   "cell_type": "code",
   "execution_count": 3,
   "id": "92e7b207-3755-4ebe-8edd-3d67862440e2",
   "metadata": {},
   "outputs": [
    {
     "ename": "FileNotFoundError",
     "evalue": "[Errno 2] No such file or directory: '/home/piyush/Downloads/Skin cancer ISIC The International Skin Imaging Collaboration/Test/basal cell carcinoma/ISIC_0024411.jpg'",
     "output_type": "error",
     "traceback": [
      "\u001b[0;31m---------------------------------------------------------------------------\u001b[0m",
      "\u001b[0;31mFileNotFoundError\u001b[0m                         Traceback (most recent call last)",
      "\u001b[0;32m<ipython-input-3-2b63e58ca7a8>\u001b[0m in \u001b[0;36m<module>\u001b[0;34m\u001b[0m\n\u001b[1;32m      1\u001b[0m \u001b[0;32mimport\u001b[0m \u001b[0mnumpy\u001b[0m \u001b[0;32mas\u001b[0m \u001b[0mnp\u001b[0m\u001b[0;34m\u001b[0m\u001b[0;34m\u001b[0m\u001b[0m\n\u001b[1;32m      2\u001b[0m \u001b[0;32mfrom\u001b[0m \u001b[0mtensorflow\u001b[0m\u001b[0;34m.\u001b[0m\u001b[0mkeras\u001b[0m\u001b[0;34m.\u001b[0m\u001b[0mpreprocessing\u001b[0m \u001b[0;32mimport\u001b[0m \u001b[0mimage\u001b[0m\u001b[0;34m\u001b[0m\u001b[0;34m\u001b[0m\u001b[0m\n\u001b[0;32m----> 3\u001b[0;31m \u001b[0mimg\u001b[0m \u001b[0;34m=\u001b[0m \u001b[0mimage\u001b[0m\u001b[0;34m.\u001b[0m\u001b[0mload_img\u001b[0m\u001b[0;34m(\u001b[0m\u001b[0;34m'/home/piyush/Downloads/Skin cancer ISIC The International Skin Imaging Collaboration/Test/basal cell carcinoma/ISIC_0024411.jpg'\u001b[0m\u001b[0;34m,\u001b[0m \u001b[0mtarget_size\u001b[0m\u001b[0;34m=\u001b[0m\u001b[0;34m(\u001b[0m\u001b[0;36m84\u001b[0m\u001b[0;34m,\u001b[0m\u001b[0;36m84\u001b[0m\u001b[0;34m)\u001b[0m\u001b[0;34m)\u001b[0m\u001b[0;34m\u001b[0m\u001b[0;34m\u001b[0m\u001b[0m\n\u001b[0m\u001b[1;32m      4\u001b[0m \u001b[0mimg\u001b[0m \u001b[0;34m=\u001b[0m \u001b[0mimage\u001b[0m\u001b[0;34m.\u001b[0m\u001b[0mimg_to_array\u001b[0m\u001b[0;34m(\u001b[0m\u001b[0mimg\u001b[0m\u001b[0;34m)\u001b[0m\u001b[0;34m\u001b[0m\u001b[0;34m\u001b[0m\u001b[0m\n\u001b[1;32m      5\u001b[0m \u001b[0mimg\u001b[0m\u001b[0;34m=\u001b[0m\u001b[0mtf\u001b[0m\u001b[0;34m.\u001b[0m\u001b[0mkeras\u001b[0m\u001b[0;34m.\u001b[0m\u001b[0mpreprsmart_resize\u001b[0m\u001b[0;34m(\u001b[0m\u001b[0mimg\u001b[0m\u001b[0;34m,\u001b[0m\u001b[0;34m(\u001b[0m\u001b[0;36m84\u001b[0m\u001b[0;34m,\u001b[0m\u001b[0;36m84\u001b[0m\u001b[0;34m)\u001b[0m\u001b[0;34m)\u001b[0m\u001b[0;34m\u001b[0m\u001b[0;34m\u001b[0m\u001b[0m\n",
      "\u001b[0;32m~/.local/lib/python3.8/site-packages/keras/preprocessing/image.py\u001b[0m in \u001b[0;36mload_img\u001b[0;34m(path, grayscale, color_mode, target_size, interpolation)\u001b[0m\n\u001b[1;32m    311\u001b[0m       \u001b[0mValueError\u001b[0m\u001b[0;34m:\u001b[0m \u001b[0;32mif\u001b[0m \u001b[0minterpolation\u001b[0m \u001b[0mmethod\u001b[0m \u001b[0;32mis\u001b[0m \u001b[0;32mnot\u001b[0m \u001b[0msupported\u001b[0m\u001b[0;34m.\u001b[0m\u001b[0;34m\u001b[0m\u001b[0;34m\u001b[0m\u001b[0m\n\u001b[1;32m    312\u001b[0m   \"\"\"\n\u001b[0;32m--> 313\u001b[0;31m   return image.load_img(path, grayscale=grayscale, color_mode=color_mode,\n\u001b[0m\u001b[1;32m    314\u001b[0m                         target_size=target_size, interpolation=interpolation)\n\u001b[1;32m    315\u001b[0m \u001b[0;34m\u001b[0m\u001b[0m\n",
      "\u001b[0;32m~/.local/lib/python3.8/site-packages/keras_preprocessing/image/utils.py\u001b[0m in \u001b[0;36mload_img\u001b[0;34m(path, grayscale, color_mode, target_size, interpolation)\u001b[0m\n\u001b[1;32m    111\u001b[0m         raise ImportError('Could not import PIL.Image. '\n\u001b[1;32m    112\u001b[0m                           'The use of `load_img` requires PIL.')\n\u001b[0;32m--> 113\u001b[0;31m     \u001b[0;32mwith\u001b[0m \u001b[0mopen\u001b[0m\u001b[0;34m(\u001b[0m\u001b[0mpath\u001b[0m\u001b[0;34m,\u001b[0m \u001b[0;34m'rb'\u001b[0m\u001b[0;34m)\u001b[0m \u001b[0;32mas\u001b[0m \u001b[0mf\u001b[0m\u001b[0;34m:\u001b[0m\u001b[0;34m\u001b[0m\u001b[0;34m\u001b[0m\u001b[0m\n\u001b[0m\u001b[1;32m    114\u001b[0m         \u001b[0mimg\u001b[0m \u001b[0;34m=\u001b[0m \u001b[0mpil_image\u001b[0m\u001b[0;34m.\u001b[0m\u001b[0mopen\u001b[0m\u001b[0;34m(\u001b[0m\u001b[0mio\u001b[0m\u001b[0;34m.\u001b[0m\u001b[0mBytesIO\u001b[0m\u001b[0;34m(\u001b[0m\u001b[0mf\u001b[0m\u001b[0;34m.\u001b[0m\u001b[0mread\u001b[0m\u001b[0;34m(\u001b[0m\u001b[0;34m)\u001b[0m\u001b[0;34m)\u001b[0m\u001b[0;34m)\u001b[0m\u001b[0;34m\u001b[0m\u001b[0;34m\u001b[0m\u001b[0m\n\u001b[1;32m    115\u001b[0m         \u001b[0;32mif\u001b[0m \u001b[0mcolor_mode\u001b[0m \u001b[0;34m==\u001b[0m \u001b[0;34m'grayscale'\u001b[0m\u001b[0;34m:\u001b[0m\u001b[0;34m\u001b[0m\u001b[0;34m\u001b[0m\u001b[0m\n",
      "\u001b[0;31mFileNotFoundError\u001b[0m: [Errno 2] No such file or directory: '/home/piyush/Downloads/Skin cancer ISIC The International Skin Imaging Collaboration/Test/basal cell carcinoma/ISIC_0024411.jpg'"
     ]
    }
   ],
   "source": [
    "import numpy as np\n",
    "from tensorflow.keras.preprocessing import image\n",
    "img = image.load_img('/home/piyush/Downloads/Skin cancer ISIC The International Skin Imaging Collaboration/Test/basal cell carcinoma/ISIC_0024411.jpg', target_size=(84,84))\n",
    "img = image.img_to_array(img)\n",
    "img=tf.keras.preprsmart_resize(img,(84,84))\n",
    "img = np.expand_dims(img, axis=0)\n",
    "model.predict(img)"
   ]
  },
  {
   "cell_type": "code",
   "execution_count": 52,
   "id": "9f7c45b6-e7a2-446b-b8dc-8f041cf17b76",
   "metadata": {},
   "outputs": [
    {
     "data": {
      "text/plain": [
       "array([[0.39289755]], dtype=float32)"
      ]
     },
     "execution_count": 52,
     "metadata": {},
     "output_type": "execute_result"
    }
   ],
   "source": [
    "import numpy as np\n",
    "from tensorflow.keras.preprocessing import image\n",
    "img = image.load_img('/home/piyush/Downloads/cancer dataset/test/benign/1034.jpg', target_size=(180,180))\n",
    "img = image.img_to_array(img)\n",
    "img = np.expand_dims(img, axis=0)\n",
    "#start = time.time()\n",
    "model.predict(img)\n",
    "#end = time.time\n",
    "#print(float(end)-float(start)) # lets say n_frames = 50"
   ]
  },
  {
   "cell_type": "code",
   "execution_count": 43,
   "id": "de4e675d-fec3-464c-9fe0-0008b74a40ec",
   "metadata": {},
   "outputs": [
    {
     "name": "stdout",
     "output_type": "stream",
     "text": [
      "peak memory: 719.44 MiB, increment: 0.00 MiB\n"
     ]
    },
    {
     "data": {
      "text/plain": [
       "array([[4.96175e-12]], dtype=float32)"
      ]
     },
     "execution_count": 43,
     "metadata": {},
     "output_type": "execute_result"
    }
   ],
   "source": [
    "%memit\n",
    "img = image.load_img('/home/piyush/Downloads/cancer dataset/test/benign/1042.jpg', target_size=(180,180))\n",
    "img = image.img_to_array(img)\n",
    "img = np.expand_dims(img, axis=0)\n",
    "model.predict(img)"
   ]
  },
  {
   "cell_type": "code",
   "execution_count": 5,
   "id": "acb4866d-6ce1-4694-933a-c2c005bb06f3",
   "metadata": {},
   "outputs": [
    {
     "data": {
      "text/plain": [
       "array([[0.18298933]], dtype=float32)"
      ]
     },
     "execution_count": 5,
     "metadata": {},
     "output_type": "execute_result"
    }
   ],
   "source": [
    "img = image.load_img('/home/piyush/Downloads/cancer dataset/test/benign/105.jpg', target_size=(180,180))\n",
    "img = image.img_to_array(img)\n",
    "img = np.expand_dims(img, axis=0)\n",
    "model.predict(img)"
   ]
  },
  {
   "cell_type": "code",
   "execution_count": 6,
   "id": "5bcab8dd-5da5-489f-877d-befe913e1ad1",
   "metadata": {},
   "outputs": [
    {
     "data": {
      "text/plain": [
       "array([[0.00266361]], dtype=float32)"
      ]
     },
     "execution_count": 6,
     "metadata": {},
     "output_type": "execute_result"
    }
   ],
   "source": [
    "img = image.load_img('/home/piyush/Downloads/cancer dataset/test/malignant/1012.jpg', target_size=(180,180))\n",
    "img = image.img_to_array(img)\n",
    "img = np.expand_dims(img, axis=0)\n",
    "model.predict(img) #incorrect"
   ]
  },
  {
   "cell_type": "code",
   "execution_count": 7,
   "id": "4d31c93e-dbde-4b53-bd07-5758e3b6bbff",
   "metadata": {},
   "outputs": [
    {
     "data": {
      "text/plain": [
       "array([[0.998415]], dtype=float32)"
      ]
     },
     "execution_count": 7,
     "metadata": {},
     "output_type": "execute_result"
    }
   ],
   "source": [
    "img = image.load_img('/home/piyush/Downloads/cancer dataset/test/malignant/1027.jpg', target_size=(180,180))\n",
    "img = image.img_to_array(img)\n",
    "img = np.expand_dims(img, axis=0)\n",
    "model.predict(img) #incorrect"
   ]
  },
  {
   "cell_type": "code",
   "execution_count": 8,
   "id": "2dd4abf1-694e-4e34-959a-231a0219b10f",
   "metadata": {},
   "outputs": [
    {
     "data": {
      "text/plain": [
       "array([[0.99579763]], dtype=float32)"
      ]
     },
     "execution_count": 8,
     "metadata": {},
     "output_type": "execute_result"
    }
   ],
   "source": [
    "img = image.load_img('/home/piyush/Downloads/cancer dataset/test/malignant/1046.jpg', target_size=(180,180))\n",
    "img = image.img_to_array(img)\n",
    "img = np.expand_dims(img, axis=0)\n",
    "model.predict(img)"
   ]
  },
  {
   "cell_type": "code",
   "execution_count": 9,
   "id": "61797751-84e8-4ef4-afc2-a16428bc60fe",
   "metadata": {},
   "outputs": [
    {
     "data": {
      "text/plain": [
       "array([[0.9483665]], dtype=float32)"
      ]
     },
     "execution_count": 9,
     "metadata": {},
     "output_type": "execute_result"
    }
   ],
   "source": [
    "img = image.load_img('/home/piyush/Downloads/cancer dataset/test/malignant/1080.jpg', target_size=(180,180))\n",
    "img = image.img_to_array(img)\n",
    "img = np.expand_dims(img, axis=0)\n",
    "model.predict(img)"
   ]
  },
  {
   "cell_type": "code",
   "execution_count": 6,
   "id": "6dd6e947-9258-4fe4-a883-c3e841d7f787",
   "metadata": {},
   "outputs": [
    {
     "name": "stdout",
     "output_type": "stream",
     "text": [
      "CPU times: user 31 s, sys: 1.57 s, total: 32.5 s\n",
      "Wall time: 19.9 s\n"
     ]
    }
   ],
   "source": [
    "%%time\n",
    "import os\n",
    "c=0\n",
    "f=0\n",
    "for i in os.listdir('/home/piyush/Downloads/cancer dataset/test/malignant'):\n",
    "    try:\n",
    "        img = image.load_img('/home/piyush/Downloads/cancer dataset/test/malignant/'+str(i), target_size=(224,224))\n",
    "        img = image.img_to_array(img)\n",
    "        img = np.expand_dims(img, axis=0) \n",
    "        y_pred=model.predict(img)\n",
    "        f=f+1\n",
    "        if(y_pred>=0.5):\n",
    "            c=c+1\n",
    "    except:\n",
    "        pass"
   ]
  },
  {
   "cell_type": "code",
   "execution_count": 7,
   "id": "81a4049b-d45f-49b5-a729-e10b48656760",
   "metadata": {},
   "outputs": [
    {
     "data": {
      "text/plain": [
       "300"
      ]
     },
     "execution_count": 7,
     "metadata": {},
     "output_type": "execute_result"
    }
   ],
   "source": [
    "f"
   ]
  },
  {
   "cell_type": "code",
   "execution_count": 22,
   "id": "17b81559-e4e4-42f2-ba6e-1c7474d0299c",
   "metadata": {},
   "outputs": [
    {
     "data": {
      "text/plain": [
       "242"
      ]
     },
     "execution_count": 22,
     "metadata": {},
     "output_type": "execute_result"
    }
   ],
   "source": [
    "c"
   ]
  },
  {
   "cell_type": "code",
   "execution_count": 24,
   "id": "8569f536-53c2-41c3-ae58-72e59e63c435",
   "metadata": {},
   "outputs": [
    {
     "name": "stdout",
     "output_type": "stream",
     "text": [
      "361\n",
      "46\n",
      "CPU times: user 1min 44s, sys: 1.71 s, total: 1min 46s\n",
      "Wall time: 42.6 s\n"
     ]
    }
   ],
   "source": [
    "%%time\n",
    "import os\n",
    "c=0\n",
    "print(len(os.listdir('/home/piyush/Downloads/cancer dataset/test/benign')))\n",
    "for i in os.listdir('/home/piyush/Downloads/cancer dataset/test/benign'):\n",
    "    try:\n",
    "        img = image.load_img('/home/piyush/Downloads/cancer dataset/test/benign/'+str(i), target_size=(180,180))\n",
    "        img = image.img_to_array(img)\n",
    "        img = np.expand_dims(img, axis=0) \n",
    "        y_pred=model.predict(img)\n",
    "        if(y_pred>=0.5):\n",
    "            c=c+1\n",
    "    except:\n",
    "        pass\n",
    "print(c)"
   ]
  },
  {
   "cell_type": "code",
   "execution_count": null,
   "id": "93cc18dd-d081-4661-8e9d-eaaf5282c735",
   "metadata": {},
   "outputs": [],
   "source": [
    "print(361-c)"
   ]
  },
  {
   "cell_type": "code",
   "execution_count": 15,
   "id": "5f8a389a-9507-4989-a3ec-e68d05a54f76",
   "metadata": {},
   "outputs": [
    {
     "data": {
      "text/plain": [
       "75.98187311178248"
      ]
     },
     "execution_count": 15,
     "metadata": {},
     "output_type": "execute_result"
    }
   ],
   "source": [
    "f=((254+249)/(301+361))*100\n",
    "f"
   ]
  },
  {
   "cell_type": "code",
   "execution_count": 10,
   "id": "b3d3c066-9a27-4a9e-87ee-ebf78d2e3034",
   "metadata": {},
   "outputs": [
    {
     "data": {
      "text/plain": [
       "81.2688821752266"
      ]
     },
     "execution_count": 10,
     "metadata": {},
     "output_type": "execute_result"
    }
   ],
   "source": [
    "f=((237+301)/(301+361))*100\n",
    "f"
   ]
  },
  {
   "cell_type": "code",
   "execution_count": 3,
   "id": "c45d4e7f-7767-4a9a-b573-19dbe281c341",
   "metadata": {},
   "outputs": [],
   "source": [
    "#*DATA BALANCING*"
   ]
  },
  {
   "cell_type": "code",
   "execution_count": 7,
   "id": "ee0123c9-46d5-420b-a956-c765a90bb7d3",
   "metadata": {},
   "outputs": [],
   "source": [
    "import shutil\n",
    "import os\n",
    "import albumentations as A\n",
    "import numpy as np\n",
    "from PIL import Image"
   ]
  },
  {
   "cell_type": "code",
   "execution_count": 20,
   "id": "3cd48cd9-0842-40bc-ac76-c630727cf560",
   "metadata": {},
   "outputs": [],
   "source": [
    "transform2=A.Compose([A.HorizontalFlip(p=0.5),])\n",
    "transform3=A.Compose([A.VerticalFlip(p=0.2),])\n",
    "transform4=A.Compose([A.RandomBrightnessContrast(p=0.2),])\n",
    "transform5=A.Compose([A.Rotate(45),])\n",
    "transform9=A.Compose([A.GaussNoise(var_limit=(10.0, 50.0), always_apply=False, p=0.5),])\n",
    "transform10=A.Compose([A.Rotate(30),])"
   ]
  },
  {
   "cell_type": "code",
   "execution_count": 13,
   "id": "4f101317-55d0-421c-8a12-e0962385dd4f",
   "metadata": {},
   "outputs": [],
   "source": [
    "os.makedirs('/home/piyush/Downloads/Generate/train/actinic keratosis')\n",
    "os.makedirs('/home/piyush/Downloads/Generate/train/basal cell carcinoma')\n",
    "os.makedirs('/home/piyush/Downloads/Generate/train/dermatofibroma')\n",
    "os.makedirs('/home/piyush/Downloads/Generate/train/melanoma')\n",
    "os.makedirs('/home/piyush/Downloads/Generate/train/nevus')\n",
    "os.makedirs('/home/piyush/Downloads/Generate/train/pigmented benign keratosis')\n",
    "os.makedirs('/home/piyush/Downloads/Generate/train/seborrheic keratosis')\n",
    "os.makedirs('/home/piyush/Downloads/Generate/train/squamous cell carcinoma')\n",
    "os.makedirs('/home/piyush/Downloads/Generate/train/vascular lesion')"
   ]
  },
  {
   "cell_type": "code",
   "execution_count": 10,
   "id": "e2ecfc68-6120-474d-be3c-d6851f1aadfb",
   "metadata": {},
   "outputs": [],
   "source": [
    "f=0\n",
    "for i in os.listdir('/home/piyush/Downloads/Skin cancer ISIC The International Skin Imaging Collaboration/Train/actinic keratosis'):\n",
    "    try:\n",
    "        im=Image.open('/home/piyush/Downloads/Skin cancer ISIC The International Skin Imaging Collaboration/Train/actinic keratosis/'+str(i))\n",
    "        im.save('/home/piyush/Downloads/Generate/train/actinic keratosis/'+i)\n",
    "        image=np.array(im)\n",
    "        transformed2 = transform2(image=image)\n",
    "        transformed_image = transformed2[\"image\"]\n",
    "        ximage6=Image.fromarray(transformed_image)\n",
    "        ximage6.save('/home/piyush/Downloads/Generate/train/actinic keratosis/'+str(f)+'.jpg')\n",
    "        f=f+1\n",
    "        transformed3 = transform3(image=image)\n",
    "        transformed_image = transformed3[\"image\"]\n",
    "        ximage5=Image.fromarray(transformed_image)\n",
    "        ximage5.save('/home/piyush/Downloads/Generate/train/actinic keratosis/'+str(f)+'.jpg')\n",
    "        f=f+1\n",
    "        transformed10 = transform10(image=image)\n",
    "        transformed_image = transformed10[\"image\"]\n",
    "        ximage1=Image.fromarray(transformed_image)\n",
    "        ximage1.save('/home/piyush/Downloads/Generate/train/actinic keratosis/'+str(f)+'.jpg')\n",
    "        f=f+1\n",
    "    except :\n",
    "        pass"
   ]
  },
  {
   "cell_type": "code",
   "execution_count": 14,
   "id": "84a463fd-d370-41cf-be3a-e97591df2a1a",
   "metadata": {},
   "outputs": [],
   "source": [
    "f=0\n",
    "for i in os.listdir('/home/piyush/Downloads/Skin cancer ISIC The International Skin Imaging Collaboration/Train/dermatofibroma'):\n",
    "    try:\n",
    "        im=Image.open('/home/piyush/Downloads/Skin cancer ISIC The International Skin Imaging Collaboration/Train/dermatofibroma/'+str(i))\n",
    "        im.save('/home/piyush/Downloads/Generate/train/dermatofibroma/'+i)\n",
    "        image=np.array(im)\n",
    "        transformed2 = transform2(image=image)\n",
    "        transformed_image = transformed2[\"image\"]\n",
    "        ximage6=Image.fromarray(transformed_image)\n",
    "        ximage6.save('/home/piyush/Downloads/Generate/train/dermatofibroma/'+str(f)+'.jpg')\n",
    "        f=f+1\n",
    "        transformed3 = transform3(image=image)\n",
    "        transformed_image = transformed3[\"image\"]\n",
    "        ximage5=Image.fromarray(transformed_image)\n",
    "        ximage5.save('/home/piyush/Downloads/Generate/train/dermatofibroma/'+str(f)+'.jpg')\n",
    "        f=f+1\n",
    "        transformed10 = transform10(image=image)\n",
    "        transformed_image = transformed10[\"image\"]\n",
    "        ximage1=Image.fromarray(transformed_image)\n",
    "        ximage1.save('/home/piyush/Downloads/Generate/train/dermatofibroma/'+str(f)+'.jpg')\n",
    "        f=f+1\n",
    "    except :\n",
    "        pass"
   ]
  },
  {
   "cell_type": "code",
   "execution_count": 18,
   "id": "f5fcd9eb-08d7-4070-b3d4-99125ba99ba9",
   "metadata": {},
   "outputs": [],
   "source": [
    "f=0\n",
    "for i in os.listdir('/home/piyush/Downloads/Skin cancer ISIC The International Skin Imaging Collaboration/Train/pigmented benign keratosis'):\n",
    "    try:\n",
    "        im=Image.open('/home/piyush/Downloads/Skin cancer ISIC The International Skin Imaging Collaboration/Train/pigmented benign keratosis/'+str(i))\n",
    "        im.save('/home/piyush/Downloads/Generate/train/pigmented benign keratosis/'+i)\n",
    "    except :\n",
    "        pass"
   ]
  },
  {
   "cell_type": "code",
   "execution_count": 21,
   "id": "48347c47-a94d-472a-a5b2-acff50f9a2dd",
   "metadata": {},
   "outputs": [],
   "source": [
    "f=0\n",
    "for i in os.listdir('/home/piyush/Downloads/Skin cancer ISIC The International Skin Imaging Collaboration/Train/seborrheic keratosis'):\n",
    "    try:\n",
    "        im=Image.open('/home/piyush/Downloads/Skin cancer ISIC The International Skin Imaging Collaboration/Train/seborrheic keratosis/'+str(i))\n",
    "        im.save('/home/piyush/Downloads/Generate/train/seborrheic keratosis/'+i)\n",
    "        image=np.array(im)\n",
    "        transformed2 = transform2(image=image)\n",
    "        transformed_image = transformed2[\"image\"]\n",
    "        ximage6=Image.fromarray(transformed_image)\n",
    "        ximage6.save('/home/piyush/Downloads/Generate/train/seborrheic keratosis/'+str(f)+'.jpg')\n",
    "        f=f+1\n",
    "        transformed3 = transform3(image=image)\n",
    "        transformed_image = transformed3[\"image\"]\n",
    "        ximage5=Image.fromarray(transformed_image)\n",
    "        ximage5.save('/home/piyush/Downloads/Generate/train/seborrheic keratosis/'+str(f)+'.jpg')\n",
    "        f=f+1\n",
    "        transformed9 = transform9(image=image)\n",
    "        transformed_image = transformed9[\"image\"]\n",
    "        ximage2=Image.fromarray(transformed_image)\n",
    "        ximage2.save('/home/piyush/Downloads/Generate/train/seborrheic keratosis/'+str(f)+'.jpg')\n",
    "        f=f+1\n",
    "        transformed10 = transform10(image=image)\n",
    "        transformed_image = transformed10[\"image\"]\n",
    "        ximage1=Image.fromarray(transformed_image)\n",
    "        ximage1.save('/home/piyush/Downloads/Generate/train/seborrheic keratosis/'+str(f)+'.jpg')\n",
    "        f=f+1\n",
    "    except :\n",
    "        pass"
   ]
  },
  {
   "cell_type": "code",
   "execution_count": 25,
   "id": "efb1e2d5-6552-424b-9000-bffea68240aa",
   "metadata": {},
   "outputs": [],
   "source": [
    "f=0\n",
    "for i in os.listdir('/home/piyush/Downloads/Skin cancer ISIC The International Skin Imaging Collaboration/Train/squamous cell carcinoma'):\n",
    "    try:\n",
    "        im=Image.open('/home/piyush/Downloads/Skin cancer ISIC The International Skin Imaging Collaboration/Train/squamous cell carcinoma/'+str(i))\n",
    "        im.save('/home/piyush/Downloads/Generate/train/squamous cell carcinoma/'+i)\n",
    "        image=np.array(im)\n",
    "        transformed2 = transform2(image=image)\n",
    "        transformed_image = transformed2[\"image\"]\n",
    "        ximage6=Image.fromarray(transformed_image)\n",
    "        ximage6.save('/home/piyush/Downloads/Generate/train/squamous cell carcinoma/'+str(f)+'.jpg')\n",
    "        f=f+1\n",
    "    except :\n",
    "        pass"
   ]
  },
  {
   "cell_type": "code",
   "execution_count": 24,
   "id": "3d34f973-88d8-41e6-a409-46b1ab52c145",
   "metadata": {},
   "outputs": [],
   "source": [
    "\n",
    "f=0\n",
    "for i in os.listdir('/home/piyush/Downloads/Skin cancer ISIC The International Skin Imaging Collaboration/Train/vascular lesion'):\n",
    "    try:\n",
    "        im=Image.open('/home/piyush/Downloads/Skin cancer ISIC The International Skin Imaging Collaboration/Train/vascular lesion/'+str(i))\n",
    "        im.save('/home/piyush/Downloads/Generate/train/vascular lesion/'+i)\n",
    "        image=np.array(im)\n",
    "        transformed2 = transform2(image=image)\n",
    "        transformed_image = transformed2[\"image\"]\n",
    "        ximage6=Image.fromarray(transformed_image)\n",
    "        ximage6.save('/home/piyush/Downloads/Generate/train/vascular lesion/'+str(f)+'.jpg')\n",
    "        f=f+1\n",
    "        transformed3 = transform3(image=image)\n",
    "        transformed_image = transformed3[\"image\"]\n",
    "        ximage5=Image.fromarray(transformed_image)\n",
    "        ximage5.save('/home/piyush/Downloads/Generate/train/vascular lesion/'+str(f)+'.jpg')\n",
    "        f=f+1\n",
    "    except :\n",
    "        pass"
   ]
  },
  {
   "cell_type": "code",
   "execution_count": 26,
   "id": "8c42fe30-bc3e-43ce-b6f4-47109d23b25a",
   "metadata": {},
   "outputs": [],
   "source": [
    "lst=['actinic keratosis','basal cell carcinoma','dermatofibroma','melanoma','nevus','pigmented benign keratosis','seborrheic keratosis','squamous cell carcinoma','vascular lesion']\n",
    "for i in lst:\n",
    "    os.makedirs('/home/piyush/Downloads/train/'+str(i))"
   ]
  },
  {
   "cell_type": "code",
   "execution_count": 32,
   "id": "8b8b4392-474c-4157-8bbe-59332544a787",
   "metadata": {},
   "outputs": [],
   "source": [
    "f=0\n",
    "for c in lst:\n",
    "    for i in os.listdir('/home/piyush/Downloads/Generate/train/'+c+'/'):\n",
    "        if f<=380:\n",
    "            try:\n",
    "                shutil.copy2('/home/piyush/Downloads/Generate/train/'+c+'/'+i,'/home/piyush/Downloads/train/'+lst[c]+'/'+i)\n",
    "            except:\n",
    "                pass\n",
    "        f=f+1"
   ]
  },
  {
   "cell_type": "code",
   "execution_count": 14,
   "id": "c70c12ec-f916-4cc3-94a6-99431fd36cbe",
   "metadata": {},
   "outputs": [],
   "source": [
    "model=load_model('/home/piyush/Downloads/Skin cancer ISIC The International Skin Imaging Collaboration/ISIC.h5')"
   ]
  },
  {
   "cell_type": "code",
   "execution_count": 9,
   "id": "5762745f-9b78-42b4-ae98-e05bbd42afae",
   "metadata": {},
   "outputs": [
    {
     "name": "stdout",
     "output_type": "stream",
     "text": [
      "Found 3315 files belonging to 9 classes.\n",
      "Found 122 files belonging to 9 classes.\n"
     ]
    }
   ],
   "source": [
    "train_data=tf.keras.preprocessing.image_dataset_from_directory('/home/piyush/Downloads/Skin cancer ISIC The International Skin Imaging Collaboration/train',image_size=(112,112),color_mode=\"rgb\",\n",
    "    batch_size=15,\n",
    "    shuffle=True,\n",
    "    seed=123)\n",
    "test_data=tf.keras.preprocessing.image_dataset_from_directory('/home/piyush/Downloads/Skin cancer ISIC The International Skin Imaging Collaboration/Test',image_size=(112,112),color_mode=\"rgb\",\n",
    "    batch_size=1,\n",
    "    shuffle=True,\n",
    "    seed=123)"
   ]
  },
  {
   "cell_type": "code",
   "execution_count": 10,
   "id": "a228bb06-0d2b-4f1c-82b6-c87930573f9d",
   "metadata": {},
   "outputs": [
    {
     "data": {
      "text/plain": [
       "['actinic keratosis',\n",
       " 'basal cell carcinoma',\n",
       " 'dermatofibroma',\n",
       " 'melanoma',\n",
       " 'nevus',\n",
       " 'pigmented benign keratosis',\n",
       " 'seborrheic keratosis',\n",
       " 'squamous cell carcinoma',\n",
       " 'vascular lesion']"
      ]
     },
     "execution_count": 10,
     "metadata": {},
     "output_type": "execute_result"
    }
   ],
   "source": [
    "name=train_data.class_names\n",
    "name"
   ]
  },
  {
   "cell_type": "code",
   "execution_count": 11,
   "id": "b0a80605-de06-4951-a6fa-7fa0120c8d24",
   "metadata": {},
   "outputs": [
    {
     "name": "stdout",
     "output_type": "stream",
     "text": [
      "squamous cell carcinoma with an accuracy of 44.713109731674194\n"
     ]
    }
   ],
   "source": [
    "import numpy as np\n",
    "from tensorflow.keras.preprocessing import image\n",
    "img = image.load_img('/home/piyush/Downloads/Skin cancer ISIC The International Skin Imaging Collaboration/Test/basal cell carcinoma/ISIC_0024432.jpg', target_size=(112,112))\n",
    "img = image.img_to_array(img)\n",
    "img = np.expand_dims(img, axis=0)\n",
    "print(name[np.argmax(model.predict(img))],\"with an accuracy of\",model.predict(img)[0][np.argmax(model.predict(img))]*100)"
   ]
  },
  {
   "cell_type": "code",
   "execution_count": 12,
   "id": "32bbcc1f-9bde-4d7a-8289-45e95f3444fd",
   "metadata": {},
   "outputs": [
    {
     "data": {
      "text/plain": [
       "array([[3.1419452e-02, 1.3099721e-01, 2.4680176e-03, 1.3314368e-02,\n",
       "        3.5268474e-01, 2.0736953e-02, 1.2907479e-04, 4.4713110e-01,\n",
       "        1.1190030e-03]], dtype=float32)"
      ]
     },
     "execution_count": 12,
     "metadata": {},
     "output_type": "execute_result"
    }
   ],
   "source": [
    "model.predict(img)"
   ]
  },
  {
   "cell_type": "code",
   "execution_count": 13,
   "id": "f0a1b9bc-7075-46c2-b020-10f6bb218b91",
   "metadata": {},
   "outputs": [
    {
     "name": "stdout",
     "output_type": "stream",
     "text": [
      "122/122 [==============================] - 26s 207ms/step - loss: 4.9360 - accuracy: 0.2131\n"
     ]
    },
    {
     "data": {
      "text/plain": [
       "[4.935966491699219, 0.21311475336551666]"
      ]
     },
     "execution_count": 13,
     "metadata": {},
     "output_type": "execute_result"
    }
   ],
   "source": [
    "model.evaluate(test_data)"
   ]
  },
  {
   "cell_type": "code",
   "execution_count": 8,
   "id": "4930391a-594a-4102-943a-49614fc883ee",
   "metadata": {},
   "outputs": [],
   "source": [
    "import numpy as np\n",
    "import cv2\n",
    "import os\n",
    "x=[]\n",
    "y=[]\n",
    "for i in os.listdir('/home/piyush/Downloads/cancer dataset/train/benign/'):\n",
    "    img=cv2.imread('/home/piyush/Downloads/cancer dataset/train/benign/'+i)\n",
    "    x.append(img)\n",
    "    y.append(0)"
   ]
  },
  {
   "cell_type": "code",
   "execution_count": 9,
   "id": "983509e4-5198-41d0-84e1-e5f46dc49d43",
   "metadata": {},
   "outputs": [],
   "source": [
    "for i in os.listdir('/home/piyush/Downloads/cancer dataset/train/malignant/'):\n",
    "    img=cv2.imread('/home/piyush/Downloads/cancer dataset/train/malignant/'+i)\n",
    "    x.append(img)\n",
    "    y.append(1)"
   ]
  },
  {
   "cell_type": "code",
   "execution_count": 12,
   "id": "31627fb8-8ce3-4128-a1c0-41d9cf22eebd",
   "metadata": {},
   "outputs": [
    {
     "data": {
      "text/plain": [
       "array([[[0.69411765, 0.65098039, 0.93333333],\n",
       "        [0.69803922, 0.66666667, 0.94117647],\n",
       "        [0.69803922, 0.66666667, 0.94117647],\n",
       "        ...,\n",
       "        [0.67058824, 0.64705882, 0.90196078],\n",
       "        [0.66666667, 0.65490196, 0.89803922],\n",
       "        [0.68627451, 0.65490196, 0.90980392]],\n",
       "\n",
       "       [[0.70588235, 0.65098039, 0.93333333],\n",
       "        [0.69803922, 0.65098039, 0.93333333],\n",
       "        [0.70196078, 0.65490196, 0.9372549 ],\n",
       "        ...,\n",
       "        [0.6627451 , 0.63921569, 0.89411765],\n",
       "        [0.6627451 , 0.65882353, 0.90196078],\n",
       "        [0.67058824, 0.67058824, 0.92156863]],\n",
       "\n",
       "       [[0.68627451, 0.65098039, 0.9372549 ],\n",
       "        [0.6745098 , 0.63921569, 0.9254902 ],\n",
       "        [0.68627451, 0.64313725, 0.91764706],\n",
       "        ...,\n",
       "        [0.65882353, 0.64313725, 0.89803922],\n",
       "        [0.63921569, 0.64705882, 0.89803922],\n",
       "        [0.64313725, 0.64313725, 0.89411765]],\n",
       "\n",
       "       ...,\n",
       "\n",
       "       [[0.63137255, 0.60784314, 0.88627451],\n",
       "        [0.65882353, 0.61568627, 0.90196078],\n",
       "        [0.64705882, 0.63137255, 0.90980392],\n",
       "        ...,\n",
       "        [0.54901961, 0.57647059, 0.82352941],\n",
       "        [0.57254902, 0.58039216, 0.83137255],\n",
       "        [0.59215686, 0.6       , 0.85098039]],\n",
       "\n",
       "       [[0.63529412, 0.60784314, 0.87058824],\n",
       "        [0.65098039, 0.63137255, 0.90196078],\n",
       "        [0.64313725, 0.61176471, 0.89019608],\n",
       "        ...,\n",
       "        [0.5254902 , 0.56862745, 0.83529412],\n",
       "        [0.54117647, 0.56862745, 0.83921569],\n",
       "        [0.54901961, 0.58431373, 0.83137255]],\n",
       "\n",
       "       [[0.63529412, 0.61960784, 0.87843137],\n",
       "        [0.64313725, 0.63137255, 0.90196078],\n",
       "        [0.64313725, 0.60784314, 0.89411765],\n",
       "        ...,\n",
       "        [0.54901961, 0.56078431, 0.82745098],\n",
       "        [0.5372549 , 0.57647059, 0.82745098],\n",
       "        [0.51764706, 0.56470588, 0.82352941]]])"
      ]
     },
     "execution_count": 12,
     "metadata": {},
     "output_type": "execute_result"
    }
   ],
   "source": [
    "x=np.asarray(x)/255\n",
    "x[0]"
   ]
  },
  {
   "cell_type": "code",
   "execution_count": 18,
   "id": "2bec9ea5-c91a-4294-90e9-69f6d3d07436",
   "metadata": {},
   "outputs": [],
   "source": [
    "tx=[]\n",
    "ty=[]\n",
    "for i in os.listdir('/home/piyush/Downloads/cancer dataset/test/benign/'):\n",
    "    img=cv2.imread('/home/piyush/Downloads/cancer dataset/test/benign/'+i)\n",
    "    tx.append(img)\n",
    "    ty.append(0)\n",
    "for i in os.listdir('/home/piyush/Downloads/cancer dataset/test/malignant/'):\n",
    "    img=cv2.imread('/home/piyush/Downloads/cancer dataset/test/malignant/'+i)\n",
    "    tx.append(img)\n",
    "    ty.append(1)\n"
   ]
  },
  {
   "cell_type": "code",
   "execution_count": 20,
   "id": "16dbf80e-ca3b-4b5d-88d6-43d2aab57775",
   "metadata": {},
   "outputs": [
    {
     "ename": "TypeError",
     "evalue": "unsupported operand type(s) for /: 'NoneType' and 'int'",
     "output_type": "error",
     "traceback": [
      "\u001b[0;31m---------------------------------------------------------------------------\u001b[0m",
      "\u001b[0;31mTypeError\u001b[0m                                 Traceback (most recent call last)",
      "\u001b[0;32m<ipython-input-20-9c3acc7b61bf>\u001b[0m in \u001b[0;36m<module>\u001b[0;34m\u001b[0m\n\u001b[1;32m      1\u001b[0m \u001b[0mtx\u001b[0m\u001b[0;34m=\u001b[0m\u001b[0mnp\u001b[0m\u001b[0;34m.\u001b[0m\u001b[0masarray\u001b[0m\u001b[0;34m(\u001b[0m\u001b[0mtx\u001b[0m\u001b[0;34m)\u001b[0m\u001b[0;34m\u001b[0m\u001b[0;34m\u001b[0m\u001b[0m\n\u001b[0;32m----> 2\u001b[0;31m \u001b[0mtx\u001b[0m\u001b[0;34m=\u001b[0m\u001b[0mtx\u001b[0m\u001b[0;34m/\u001b[0m\u001b[0;36m255\u001b[0m\u001b[0;34m\u001b[0m\u001b[0;34m\u001b[0m\u001b[0m\n\u001b[0m",
      "\u001b[0;31mTypeError\u001b[0m: unsupported operand type(s) for /: 'NoneType' and 'int'"
     ]
    }
   ],
   "source": [
    "tx=np.asarray(tx)\n",
    "tx=tx/255"
   ]
  },
  {
   "cell_type": "code",
   "execution_count": 25,
   "id": "37d3f24c-1d87-4172-b8b3-f8de375d484a",
   "metadata": {},
   "outputs": [
    {
     "data": {
      "text/plain": [
       "0.6509803921568628"
      ]
     },
     "execution_count": 25,
     "metadata": {},
     "output_type": "execute_result"
    }
   ],
   "source": [
    "x=x.flatten()\n",
    "x[1]"
   ]
  },
  {
   "cell_type": "code",
   "execution_count": 23,
   "id": "ba476dce-6040-4479-bc9c-4e19c303abd7",
   "metadata": {},
   "outputs": [
    {
     "ename": "ValueError",
     "evalue": "Found array with dim 4. Estimator expected <= 2.",
     "output_type": "error",
     "traceback": [
      "\u001b[0;31m---------------------------------------------------------------------------\u001b[0m",
      "\u001b[0;31mValueError\u001b[0m                                Traceback (most recent call last)",
      "\u001b[0;32m<ipython-input-23-06330fec5bca>\u001b[0m in \u001b[0;36m<module>\u001b[0;34m\u001b[0m\n\u001b[1;32m      1\u001b[0m \u001b[0;32mfrom\u001b[0m \u001b[0msklearn\u001b[0m\u001b[0;34m.\u001b[0m\u001b[0mneighbors\u001b[0m \u001b[0;32mimport\u001b[0m \u001b[0mKNeighborsClassifier\u001b[0m\u001b[0;34m\u001b[0m\u001b[0;34m\u001b[0m\u001b[0m\n\u001b[1;32m      2\u001b[0m \u001b[0mneigh\u001b[0m \u001b[0;34m=\u001b[0m \u001b[0mKNeighborsClassifier\u001b[0m\u001b[0;34m(\u001b[0m\u001b[0mn_neighbors\u001b[0m\u001b[0;34m=\u001b[0m\u001b[0;36m5\u001b[0m\u001b[0;34m,\u001b[0m\u001b[0mweights\u001b[0m\u001b[0;34m=\u001b[0m\u001b[0;34m'distance'\u001b[0m\u001b[0;34m,\u001b[0m\u001b[0mp\u001b[0m\u001b[0;34m=\u001b[0m\u001b[0;36m1\u001b[0m\u001b[0;34m,\u001b[0m\u001b[0mn_jobs\u001b[0m\u001b[0;34m=\u001b[0m\u001b[0;36m20\u001b[0m\u001b[0;34m)\u001b[0m\u001b[0;34m\u001b[0m\u001b[0;34m\u001b[0m\u001b[0m\n\u001b[0;32m----> 3\u001b[0;31m \u001b[0mneigh\u001b[0m\u001b[0;34m.\u001b[0m\u001b[0mfit\u001b[0m\u001b[0;34m(\u001b[0m\u001b[0mx\u001b[0m\u001b[0;34m,\u001b[0m\u001b[0my\u001b[0m\u001b[0;34m)\u001b[0m\u001b[0;34m\u001b[0m\u001b[0;34m\u001b[0m\u001b[0m\n\u001b[0m",
      "\u001b[0;32m~/.local/lib/python3.8/site-packages/sklearn/neighbors/_classification.py\u001b[0m in \u001b[0;36mfit\u001b[0;34m(self, X, y)\u001b[0m\n\u001b[1;32m    177\u001b[0m             \u001b[0mThe\u001b[0m \u001b[0mfitted\u001b[0m \u001b[0mk\u001b[0m\u001b[0;34m-\u001b[0m\u001b[0mnearest\u001b[0m \u001b[0mneighbors\u001b[0m \u001b[0mclassifier\u001b[0m\u001b[0;34m.\u001b[0m\u001b[0;34m\u001b[0m\u001b[0;34m\u001b[0m\u001b[0m\n\u001b[1;32m    178\u001b[0m         \"\"\"\n\u001b[0;32m--> 179\u001b[0;31m         \u001b[0;32mreturn\u001b[0m \u001b[0mself\u001b[0m\u001b[0;34m.\u001b[0m\u001b[0m_fit\u001b[0m\u001b[0;34m(\u001b[0m\u001b[0mX\u001b[0m\u001b[0;34m,\u001b[0m \u001b[0my\u001b[0m\u001b[0;34m)\u001b[0m\u001b[0;34m\u001b[0m\u001b[0;34m\u001b[0m\u001b[0m\n\u001b[0m\u001b[1;32m    180\u001b[0m \u001b[0;34m\u001b[0m\u001b[0m\n\u001b[1;32m    181\u001b[0m     \u001b[0;32mdef\u001b[0m \u001b[0mpredict\u001b[0m\u001b[0;34m(\u001b[0m\u001b[0mself\u001b[0m\u001b[0;34m,\u001b[0m \u001b[0mX\u001b[0m\u001b[0;34m)\u001b[0m\u001b[0;34m:\u001b[0m\u001b[0;34m\u001b[0m\u001b[0;34m\u001b[0m\u001b[0m\n",
      "\u001b[0;32m~/.local/lib/python3.8/site-packages/sklearn/neighbors/_base.py\u001b[0m in \u001b[0;36m_fit\u001b[0;34m(self, X, y)\u001b[0m\n\u001b[1;32m    361\u001b[0m         \u001b[0;32mif\u001b[0m \u001b[0mself\u001b[0m\u001b[0;34m.\u001b[0m\u001b[0m_get_tags\u001b[0m\u001b[0;34m(\u001b[0m\u001b[0;34m)\u001b[0m\u001b[0;34m[\u001b[0m\u001b[0;34m\"requires_y\"\u001b[0m\u001b[0;34m]\u001b[0m\u001b[0;34m:\u001b[0m\u001b[0;34m\u001b[0m\u001b[0;34m\u001b[0m\u001b[0m\n\u001b[1;32m    362\u001b[0m             \u001b[0;32mif\u001b[0m \u001b[0;32mnot\u001b[0m \u001b[0misinstance\u001b[0m\u001b[0;34m(\u001b[0m\u001b[0mX\u001b[0m\u001b[0;34m,\u001b[0m \u001b[0;34m(\u001b[0m\u001b[0mKDTree\u001b[0m\u001b[0;34m,\u001b[0m \u001b[0mBallTree\u001b[0m\u001b[0;34m,\u001b[0m \u001b[0mNeighborsBase\u001b[0m\u001b[0;34m)\u001b[0m\u001b[0;34m)\u001b[0m\u001b[0;34m:\u001b[0m\u001b[0;34m\u001b[0m\u001b[0;34m\u001b[0m\u001b[0m\n\u001b[0;32m--> 363\u001b[0;31m                 X, y = self._validate_data(X, y, accept_sparse=\"csr\",\n\u001b[0m\u001b[1;32m    364\u001b[0m                                            multi_output=True)\n\u001b[1;32m    365\u001b[0m \u001b[0;34m\u001b[0m\u001b[0m\n",
      "\u001b[0;32m~/.local/lib/python3.8/site-packages/sklearn/base.py\u001b[0m in \u001b[0;36m_validate_data\u001b[0;34m(self, X, y, reset, validate_separately, **check_params)\u001b[0m\n\u001b[1;32m    431\u001b[0m                 \u001b[0my\u001b[0m \u001b[0;34m=\u001b[0m \u001b[0mcheck_array\u001b[0m\u001b[0;34m(\u001b[0m\u001b[0my\u001b[0m\u001b[0;34m,\u001b[0m \u001b[0;34m**\u001b[0m\u001b[0mcheck_y_params\u001b[0m\u001b[0;34m)\u001b[0m\u001b[0;34m\u001b[0m\u001b[0;34m\u001b[0m\u001b[0m\n\u001b[1;32m    432\u001b[0m             \u001b[0;32melse\u001b[0m\u001b[0;34m:\u001b[0m\u001b[0;34m\u001b[0m\u001b[0;34m\u001b[0m\u001b[0m\n\u001b[0;32m--> 433\u001b[0;31m                 \u001b[0mX\u001b[0m\u001b[0;34m,\u001b[0m \u001b[0my\u001b[0m \u001b[0;34m=\u001b[0m \u001b[0mcheck_X_y\u001b[0m\u001b[0;34m(\u001b[0m\u001b[0mX\u001b[0m\u001b[0;34m,\u001b[0m \u001b[0my\u001b[0m\u001b[0;34m,\u001b[0m \u001b[0;34m**\u001b[0m\u001b[0mcheck_params\u001b[0m\u001b[0;34m)\u001b[0m\u001b[0;34m\u001b[0m\u001b[0;34m\u001b[0m\u001b[0m\n\u001b[0m\u001b[1;32m    434\u001b[0m             \u001b[0mout\u001b[0m \u001b[0;34m=\u001b[0m \u001b[0mX\u001b[0m\u001b[0;34m,\u001b[0m \u001b[0my\u001b[0m\u001b[0;34m\u001b[0m\u001b[0;34m\u001b[0m\u001b[0m\n\u001b[1;32m    435\u001b[0m \u001b[0;34m\u001b[0m\u001b[0m\n",
      "\u001b[0;32m~/.local/lib/python3.8/site-packages/sklearn/utils/validation.py\u001b[0m in \u001b[0;36minner_f\u001b[0;34m(*args, **kwargs)\u001b[0m\n\u001b[1;32m     61\u001b[0m             \u001b[0mextra_args\u001b[0m \u001b[0;34m=\u001b[0m \u001b[0mlen\u001b[0m\u001b[0;34m(\u001b[0m\u001b[0margs\u001b[0m\u001b[0;34m)\u001b[0m \u001b[0;34m-\u001b[0m \u001b[0mlen\u001b[0m\u001b[0;34m(\u001b[0m\u001b[0mall_args\u001b[0m\u001b[0;34m)\u001b[0m\u001b[0;34m\u001b[0m\u001b[0;34m\u001b[0m\u001b[0m\n\u001b[1;32m     62\u001b[0m             \u001b[0;32mif\u001b[0m \u001b[0mextra_args\u001b[0m \u001b[0;34m<=\u001b[0m \u001b[0;36m0\u001b[0m\u001b[0;34m:\u001b[0m\u001b[0;34m\u001b[0m\u001b[0;34m\u001b[0m\u001b[0m\n\u001b[0;32m---> 63\u001b[0;31m                 \u001b[0;32mreturn\u001b[0m \u001b[0mf\u001b[0m\u001b[0;34m(\u001b[0m\u001b[0;34m*\u001b[0m\u001b[0margs\u001b[0m\u001b[0;34m,\u001b[0m \u001b[0;34m**\u001b[0m\u001b[0mkwargs\u001b[0m\u001b[0;34m)\u001b[0m\u001b[0;34m\u001b[0m\u001b[0;34m\u001b[0m\u001b[0m\n\u001b[0m\u001b[1;32m     64\u001b[0m \u001b[0;34m\u001b[0m\u001b[0m\n\u001b[1;32m     65\u001b[0m             \u001b[0;31m# extra_args > 0\u001b[0m\u001b[0;34m\u001b[0m\u001b[0;34m\u001b[0m\u001b[0;34m\u001b[0m\u001b[0m\n",
      "\u001b[0;32m~/.local/lib/python3.8/site-packages/sklearn/utils/validation.py\u001b[0m in \u001b[0;36mcheck_X_y\u001b[0;34m(X, y, accept_sparse, accept_large_sparse, dtype, order, copy, force_all_finite, ensure_2d, allow_nd, multi_output, ensure_min_samples, ensure_min_features, y_numeric, estimator)\u001b[0m\n\u001b[1;32m    869\u001b[0m         \u001b[0;32mraise\u001b[0m \u001b[0mValueError\u001b[0m\u001b[0;34m(\u001b[0m\u001b[0;34m\"y cannot be None\"\u001b[0m\u001b[0;34m)\u001b[0m\u001b[0;34m\u001b[0m\u001b[0;34m\u001b[0m\u001b[0m\n\u001b[1;32m    870\u001b[0m \u001b[0;34m\u001b[0m\u001b[0m\n\u001b[0;32m--> 871\u001b[0;31m     X = check_array(X, accept_sparse=accept_sparse,\n\u001b[0m\u001b[1;32m    872\u001b[0m                     \u001b[0maccept_large_sparse\u001b[0m\u001b[0;34m=\u001b[0m\u001b[0maccept_large_sparse\u001b[0m\u001b[0;34m,\u001b[0m\u001b[0;34m\u001b[0m\u001b[0;34m\u001b[0m\u001b[0m\n\u001b[1;32m    873\u001b[0m                     \u001b[0mdtype\u001b[0m\u001b[0;34m=\u001b[0m\u001b[0mdtype\u001b[0m\u001b[0;34m,\u001b[0m \u001b[0morder\u001b[0m\u001b[0;34m=\u001b[0m\u001b[0morder\u001b[0m\u001b[0;34m,\u001b[0m \u001b[0mcopy\u001b[0m\u001b[0;34m=\u001b[0m\u001b[0mcopy\u001b[0m\u001b[0;34m,\u001b[0m\u001b[0;34m\u001b[0m\u001b[0;34m\u001b[0m\u001b[0m\n",
      "\u001b[0;32m~/.local/lib/python3.8/site-packages/sklearn/utils/validation.py\u001b[0m in \u001b[0;36minner_f\u001b[0;34m(*args, **kwargs)\u001b[0m\n\u001b[1;32m     61\u001b[0m             \u001b[0mextra_args\u001b[0m \u001b[0;34m=\u001b[0m \u001b[0mlen\u001b[0m\u001b[0;34m(\u001b[0m\u001b[0margs\u001b[0m\u001b[0;34m)\u001b[0m \u001b[0;34m-\u001b[0m \u001b[0mlen\u001b[0m\u001b[0;34m(\u001b[0m\u001b[0mall_args\u001b[0m\u001b[0;34m)\u001b[0m\u001b[0;34m\u001b[0m\u001b[0;34m\u001b[0m\u001b[0m\n\u001b[1;32m     62\u001b[0m             \u001b[0;32mif\u001b[0m \u001b[0mextra_args\u001b[0m \u001b[0;34m<=\u001b[0m \u001b[0;36m0\u001b[0m\u001b[0;34m:\u001b[0m\u001b[0;34m\u001b[0m\u001b[0;34m\u001b[0m\u001b[0m\n\u001b[0;32m---> 63\u001b[0;31m                 \u001b[0;32mreturn\u001b[0m \u001b[0mf\u001b[0m\u001b[0;34m(\u001b[0m\u001b[0;34m*\u001b[0m\u001b[0margs\u001b[0m\u001b[0;34m,\u001b[0m \u001b[0;34m**\u001b[0m\u001b[0mkwargs\u001b[0m\u001b[0;34m)\u001b[0m\u001b[0;34m\u001b[0m\u001b[0;34m\u001b[0m\u001b[0m\n\u001b[0m\u001b[1;32m     64\u001b[0m \u001b[0;34m\u001b[0m\u001b[0m\n\u001b[1;32m     65\u001b[0m             \u001b[0;31m# extra_args > 0\u001b[0m\u001b[0;34m\u001b[0m\u001b[0;34m\u001b[0m\u001b[0;34m\u001b[0m\u001b[0m\n",
      "\u001b[0;32m~/.local/lib/python3.8/site-packages/sklearn/utils/validation.py\u001b[0m in \u001b[0;36mcheck_array\u001b[0;34m(array, accept_sparse, accept_large_sparse, dtype, order, copy, force_all_finite, ensure_2d, allow_nd, ensure_min_samples, ensure_min_features, estimator)\u001b[0m\n\u001b[1;32m    714\u001b[0m                     \"into decimal numbers with dtype='numeric'\") from e\n\u001b[1;32m    715\u001b[0m         \u001b[0;32mif\u001b[0m \u001b[0;32mnot\u001b[0m \u001b[0mallow_nd\u001b[0m \u001b[0;32mand\u001b[0m \u001b[0marray\u001b[0m\u001b[0;34m.\u001b[0m\u001b[0mndim\u001b[0m \u001b[0;34m>=\u001b[0m \u001b[0;36m3\u001b[0m\u001b[0;34m:\u001b[0m\u001b[0;34m\u001b[0m\u001b[0;34m\u001b[0m\u001b[0m\n\u001b[0;32m--> 716\u001b[0;31m             raise ValueError(\"Found array with dim %d. %s expected <= 2.\"\n\u001b[0m\u001b[1;32m    717\u001b[0m                              % (array.ndim, estimator_name))\n\u001b[1;32m    718\u001b[0m \u001b[0;34m\u001b[0m\u001b[0m\n",
      "\u001b[0;31mValueError\u001b[0m: Found array with dim 4. Estimator expected <= 2."
     ]
    }
   ],
   "source": [
    "from sklearn.neighbors import KNeighborsClassifier\n",
    "neigh = KNeighborsClassifier(n_neighbors=5,weights='distance',p=1,n_jobs=20)\n",
    "neigh.fit(x,y)"
   ]
  },
  {
   "cell_type": "code",
   "execution_count": null,
   "id": "470163db-d0fa-47a8-a270-3f6bb903ef95",
   "metadata": {},
   "outputs": [],
   "source": [
    "neigh.predict()"
   ]
  },
  {
   "cell_type": "code",
   "execution_count": 1,
   "id": "be96d372-5051-4daa-a8e4-13063fc35b19",
   "metadata": {},
   "outputs": [],
   "source": [
    "import os\n",
    "import numpy as np\n",
    "import pandas as pd\n",
    "import tensorflow as tf"
   ]
  },
  {
   "cell_type": "code",
   "execution_count": 2,
   "id": "c779087f-f8dc-4ac1-9eee-007e7bf1ec10",
   "metadata": {},
   "outputs": [],
   "source": [
    "data=pd.read_csv('/home/piyush/Downloads/archive (2)/HAM10000_metadata.csv')"
   ]
  },
  {
   "cell_type": "code",
   "execution_count": 3,
   "id": "aa9e2660-3d19-4b0f-bcd5-93363e917781",
   "metadata": {},
   "outputs": [],
   "source": [
    "s=['df','mel','bcc','nv','vasc','akiec','bkl']"
   ]
  },
  {
   "cell_type": "code",
   "execution_count": 4,
   "id": "fc62a38e-2b7b-4342-9c34-61a21e7972ce",
   "metadata": {},
   "outputs": [],
   "source": [
    "for i in s:\n",
    "  os.makedirs('/home/piyush/Downloads/skin/total/'+i)"
   ]
  },
  {
   "cell_type": "code",
   "execution_count": 5,
   "id": "427643f7-2a5c-4707-b3a5-4593989272b4",
   "metadata": {},
   "outputs": [],
   "source": [
    "import shutil\n",
    "for i in os.listdir('/home/piyush/Downloads/archive (2)/ham10000_images_part_2'):\n",
    "  shutil.move('/home/piyush/Downloads/archive (2)/ham10000_images_part_2/'+i,'/home/piyush/Downloads/archive (2)/ham10000_images_part_1/'+i)"
   ]
  },
  {
   "cell_type": "code",
   "execution_count": 6,
   "id": "c8686a79-b378-4bff-9068-6548bfae96b0",
   "metadata": {},
   "outputs": [],
   "source": [
    "for i in s:\n",
    "  for j in range(0,10015):\n",
    "    if i==data['dx'][j]:\n",
    "      shutil.copy('/home/piyush/Downloads/archive (2)/ham10000_images_part_1/'+data['image_id'][j]+'.jpg','/home/piyush/Downloads/skin/total/'+i+'/'+data['image_id'][j]+'.jpg')"
   ]
  },
  {
   "cell_type": "code",
   "execution_count": 7,
   "id": "dd3f192f-2804-4ff1-8ab4-e693e4706102",
   "metadata": {},
   "outputs": [
    {
     "name": "stdout",
     "output_type": "stream",
     "text": [
      "115\n",
      "1113\n",
      "514\n",
      "6705\n",
      "142\n",
      "327\n",
      "1099\n"
     ]
    }
   ],
   "source": [
    "for i in s:\n",
    "  print(len(os.listdir('/home/piyush/Downloads/skin/total/'+i)))"
   ]
  },
  {
   "cell_type": "code",
   "execution_count": 8,
   "id": "538904ab-726b-42f8-85fd-502b3c9a1cd1",
   "metadata": {},
   "outputs": [],
   "source": [
    "import matplotlib.pyplot as plt\n",
    "from tensorflow.keras.preprocessing import image\n",
    "import cv2\n",
    "X=[]\n",
    "y=[]\n",
    "dic={'df':0,'mel':1,'bcc':2,'nv':3,'vasc':4,'akiec':5,'bkl':6}\n",
    "for i in s:\n",
    "  for j in os.listdir('/home/piyush/Downloads/skin/total/'+i):\n",
    "    img = os.path.join('/home/piyush/Downloads/skin/total/'+i, j)\n",
    "    img = image.load_img(img, target_size=(84,84),color_mode='rgb')\n",
    "    img = image.img_to_array(img)\n",
    "    X.append(img)\n",
    "    y.append(dic[i])"
   ]
  },
  {
   "cell_type": "code",
   "execution_count": 9,
   "id": "ebb0aa72-7fa5-43f4-b681-0f527ae80825",
   "metadata": {},
   "outputs": [],
   "source": [
    "X=np.asarray(X)/255\n",
    "y=np.asarray(y)"
   ]
  },
  {
   "cell_type": "code",
   "execution_count": 10,
   "id": "c0f4a291-9749-4bbc-8c81-acd5ed3d70e9",
   "metadata": {},
   "outputs": [
    {
     "data": {
      "text/plain": [
       "(10015, 84, 84, 3)"
      ]
     },
     "execution_count": 10,
     "metadata": {},
     "output_type": "execute_result"
    }
   ],
   "source": [
    "X.shape"
   ]
  },
  {
   "cell_type": "code",
   "execution_count": 11,
   "id": "b3e74db0-2473-431f-a739-c14f334faa46",
   "metadata": {},
   "outputs": [
    {
     "data": {
      "text/plain": [
       "array([[[0.6901961 , 0.6156863 , 0.6313726 ],\n",
       "        [0.6901961 , 0.60784316, 0.627451  ],\n",
       "        [0.7058824 , 0.62352943, 0.6431373 ],\n",
       "        ...,\n",
       "        [0.6156863 , 0.5529412 , 0.6039216 ],\n",
       "        [0.62352943, 0.56078434, 0.6117647 ],\n",
       "        [0.62352943, 0.54901963, 0.62352943]],\n",
       "\n",
       "       [[0.67058825, 0.57254905, 0.59607846],\n",
       "        [0.6666667 , 0.58431375, 0.61960787],\n",
       "        [0.6901961 , 0.60784316, 0.6431373 ],\n",
       "        ...,\n",
       "        [0.62352943, 0.56078434, 0.6117647 ],\n",
       "        [0.61960787, 0.54901963, 0.6039216 ],\n",
       "        [0.6039216 , 0.5372549 , 0.6       ]],\n",
       "\n",
       "       [[0.68235296, 0.5764706 , 0.59607846],\n",
       "        [0.6862745 , 0.62352943, 0.63529414],\n",
       "        [0.65882355, 0.5803922 , 0.5882353 ],\n",
       "        ...,\n",
       "        [0.627451  , 0.5647059 , 0.6156863 ],\n",
       "        [0.6039216 , 0.5411765 , 0.5921569 ],\n",
       "        [0.5921569 , 0.5176471 , 0.5921569 ]],\n",
       "\n",
       "       ...,\n",
       "\n",
       "       [[0.59607846, 0.5411765 , 0.60784316],\n",
       "        [0.59607846, 0.5294118 , 0.5921569 ],\n",
       "        [0.59607846, 0.5294118 , 0.5921569 ],\n",
       "        ...,\n",
       "        [0.5882353 , 0.5254902 , 0.5647059 ],\n",
       "        [0.57254905, 0.49019608, 0.50980395],\n",
       "        [0.54901963, 0.47058824, 0.4745098 ]],\n",
       "\n",
       "       [[0.58431375, 0.5176471 , 0.5882353 ],\n",
       "        [0.59607846, 0.5254902 , 0.5803922 ],\n",
       "        [0.6039216 , 0.5372549 , 0.6       ],\n",
       "        ...,\n",
       "        [0.57254905, 0.50980395, 0.5529412 ],\n",
       "        [0.56078434, 0.47843137, 0.5137255 ],\n",
       "        [0.54509807, 0.4627451 , 0.49803922]],\n",
       "\n",
       "       [[0.5686275 , 0.5058824 , 0.5568628 ],\n",
       "        [0.5686275 , 0.5058824 , 0.54901963],\n",
       "        [0.5803922 , 0.5176471 , 0.5686275 ],\n",
       "        ...,\n",
       "        [0.5764706 , 0.5137255 , 0.5529412 ],\n",
       "        [0.56078434, 0.5019608 , 0.52156866],\n",
       "        [0.5411765 , 0.4509804 , 0.4745098 ]]], dtype=float32)"
      ]
     },
     "execution_count": 11,
     "metadata": {},
     "output_type": "execute_result"
    }
   ],
   "source": [
    "X[0]"
   ]
  },
  {
   "cell_type": "code",
   "execution_count": 12,
   "id": "b1f535d8-f3a3-479b-8072-224fddc3308f",
   "metadata": {},
   "outputs": [],
   "source": [
    "from imblearn.over_sampling import ADASYN "
   ]
  },
  {
   "cell_type": "code",
   "execution_count": 13,
   "id": "636483c1-e98d-4aea-abb3-043f8ff525a0",
   "metadata": {},
   "outputs": [],
   "source": [
    "nsamples, nx, ny ,z= X.shape\n",
    "X= X.reshape((nsamples,nx*ny*z))\n",
    "sm =ADASYN(random_state=42)\n",
    "X,y = sm.fit_resample(X, y)"
   ]
  },
  {
   "cell_type": "code",
   "execution_count": 14,
   "id": "2d6ce3df-6852-4d2a-9be5-ef605886f8fa",
   "metadata": {},
   "outputs": [],
   "source": [
    "from numpy import save\n",
    "save('skindata.npy',X)\n",
    "save('skinlabel.npy',y)"
   ]
  },
  {
   "cell_type": "code",
   "execution_count": 27,
   "id": "581cad98-8a0a-47b8-8a70-7e0d584d4c11",
   "metadata": {},
   "outputs": [
    {
     "data": {
      "text/plain": [
       "(47012, 112, 112, 3)"
      ]
     },
     "execution_count": 27,
     "metadata": {},
     "output_type": "execute_result"
    }
   ],
   "source": [
    "X=np.asarray(X).reshape(-18,84,3)\n",
    "X.shape"
   ]
  },
  {
   "cell_type": "code",
   "execution_count": null,
   "id": "dcdde088-f316-40f5-b5d1-a627c1806584",
   "metadata": {},
   "outputs": [],
   "source": [
    "from sklearn.model_selection import train_test_split\n",
    "X_train,X_val,y_train,y_val=train_test_split(X,y,test_size=0.2,random_state=42)"
   ]
  },
  {
   "cell_type": "code",
   "execution_count": null,
   "id": "5dd01a61-083e-4664-9c15-7a07bdf3e15c",
   "metadata": {},
   "outputs": [],
   "source": []
  },
  {
   "cell_type": "code",
   "execution_count": null,
   "id": "a14b6a82-9efb-4308-a198-e25587f6d4f4",
   "metadata": {},
   "outputs": [],
   "source": []
  },
  {
   "cell_type": "code",
   "execution_count": null,
   "id": "c8df2baa-caf2-4532-854d-9061b2ab5e66",
   "metadata": {},
   "outputs": [],
   "source": []
  },
  {
   "cell_type": "code",
   "execution_count": 1,
   "id": "5e44d061-3a32-41a2-a2c0-92fe2c0bd5f6",
   "metadata": {},
   "outputs": [],
   "source": [
    "import tensorflow as tf\n",
    "import numpy as np\n",
    "from tensorflow.keras.models import load_model"
   ]
  },
  {
   "cell_type": "code",
   "execution_count": 12,
   "id": "0f497963-067b-4b55-aa31-0ed52654aae4",
   "metadata": {},
   "outputs": [],
   "source": [
    "model=load_model('/home/piyush/Downloads/mobile_skin.h5')"
   ]
  },
  {
   "cell_type": "code",
   "execution_count": 53,
   "id": "70e4a965-b289-4b12-ab0f-c2630b4b9c35",
   "metadata": {},
   "outputs": [],
   "source": [
    "import os\n",
    "c=0\n",
    "f=0\n",
    "\n",
    "y_p=[]\n",
    "y_true=[]\n",
    "\n",
    "for i in os.listdir('/home/piyush/Downloads/cancer dataset/test/malignant'):\n",
    "    try:\n",
    "        #print(i)\n",
    "        img = image.load_img('/home/piyush/Downloads/cancer dataset/test/malignant/'+str(i), target_size=(180,180))\n",
    "        img = image.img_to_array(img)\n",
    "        img = np.expand_dims(img, axis=0) \n",
    "        y_pred=model.predict(img)\n",
    "        #print(y_pred)\n",
    "        f=f+1\n",
    "        if(y_pred>=0.5):\n",
    "            c=c+1\n",
    "            y_p.append(1)\n",
    "        else:\n",
    "            y_p.append(0)\n",
    "        y_true.append(1)\n",
    "    except:\n",
    "        pass"
   ]
  },
  {
   "cell_type": "code",
   "execution_count": 54,
   "id": "802db99c-823d-4157-828d-bfce6ec9d039",
   "metadata": {},
   "outputs": [
    {
     "data": {
      "text/plain": [
       "300"
      ]
     },
     "execution_count": 54,
     "metadata": {},
     "output_type": "execute_result"
    }
   ],
   "source": [
    "len(y_p)"
   ]
  },
  {
   "cell_type": "code",
   "execution_count": 55,
   "id": "b2efcefe-c7d3-40a2-a5e4-137ece20c798",
   "metadata": {},
   "outputs": [
    {
     "data": {
      "text/plain": [
       "300"
      ]
     },
     "execution_count": 55,
     "metadata": {},
     "output_type": "execute_result"
    }
   ],
   "source": [
    "len(y_true)"
   ]
  },
  {
   "cell_type": "code",
   "execution_count": 56,
   "id": "cc82e944-59a4-4337-8e25-5d623da029ef",
   "metadata": {},
   "outputs": [
    {
     "name": "stdout",
     "output_type": "stream",
     "text": [
      "361\n",
      "16\n"
     ]
    }
   ],
   "source": [
    "c=0\n",
    "print(len(os.listdir('/home/piyush/Downloads/cancer dataset/test/benign')))\n",
    "for i in os.listdir('/home/piyush/Downloads/cancer dataset/test/benign'):\n",
    "    try:\n",
    "        img = image.load_img('/home/piyush/Downloads/cancer dataset/test/benign/'+str(i), target_size=(180,180))\n",
    "        img = image.img_to_array(img)\n",
    "        img = np.expand_dims(img, axis=0) \n",
    "        y_pred=model.predict(img)\n",
    "        #print(y_pred)\n",
    "        if(y_pred>=0.5):\n",
    "            c=c+1\n",
    "            y_p.append(0)\n",
    "        else:\n",
    "            y_p.append(1)\n",
    "        y_true.append(0)\n",
    "    except:\n",
    "        pass\n",
    "print(c)"
   ]
  },
  {
   "cell_type": "code",
   "execution_count": 57,
   "id": "4f9a850b-25fe-497e-910d-1c585ead9e63",
   "metadata": {},
   "outputs": [
    {
     "name": "stdout",
     "output_type": "stream",
     "text": [
      "660\n",
      "660\n"
     ]
    }
   ],
   "source": [
    "print(len(y_p))\n",
    "print(len(y_true))"
   ]
  },
  {
   "cell_type": "code",
   "execution_count": 35,
   "id": "5bea471a-3b4b-4873-9d64-a9645046811b",
   "metadata": {},
   "outputs": [
    {
     "data": {
      "text/plain": [
       "0.47783251231527096"
      ]
     },
     "execution_count": 35,
     "metadata": {},
     "output_type": "execute_result"
    }
   ],
   "source": [
    "from sklearn.metrics import f1_score\n",
    "f1_score(y_p, y_true)\n",
    "#mobile_skin"
   ]
  },
  {
   "cell_type": "code",
   "execution_count": 42,
   "id": "96446d39-6206-4ef2-9f3f-28a41daaadca",
   "metadata": {},
   "outputs": [
    {
     "data": {
      "text/plain": [
       "0.639618138424821"
      ]
     },
     "execution_count": 42,
     "metadata": {},
     "output_type": "execute_result"
    }
   ],
   "source": [
    "#distorted_skin\n",
    "f1_score(y_p, y_true)"
   ]
  },
  {
   "cell_type": "code",
   "execution_count": 58,
   "id": "674001d5-6717-4b44-8d5e-6664415b1b53",
   "metadata": {},
   "outputs": [
    {
     "data": {
      "text/plain": [
       "0.43878787878787884"
      ]
     },
     "execution_count": 58,
     "metadata": {},
     "output_type": "execute_result"
    }
   ],
   "source": [
    "#resnet_skin\n",
    "f1_score(y_p, y_true)"
   ]
  },
  {
   "cell_type": "code",
   "execution_count": null,
   "id": "5e80db2c-5965-470d-9538-56ae25e3a488",
   "metadata": {},
   "outputs": [],
   "source": []
  },
  {
   "cell_type": "code",
   "execution_count": null,
   "id": "9b6e738d-0882-4ff2-a936-757672884d4c",
   "metadata": {},
   "outputs": [],
   "source": []
  },
  {
   "cell_type": "code",
   "execution_count": 1,
   "id": "ea4b630f-847b-4ad1-8b27-5c48261e6014",
   "metadata": {},
   "outputs": [],
   "source": [
    "import csv"
   ]
  },
  {
   "cell_type": "code",
   "execution_count": 3,
   "id": "6698850b-6a99-413b-ac70-d8c8659a6950",
   "metadata": {},
   "outputs": [],
   "source": [
    "file = open('/home/piyush/Downloads/archive/GroundTruth.csv')"
   ]
  },
  {
   "cell_type": "code",
   "execution_count": 4,
   "id": "dd97d599-bf14-433c-814b-d944b5dd00dd",
   "metadata": {},
   "outputs": [],
   "source": [
    "csvreader = csv.reader(file)"
   ]
  },
  {
   "cell_type": "code",
   "execution_count": 5,
   "id": "621f7373-a345-47fe-969c-13c3da947b9e",
   "metadata": {},
   "outputs": [
    {
     "data": {
      "text/plain": [
       "['image', 'MEL', 'NV', 'BCC', 'AKIEC', 'BKL', 'DF', 'VASC']"
      ]
     },
     "execution_count": 5,
     "metadata": {},
     "output_type": "execute_result"
    }
   ],
   "source": [
    "header = []\n",
    "header = next(csvreader)\n",
    "header"
   ]
  },
  {
   "cell_type": "code",
   "execution_count": 6,
   "id": "1b478356-c71e-4e26-b6ed-fbe2c6b62ce0",
   "metadata": {},
   "outputs": [
    {
     "data": {
      "text/plain": [
       "[['ISIC_0024306', '0.0', '1.0', '0.0', '0.0', '0.0', '0.0', '0.0'],\n",
       " ['ISIC_0024307', '0.0', '1.0', '0.0', '0.0', '0.0', '0.0', '0.0'],\n",
       " ['ISIC_0024308', '0.0', '1.0', '0.0', '0.0', '0.0', '0.0', '0.0'],\n",
       " ['ISIC_0024309', '0.0', '1.0', '0.0', '0.0', '0.0', '0.0', '0.0'],\n",
       " ['ISIC_0024310', '1.0', '0.0', '0.0', '0.0', '0.0', '0.0', '0.0'],\n",
       " ['ISIC_0024311', '0.0', '1.0', '0.0', '0.0', '0.0', '0.0', '0.0'],\n",
       " ['ISIC_0024312', '0.0', '0.0', '0.0', '0.0', '1.0', '0.0', '0.0'],\n",
       " ['ISIC_0024313', '1.0', '0.0', '0.0', '0.0', '0.0', '0.0', '0.0'],\n",
       " ['ISIC_0024314', '0.0', '1.0', '0.0', '0.0', '0.0', '0.0', '0.0'],\n",
       " ['ISIC_0024315', '1.0', '0.0', '0.0', '0.0', '0.0', '0.0', '0.0'],\n",
       " ['ISIC_0024316', '0.0', '1.0', '0.0', '0.0', '0.0', '0.0', '0.0'],\n",
       " ['ISIC_0024317', '0.0', '1.0', '0.0', '0.0', '0.0', '0.0', '0.0'],\n",
       " ['ISIC_0024318', '0.0', '0.0', '0.0', '0.0', '0.0', '1.0', '0.0'],\n",
       " ['ISIC_0024319', '0.0', '1.0', '0.0', '0.0', '0.0', '0.0', '0.0'],\n",
       " ['ISIC_0024320', '0.0', '1.0', '0.0', '0.0', '0.0', '0.0', '0.0'],\n",
       " ['ISIC_0024321', '0.0', '1.0', '0.0', '0.0', '0.0', '0.0', '0.0'],\n",
       " ['ISIC_0024322', '0.0', '1.0', '0.0', '0.0', '0.0', '0.0', '0.0'],\n",
       " ['ISIC_0024323', '1.0', '0.0', '0.0', '0.0', '0.0', '0.0', '0.0'],\n",
       " ['ISIC_0024324', '0.0', '0.0', '0.0', '0.0', '1.0', '0.0', '0.0'],\n",
       " ['ISIC_0024325', '0.0', '1.0', '0.0', '0.0', '0.0', '0.0', '0.0'],\n",
       " ['ISIC_0024326', '0.0', '1.0', '0.0', '0.0', '0.0', '0.0', '0.0'],\n",
       " ['ISIC_0024327', '0.0', '1.0', '0.0', '0.0', '0.0', '0.0', '0.0'],\n",
       " ['ISIC_0024328', '0.0', '1.0', '0.0', '0.0', '0.0', '0.0', '0.0'],\n",
       " ['ISIC_0024329', '0.0', '0.0', '0.0', '1.0', '0.0', '0.0', '0.0'],\n",
       " ['ISIC_0024330', '0.0', '0.0', '0.0', '0.0', '0.0', '1.0', '0.0'],\n",
       " ['ISIC_0024331', '0.0', '0.0', '1.0', '0.0', '0.0', '0.0', '0.0'],\n",
       " ['ISIC_0024332', '0.0', '0.0', '1.0', '0.0', '0.0', '0.0', '0.0'],\n",
       " ['ISIC_0024333', '1.0', '0.0', '0.0', '0.0', '0.0', '0.0', '0.0'],\n",
       " ['ISIC_0024334', '0.0', '1.0', '0.0', '0.0', '0.0', '0.0', '0.0'],\n",
       " ['ISIC_0024335', '0.0', '1.0', '0.0', '0.0', '0.0', '0.0', '0.0'],\n",
       " ['ISIC_0024336', '0.0', '0.0', '0.0', '0.0', '1.0', '0.0', '0.0'],\n",
       " ['ISIC_0024337', '0.0', '0.0', '0.0', '0.0', '1.0', '0.0', '0.0'],\n",
       " ['ISIC_0024338', '0.0', '0.0', '0.0', '0.0', '1.0', '0.0', '0.0'],\n",
       " ['ISIC_0024339', '0.0', '1.0', '0.0', '0.0', '0.0', '0.0', '0.0'],\n",
       " ['ISIC_0024340', '0.0', '1.0', '0.0', '0.0', '0.0', '0.0', '0.0'],\n",
       " ['ISIC_0024341', '0.0', '1.0', '0.0', '0.0', '0.0', '0.0', '0.0'],\n",
       " ['ISIC_0024342', '0.0', '1.0', '0.0', '0.0', '0.0', '0.0', '0.0'],\n",
       " ['ISIC_0024343', '0.0', '1.0', '0.0', '0.0', '0.0', '0.0', '0.0'],\n",
       " ['ISIC_0024344', '0.0', '1.0', '0.0', '0.0', '0.0', '0.0', '0.0'],\n",
       " ['ISIC_0024345', '0.0', '0.0', '1.0', '0.0', '0.0', '0.0', '0.0'],\n",
       " ['ISIC_0024346', '0.0', '1.0', '0.0', '0.0', '0.0', '0.0', '0.0'],\n",
       " ['ISIC_0024347', '0.0', '1.0', '0.0', '0.0', '0.0', '0.0', '0.0'],\n",
       " ['ISIC_0024348', '0.0', '1.0', '0.0', '0.0', '0.0', '0.0', '0.0'],\n",
       " ['ISIC_0024349', '0.0', '1.0', '0.0', '0.0', '0.0', '0.0', '0.0'],\n",
       " ['ISIC_0024350', '0.0', '1.0', '0.0', '0.0', '0.0', '0.0', '0.0'],\n",
       " ['ISIC_0024351', '1.0', '0.0', '0.0', '0.0', '0.0', '0.0', '0.0'],\n",
       " ['ISIC_0024352', '0.0', '1.0', '0.0', '0.0', '0.0', '0.0', '0.0'],\n",
       " ['ISIC_0024353', '0.0', '1.0', '0.0', '0.0', '0.0', '0.0', '0.0'],\n",
       " ['ISIC_0024354', '0.0', '1.0', '0.0', '0.0', '0.0', '0.0', '0.0'],\n",
       " ['ISIC_0024355', '0.0', '1.0', '0.0', '0.0', '0.0', '0.0', '0.0'],\n",
       " ['ISIC_0024356', '0.0', '1.0', '0.0', '0.0', '0.0', '0.0', '0.0'],\n",
       " ['ISIC_0024357', '0.0', '1.0', '0.0', '0.0', '0.0', '0.0', '0.0'],\n",
       " ['ISIC_0024358', '0.0', '0.0', '0.0', '0.0', '1.0', '0.0', '0.0'],\n",
       " ['ISIC_0024359', '0.0', '1.0', '0.0', '0.0', '0.0', '0.0', '0.0'],\n",
       " ['ISIC_0024360', '0.0', '0.0', '1.0', '0.0', '0.0', '0.0', '0.0'],\n",
       " ['ISIC_0024361', '0.0', '1.0', '0.0', '0.0', '0.0', '0.0', '0.0'],\n",
       " ['ISIC_0024362', '0.0', '1.0', '0.0', '0.0', '0.0', '0.0', '0.0'],\n",
       " ['ISIC_0024363', '0.0', '1.0', '0.0', '0.0', '0.0', '0.0', '0.0'],\n",
       " ['ISIC_0024364', '0.0', '1.0', '0.0', '0.0', '0.0', '0.0', '0.0'],\n",
       " ['ISIC_0024365', '0.0', '1.0', '0.0', '0.0', '0.0', '0.0', '0.0'],\n",
       " ['ISIC_0024366', '0.0', '1.0', '0.0', '0.0', '0.0', '0.0', '0.0'],\n",
       " ['ISIC_0024367', '1.0', '0.0', '0.0', '0.0', '0.0', '0.0', '0.0'],\n",
       " ['ISIC_0024368', '0.0', '1.0', '0.0', '0.0', '0.0', '0.0', '0.0'],\n",
       " ['ISIC_0024369', '0.0', '1.0', '0.0', '0.0', '0.0', '0.0', '0.0'],\n",
       " ['ISIC_0024370', '0.0', '0.0', '0.0', '0.0', '0.0', '0.0', '1.0'],\n",
       " ['ISIC_0024371', '0.0', '0.0', '0.0', '0.0', '1.0', '0.0', '0.0'],\n",
       " ['ISIC_0024372', '0.0', '0.0', '0.0', '1.0', '0.0', '0.0', '0.0'],\n",
       " ['ISIC_0024373', '0.0', '1.0', '0.0', '0.0', '0.0', '0.0', '0.0'],\n",
       " ['ISIC_0024374', '0.0', '1.0', '0.0', '0.0', '0.0', '0.0', '0.0'],\n",
       " ['ISIC_0024375', '0.0', '0.0', '0.0', '0.0', '0.0', '0.0', '1.0'],\n",
       " ['ISIC_0024376', '0.0', '1.0', '0.0', '0.0', '0.0', '0.0', '0.0'],\n",
       " ['ISIC_0024377', '0.0', '1.0', '0.0', '0.0', '0.0', '0.0', '0.0'],\n",
       " ['ISIC_0024378', '0.0', '1.0', '0.0', '0.0', '0.0', '0.0', '0.0'],\n",
       " ['ISIC_0024379', '0.0', '1.0', '0.0', '0.0', '0.0', '0.0', '0.0'],\n",
       " ['ISIC_0024380', '0.0', '1.0', '0.0', '0.0', '0.0', '0.0', '0.0'],\n",
       " ['ISIC_0024381', '0.0', '0.0', '0.0', '0.0', '1.0', '0.0', '0.0'],\n",
       " ['ISIC_0024382', '0.0', '0.0', '0.0', '0.0', '1.0', '0.0', '0.0'],\n",
       " ['ISIC_0024383', '0.0', '0.0', '0.0', '0.0', '1.0', '0.0', '0.0'],\n",
       " ['ISIC_0024384', '0.0', '1.0', '0.0', '0.0', '0.0', '0.0', '0.0'],\n",
       " ['ISIC_0024385', '0.0', '1.0', '0.0', '0.0', '0.0', '0.0', '0.0'],\n",
       " ['ISIC_0024386', '0.0', '0.0', '0.0', '0.0', '0.0', '1.0', '0.0'],\n",
       " ['ISIC_0024387', '0.0', '1.0', '0.0', '0.0', '0.0', '0.0', '0.0'],\n",
       " ['ISIC_0024388', '0.0', '1.0', '0.0', '0.0', '0.0', '0.0', '0.0'],\n",
       " ['ISIC_0024389', '0.0', '1.0', '0.0', '0.0', '0.0', '0.0', '0.0'],\n",
       " ['ISIC_0024390', '0.0', '1.0', '0.0', '0.0', '0.0', '0.0', '0.0'],\n",
       " ['ISIC_0024391', '0.0', '1.0', '0.0', '0.0', '0.0', '0.0', '0.0'],\n",
       " ['ISIC_0024392', '0.0', '1.0', '0.0', '0.0', '0.0', '0.0', '0.0'],\n",
       " ['ISIC_0024393', '0.0', '1.0', '0.0', '0.0', '0.0', '0.0', '0.0'],\n",
       " ['ISIC_0024394', '0.0', '1.0', '0.0', '0.0', '0.0', '0.0', '0.0'],\n",
       " ['ISIC_0024395', '0.0', '1.0', '0.0', '0.0', '0.0', '0.0', '0.0'],\n",
       " ['ISIC_0024396', '0.0', '0.0', '0.0', '0.0', '0.0', '1.0', '0.0'],\n",
       " ['ISIC_0024397', '0.0', '1.0', '0.0', '0.0', '0.0', '0.0', '0.0'],\n",
       " ['ISIC_0024398', '0.0', '1.0', '0.0', '0.0', '0.0', '0.0', '0.0'],\n",
       " ['ISIC_0024399', '0.0', '1.0', '0.0', '0.0', '0.0', '0.0', '0.0'],\n",
       " ['ISIC_0024400', '1.0', '0.0', '0.0', '0.0', '0.0', '0.0', '0.0'],\n",
       " ['ISIC_0024401', '0.0', '1.0', '0.0', '0.0', '0.0', '0.0', '0.0'],\n",
       " ['ISIC_0024402', '0.0', '0.0', '0.0', '0.0', '0.0', '0.0', '1.0'],\n",
       " ['ISIC_0024403', '0.0', '0.0', '1.0', '0.0', '0.0', '0.0', '0.0'],\n",
       " ['ISIC_0024404', '0.0', '1.0', '0.0', '0.0', '0.0', '0.0', '0.0'],\n",
       " ['ISIC_0024405', '0.0', '1.0', '0.0', '0.0', '0.0', '0.0', '0.0'],\n",
       " ['ISIC_0024406', '0.0', '1.0', '0.0', '0.0', '0.0', '0.0', '0.0'],\n",
       " ['ISIC_0024407', '0.0', '1.0', '0.0', '0.0', '0.0', '0.0', '0.0'],\n",
       " ['ISIC_0024408', '0.0', '0.0', '0.0', '0.0', '1.0', '0.0', '0.0'],\n",
       " ['ISIC_0024409', '0.0', '0.0', '0.0', '0.0', '1.0', '0.0', '0.0'],\n",
       " ['ISIC_0024410', '1.0', '0.0', '0.0', '0.0', '0.0', '0.0', '0.0'],\n",
       " ['ISIC_0024411', '0.0', '0.0', '1.0', '0.0', '0.0', '0.0', '0.0'],\n",
       " ['ISIC_0024412', '0.0', '0.0', '0.0', '0.0', '1.0', '0.0', '0.0'],\n",
       " ['ISIC_0024413', '0.0', '1.0', '0.0', '0.0', '0.0', '0.0', '0.0'],\n",
       " ['ISIC_0024414', '0.0', '1.0', '0.0', '0.0', '0.0', '0.0', '0.0'],\n",
       " ['ISIC_0024415', '0.0', '1.0', '0.0', '0.0', '0.0', '0.0', '0.0'],\n",
       " ['ISIC_0024416', '0.0', '1.0', '0.0', '0.0', '0.0', '0.0', '0.0'],\n",
       " ['ISIC_0024417', '0.0', '1.0', '0.0', '0.0', '0.0', '0.0', '0.0'],\n",
       " ['ISIC_0024418', '0.0', '0.0', '0.0', '1.0', '0.0', '0.0', '0.0'],\n",
       " ['ISIC_0024419', '0.0', '1.0', '0.0', '0.0', '0.0', '0.0', '0.0'],\n",
       " ['ISIC_0024420', '0.0', '0.0', '0.0', '0.0', '1.0', '0.0', '0.0'],\n",
       " ['ISIC_0024421', '0.0', '1.0', '0.0', '0.0', '0.0', '0.0', '0.0'],\n",
       " ['ISIC_0024422', '0.0', '0.0', '0.0', '0.0', '1.0', '0.0', '0.0'],\n",
       " ['ISIC_0024423', '0.0', '1.0', '0.0', '0.0', '0.0', '0.0', '0.0'],\n",
       " ['ISIC_0024424', '0.0', '1.0', '0.0', '0.0', '0.0', '0.0', '0.0'],\n",
       " ['ISIC_0024425', '0.0', '1.0', '0.0', '0.0', '0.0', '0.0', '0.0'],\n",
       " ['ISIC_0024426', '0.0', '0.0', '0.0', '0.0', '1.0', '0.0', '0.0'],\n",
       " ['ISIC_0024427', '0.0', '1.0', '0.0', '0.0', '0.0', '0.0', '0.0'],\n",
       " ['ISIC_0024428', '0.0', '1.0', '0.0', '0.0', '0.0', '0.0', '0.0'],\n",
       " ['ISIC_0024429', '0.0', '1.0', '0.0', '0.0', '0.0', '0.0', '0.0'],\n",
       " ['ISIC_0024430', '0.0', '1.0', '0.0', '0.0', '0.0', '0.0', '0.0'],\n",
       " ['ISIC_0024431', '0.0', '0.0', '1.0', '0.0', '0.0', '0.0', '0.0'],\n",
       " ['ISIC_0024432', '0.0', '0.0', '1.0', '0.0', '0.0', '0.0', '0.0'],\n",
       " ['ISIC_0024433', '0.0', '1.0', '0.0', '0.0', '0.0', '0.0', '0.0'],\n",
       " ['ISIC_0024434', '0.0', '1.0', '0.0', '0.0', '0.0', '0.0', '0.0'],\n",
       " ['ISIC_0024435', '0.0', '0.0', '0.0', '0.0', '1.0', '0.0', '0.0'],\n",
       " ['ISIC_0024436', '0.0', '0.0', '1.0', '0.0', '0.0', '0.0', '0.0'],\n",
       " ['ISIC_0024437', '0.0', '1.0', '0.0', '0.0', '0.0', '0.0', '0.0'],\n",
       " ['ISIC_0024438', '0.0', '1.0', '0.0', '0.0', '0.0', '0.0', '0.0'],\n",
       " ['ISIC_0024439', '0.0', '1.0', '0.0', '0.0', '0.0', '0.0', '0.0'],\n",
       " ['ISIC_0024440', '0.0', '1.0', '0.0', '0.0', '0.0', '0.0', '0.0'],\n",
       " ['ISIC_0024441', '0.0', '1.0', '0.0', '0.0', '0.0', '0.0', '0.0'],\n",
       " ['ISIC_0024442', '0.0', '1.0', '0.0', '0.0', '0.0', '0.0', '0.0'],\n",
       " ['ISIC_0024443', '0.0', '0.0', '1.0', '0.0', '0.0', '0.0', '0.0'],\n",
       " ['ISIC_0024444', '0.0', '1.0', '0.0', '0.0', '0.0', '0.0', '0.0'],\n",
       " ['ISIC_0024445', '0.0', '0.0', '0.0', '0.0', '1.0', '0.0', '0.0'],\n",
       " ['ISIC_0024446', '0.0', '0.0', '0.0', '0.0', '1.0', '0.0', '0.0'],\n",
       " ['ISIC_0024447', '0.0', '1.0', '0.0', '0.0', '0.0', '0.0', '0.0'],\n",
       " ['ISIC_0024448', '0.0', '0.0', '1.0', '0.0', '0.0', '0.0', '0.0'],\n",
       " ['ISIC_0024449', '1.0', '0.0', '0.0', '0.0', '0.0', '0.0', '0.0'],\n",
       " ['ISIC_0024450', '0.0', '0.0', '0.0', '1.0', '0.0', '0.0', '0.0'],\n",
       " ['ISIC_0024451', '0.0', '1.0', '0.0', '0.0', '0.0', '0.0', '0.0'],\n",
       " ['ISIC_0024452', '0.0', '0.0', '1.0', '0.0', '0.0', '0.0', '0.0'],\n",
       " ['ISIC_0024453', '0.0', '0.0', '0.0', '0.0', '1.0', '0.0', '0.0'],\n",
       " ['ISIC_0024454', '0.0', '0.0', '1.0', '0.0', '0.0', '0.0', '0.0'],\n",
       " ['ISIC_0024455', '0.0', '1.0', '0.0', '0.0', '0.0', '0.0', '0.0'],\n",
       " ['ISIC_0024456', '0.0', '1.0', '0.0', '0.0', '0.0', '0.0', '0.0'],\n",
       " ['ISIC_0024457', '0.0', '0.0', '1.0', '0.0', '0.0', '0.0', '0.0'],\n",
       " ['ISIC_0024458', '0.0', '1.0', '0.0', '0.0', '0.0', '0.0', '0.0'],\n",
       " ['ISIC_0024459', '1.0', '0.0', '0.0', '0.0', '0.0', '0.0', '0.0'],\n",
       " ['ISIC_0024460', '0.0', '1.0', '0.0', '0.0', '0.0', '0.0', '0.0'],\n",
       " ['ISIC_0024461', '0.0', '0.0', '1.0', '0.0', '0.0', '0.0', '0.0'],\n",
       " ['ISIC_0024462', '0.0', '1.0', '0.0', '0.0', '0.0', '0.0', '0.0'],\n",
       " ['ISIC_0024463', '0.0', '0.0', '0.0', '1.0', '0.0', '0.0', '0.0'],\n",
       " ['ISIC_0024464', '0.0', '1.0', '0.0', '0.0', '0.0', '0.0', '0.0'],\n",
       " ['ISIC_0024465', '0.0', '1.0', '0.0', '0.0', '0.0', '0.0', '0.0'],\n",
       " ['ISIC_0024466', '0.0', '1.0', '0.0', '0.0', '0.0', '0.0', '0.0'],\n",
       " ['ISIC_0024467', '0.0', '1.0', '0.0', '0.0', '0.0', '0.0', '0.0'],\n",
       " ['ISIC_0024468', '0.0', '0.0', '0.0', '1.0', '0.0', '0.0', '0.0'],\n",
       " ['ISIC_0024469', '0.0', '1.0', '0.0', '0.0', '0.0', '0.0', '0.0'],\n",
       " ['ISIC_0024470', '0.0', '0.0', '0.0', '1.0', '0.0', '0.0', '0.0'],\n",
       " ['ISIC_0024471', '0.0', '0.0', '0.0', '0.0', '1.0', '0.0', '0.0'],\n",
       " ['ISIC_0024472', '0.0', '0.0', '1.0', '0.0', '0.0', '0.0', '0.0'],\n",
       " ['ISIC_0024473', '0.0', '1.0', '0.0', '0.0', '0.0', '0.0', '0.0'],\n",
       " ['ISIC_0024474', '0.0', '1.0', '0.0', '0.0', '0.0', '0.0', '0.0'],\n",
       " ['ISIC_0024475', '0.0', '0.0', '0.0', '0.0', '0.0', '0.0', '1.0'],\n",
       " ['ISIC_0024476', '0.0', '1.0', '0.0', '0.0', '0.0', '0.0', '0.0'],\n",
       " ['ISIC_0024477', '0.0', '0.0', '0.0', '0.0', '1.0', '0.0', '0.0'],\n",
       " ['ISIC_0024478', '0.0', '1.0', '0.0', '0.0', '0.0', '0.0', '0.0'],\n",
       " ['ISIC_0024479', '0.0', '1.0', '0.0', '0.0', '0.0', '0.0', '0.0'],\n",
       " ['ISIC_0024480', '0.0', '1.0', '0.0', '0.0', '0.0', '0.0', '0.0'],\n",
       " ['ISIC_0024481', '1.0', '0.0', '0.0', '0.0', '0.0', '0.0', '0.0'],\n",
       " ['ISIC_0024482', '1.0', '0.0', '0.0', '0.0', '0.0', '0.0', '0.0'],\n",
       " ['ISIC_0024483', '0.0', '1.0', '0.0', '0.0', '0.0', '0.0', '0.0'],\n",
       " ['ISIC_0024484', '0.0', '1.0', '0.0', '0.0', '0.0', '0.0', '0.0'],\n",
       " ['ISIC_0024485', '0.0', '1.0', '0.0', '0.0', '0.0', '0.0', '0.0'],\n",
       " ['ISIC_0024486', '0.0', '1.0', '0.0', '0.0', '0.0', '0.0', '0.0'],\n",
       " ['ISIC_0024487', '0.0', '1.0', '0.0', '0.0', '0.0', '0.0', '0.0'],\n",
       " ['ISIC_0024488', '0.0', '1.0', '0.0', '0.0', '0.0', '0.0', '0.0'],\n",
       " ['ISIC_0024489', '0.0', '0.0', '0.0', '0.0', '1.0', '0.0', '0.0'],\n",
       " ['ISIC_0024490', '0.0', '0.0', '0.0', '0.0', '1.0', '0.0', '0.0'],\n",
       " ['ISIC_0024491', '0.0', '1.0', '0.0', '0.0', '0.0', '0.0', '0.0'],\n",
       " ['ISIC_0024492', '0.0', '1.0', '0.0', '0.0', '0.0', '0.0', '0.0'],\n",
       " ['ISIC_0024493', '0.0', '1.0', '0.0', '0.0', '0.0', '0.0', '0.0'],\n",
       " ['ISIC_0024494', '0.0', '0.0', '0.0', '0.0', '1.0', '0.0', '0.0'],\n",
       " ['ISIC_0024495', '0.0', '0.0', '0.0', '0.0', '1.0', '0.0', '0.0'],\n",
       " ['ISIC_0024496', '1.0', '0.0', '0.0', '0.0', '0.0', '0.0', '0.0'],\n",
       " ['ISIC_0024497', '0.0', '1.0', '0.0', '0.0', '0.0', '0.0', '0.0'],\n",
       " ['ISIC_0024498', '0.0', '0.0', '0.0', '0.0', '1.0', '0.0', '0.0'],\n",
       " ['ISIC_0024499', '0.0', '1.0', '0.0', '0.0', '0.0', '0.0', '0.0'],\n",
       " ['ISIC_0024500', '0.0', '1.0', '0.0', '0.0', '0.0', '0.0', '0.0'],\n",
       " ['ISIC_0024501', '0.0', '1.0', '0.0', '0.0', '0.0', '0.0', '0.0'],\n",
       " ['ISIC_0024502', '0.0', '1.0', '0.0', '0.0', '0.0', '0.0', '0.0'],\n",
       " ['ISIC_0024503', '0.0', '1.0', '0.0', '0.0', '0.0', '0.0', '0.0'],\n",
       " ['ISIC_0024504', '0.0', '0.0', '1.0', '0.0', '0.0', '0.0', '0.0'],\n",
       " ['ISIC_0024505', '0.0', '0.0', '0.0', '0.0', '1.0', '0.0', '0.0'],\n",
       " ['ISIC_0024506', '0.0', '1.0', '0.0', '0.0', '0.0', '0.0', '0.0'],\n",
       " ['ISIC_0024507', '0.0', '1.0', '0.0', '0.0', '0.0', '0.0', '0.0'],\n",
       " ['ISIC_0024508', '0.0', '1.0', '0.0', '0.0', '0.0', '0.0', '0.0'],\n",
       " ['ISIC_0024509', '0.0', '1.0', '0.0', '0.0', '0.0', '0.0', '0.0'],\n",
       " ['ISIC_0024510', '0.0', '1.0', '0.0', '0.0', '0.0', '0.0', '0.0'],\n",
       " ['ISIC_0024511', '0.0', '0.0', '0.0', '1.0', '0.0', '0.0', '0.0'],\n",
       " ['ISIC_0024512', '0.0', '1.0', '0.0', '0.0', '0.0', '0.0', '0.0'],\n",
       " ['ISIC_0024513', '0.0', '1.0', '0.0', '0.0', '0.0', '0.0', '0.0'],\n",
       " ['ISIC_0024514', '0.0', '1.0', '0.0', '0.0', '0.0', '0.0', '0.0'],\n",
       " ['ISIC_0024515', '0.0', '0.0', '1.0', '0.0', '0.0', '0.0', '0.0'],\n",
       " ['ISIC_0024516', '1.0', '0.0', '0.0', '0.0', '0.0', '0.0', '0.0'],\n",
       " ['ISIC_0024517', '0.0', '0.0', '0.0', '1.0', '0.0', '0.0', '0.0'],\n",
       " ['ISIC_0024518', '0.0', '1.0', '0.0', '0.0', '0.0', '0.0', '0.0'],\n",
       " ['ISIC_0024519', '0.0', '1.0', '0.0', '0.0', '0.0', '0.0', '0.0'],\n",
       " ['ISIC_0024520', '0.0', '1.0', '0.0', '0.0', '0.0', '0.0', '0.0'],\n",
       " ['ISIC_0024521', '0.0', '1.0', '0.0', '0.0', '0.0', '0.0', '0.0'],\n",
       " ['ISIC_0024522', '0.0', '0.0', '0.0', '1.0', '0.0', '0.0', '0.0'],\n",
       " ['ISIC_0024523', '0.0', '1.0', '0.0', '0.0', '0.0', '0.0', '0.0'],\n",
       " ['ISIC_0024524', '0.0', '1.0', '0.0', '0.0', '0.0', '0.0', '0.0'],\n",
       " ['ISIC_0024525', '1.0', '0.0', '0.0', '0.0', '0.0', '0.0', '0.0'],\n",
       " ['ISIC_0024526', '0.0', '1.0', '0.0', '0.0', '0.0', '0.0', '0.0'],\n",
       " ['ISIC_0024527', '0.0', '1.0', '0.0', '0.0', '0.0', '0.0', '0.0'],\n",
       " ['ISIC_0024528', '0.0', '1.0', '0.0', '0.0', '0.0', '0.0', '0.0'],\n",
       " ['ISIC_0024529', '0.0', '1.0', '0.0', '0.0', '0.0', '0.0', '0.0'],\n",
       " ['ISIC_0024530', '0.0', '1.0', '0.0', '0.0', '0.0', '0.0', '0.0'],\n",
       " ['ISIC_0024531', '0.0', '1.0', '0.0', '0.0', '0.0', '0.0', '0.0'],\n",
       " ['ISIC_0024532', '0.0', '1.0', '0.0', '0.0', '0.0', '0.0', '0.0'],\n",
       " ['ISIC_0024533', '0.0', '1.0', '0.0', '0.0', '0.0', '0.0', '0.0'],\n",
       " ['ISIC_0024534', '0.0', '1.0', '0.0', '0.0', '0.0', '0.0', '0.0'],\n",
       " ['ISIC_0024535', '0.0', '1.0', '0.0', '0.0', '0.0', '0.0', '0.0'],\n",
       " ['ISIC_0024536', '0.0', '1.0', '0.0', '0.0', '0.0', '0.0', '0.0'],\n",
       " ['ISIC_0024537', '1.0', '0.0', '0.0', '0.0', '0.0', '0.0', '0.0'],\n",
       " ['ISIC_0024538', '0.0', '1.0', '0.0', '0.0', '0.0', '0.0', '0.0'],\n",
       " ['ISIC_0024539', '0.0', '0.0', '0.0', '1.0', '0.0', '0.0', '0.0'],\n",
       " ['ISIC_0024540', '0.0', '1.0', '0.0', '0.0', '0.0', '0.0', '0.0'],\n",
       " ['ISIC_0024541', '0.0', '1.0', '0.0', '0.0', '0.0', '0.0', '0.0'],\n",
       " ['ISIC_0024542', '0.0', '1.0', '0.0', '0.0', '0.0', '0.0', '0.0'],\n",
       " ['ISIC_0024543', '0.0', '1.0', '0.0', '0.0', '0.0', '0.0', '0.0'],\n",
       " ['ISIC_0024544', '0.0', '1.0', '0.0', '0.0', '0.0', '0.0', '0.0'],\n",
       " ['ISIC_0024545', '1.0', '0.0', '0.0', '0.0', '0.0', '0.0', '0.0'],\n",
       " ['ISIC_0024546', '1.0', '0.0', '0.0', '0.0', '0.0', '0.0', '0.0'],\n",
       " ['ISIC_0024547', '0.0', '0.0', '0.0', '0.0', '1.0', '0.0', '0.0'],\n",
       " ['ISIC_0024548', '0.0', '1.0', '0.0', '0.0', '0.0', '0.0', '0.0'],\n",
       " ['ISIC_0024549', '0.0', '1.0', '0.0', '0.0', '0.0', '0.0', '0.0'],\n",
       " ['ISIC_0024550', '0.0', '0.0', '1.0', '0.0', '0.0', '0.0', '0.0'],\n",
       " ['ISIC_0024551', '0.0', '1.0', '0.0', '0.0', '0.0', '0.0', '0.0'],\n",
       " ['ISIC_0024552', '1.0', '0.0', '0.0', '0.0', '0.0', '0.0', '0.0'],\n",
       " ['ISIC_0024553', '0.0', '0.0', '0.0', '0.0', '0.0', '1.0', '0.0'],\n",
       " ['ISIC_0024554', '1.0', '0.0', '0.0', '0.0', '0.0', '0.0', '0.0'],\n",
       " ['ISIC_0024555', '0.0', '1.0', '0.0', '0.0', '0.0', '0.0', '0.0'],\n",
       " ['ISIC_0024556', '0.0', '1.0', '0.0', '0.0', '0.0', '0.0', '0.0'],\n",
       " ['ISIC_0024557', '0.0', '1.0', '0.0', '0.0', '0.0', '0.0', '0.0'],\n",
       " ['ISIC_0024558', '0.0', '1.0', '0.0', '0.0', '0.0', '0.0', '0.0'],\n",
       " ['ISIC_0024559', '0.0', '1.0', '0.0', '0.0', '0.0', '0.0', '0.0'],\n",
       " ['ISIC_0024560', '0.0', '1.0', '0.0', '0.0', '0.0', '0.0', '0.0'],\n",
       " ['ISIC_0024561', '0.0', '1.0', '0.0', '0.0', '0.0', '0.0', '0.0'],\n",
       " ['ISIC_0024562', '0.0', '0.0', '0.0', '1.0', '0.0', '0.0', '0.0'],\n",
       " ['ISIC_0024563', '0.0', '1.0', '0.0', '0.0', '0.0', '0.0', '0.0'],\n",
       " ['ISIC_0024564', '0.0', '0.0', '1.0', '0.0', '0.0', '0.0', '0.0'],\n",
       " ['ISIC_0024565', '0.0', '1.0', '0.0', '0.0', '0.0', '0.0', '0.0'],\n",
       " ['ISIC_0024566', '0.0', '1.0', '0.0', '0.0', '0.0', '0.0', '0.0'],\n",
       " ['ISIC_0024567', '0.0', '1.0', '0.0', '0.0', '0.0', '0.0', '0.0'],\n",
       " ['ISIC_0024568', '0.0', '1.0', '0.0', '0.0', '0.0', '0.0', '0.0'],\n",
       " ['ISIC_0024569', '0.0', '1.0', '0.0', '0.0', '0.0', '0.0', '0.0'],\n",
       " ['ISIC_0024570', '0.0', '1.0', '0.0', '0.0', '0.0', '0.0', '0.0'],\n",
       " ['ISIC_0024571', '1.0', '0.0', '0.0', '0.0', '0.0', '0.0', '0.0'],\n",
       " ['ISIC_0024572', '0.0', '0.0', '1.0', '0.0', '0.0', '0.0', '0.0'],\n",
       " ['ISIC_0024573', '0.0', '0.0', '1.0', '0.0', '0.0', '0.0', '0.0'],\n",
       " ['ISIC_0024574', '0.0', '1.0', '0.0', '0.0', '0.0', '0.0', '0.0'],\n",
       " ['ISIC_0024575', '0.0', '0.0', '0.0', '1.0', '0.0', '0.0', '0.0'],\n",
       " ['ISIC_0024576', '0.0', '1.0', '0.0', '0.0', '0.0', '0.0', '0.0'],\n",
       " ['ISIC_0024577', '0.0', '1.0', '0.0', '0.0', '0.0', '0.0', '0.0'],\n",
       " ['ISIC_0024578', '0.0', '1.0', '0.0', '0.0', '0.0', '0.0', '0.0'],\n",
       " ['ISIC_0024579', '0.0', '0.0', '0.0', '1.0', '0.0', '0.0', '0.0'],\n",
       " ['ISIC_0024580', '0.0', '1.0', '0.0', '0.0', '0.0', '0.0', '0.0'],\n",
       " ['ISIC_0024581', '0.0', '0.0', '0.0', '0.0', '1.0', '0.0', '0.0'],\n",
       " ['ISIC_0024582', '0.0', '0.0', '1.0', '0.0', '0.0', '0.0', '0.0'],\n",
       " ['ISIC_0024583', '0.0', '1.0', '0.0', '0.0', '0.0', '0.0', '0.0'],\n",
       " ['ISIC_0024584', '0.0', '1.0', '0.0', '0.0', '0.0', '0.0', '0.0'],\n",
       " ['ISIC_0024585', '0.0', '1.0', '0.0', '0.0', '0.0', '0.0', '0.0'],\n",
       " ['ISIC_0024586', '1.0', '0.0', '0.0', '0.0', '0.0', '0.0', '0.0'],\n",
       " ['ISIC_0024587', '0.0', '1.0', '0.0', '0.0', '0.0', '0.0', '0.0'],\n",
       " ['ISIC_0024588', '0.0', '1.0', '0.0', '0.0', '0.0', '0.0', '0.0'],\n",
       " ['ISIC_0024589', '0.0', '1.0', '0.0', '0.0', '0.0', '0.0', '0.0'],\n",
       " ['ISIC_0024590', '0.0', '0.0', '1.0', '0.0', '0.0', '0.0', '0.0'],\n",
       " ['ISIC_0024591', '0.0', '1.0', '0.0', '0.0', '0.0', '0.0', '0.0'],\n",
       " ['ISIC_0024592', '0.0', '0.0', '0.0', '0.0', '1.0', '0.0', '0.0'],\n",
       " ['ISIC_0024593', '0.0', '1.0', '0.0', '0.0', '0.0', '0.0', '0.0'],\n",
       " ['ISIC_0024594', '0.0', '1.0', '0.0', '0.0', '0.0', '0.0', '0.0'],\n",
       " ['ISIC_0024595', '0.0', '0.0', '1.0', '0.0', '0.0', '0.0', '0.0'],\n",
       " ['ISIC_0024596', '0.0', '1.0', '0.0', '0.0', '0.0', '0.0', '0.0'],\n",
       " ['ISIC_0024597', '0.0', '1.0', '0.0', '0.0', '0.0', '0.0', '0.0'],\n",
       " ['ISIC_0024598', '0.0', '1.0', '0.0', '0.0', '0.0', '0.0', '0.0'],\n",
       " ['ISIC_0024599', '0.0', '1.0', '0.0', '0.0', '0.0', '0.0', '0.0'],\n",
       " ['ISIC_0024600', '0.0', '1.0', '0.0', '0.0', '0.0', '0.0', '0.0'],\n",
       " ['ISIC_0024601', '0.0', '1.0', '0.0', '0.0', '0.0', '0.0', '0.0'],\n",
       " ['ISIC_0024602', '0.0', '0.0', '0.0', '0.0', '1.0', '0.0', '0.0'],\n",
       " ['ISIC_0024603', '0.0', '1.0', '0.0', '0.0', '0.0', '0.0', '0.0'],\n",
       " ['ISIC_0024604', '0.0', '1.0', '0.0', '0.0', '0.0', '0.0', '0.0'],\n",
       " ['ISIC_0024605', '0.0', '1.0', '0.0', '0.0', '0.0', '0.0', '0.0'],\n",
       " ['ISIC_0024606', '0.0', '1.0', '0.0', '0.0', '0.0', '0.0', '0.0'],\n",
       " ['ISIC_0024607', '0.0', '1.0', '0.0', '0.0', '0.0', '0.0', '0.0'],\n",
       " ['ISIC_0024608', '0.0', '1.0', '0.0', '0.0', '0.0', '0.0', '0.0'],\n",
       " ['ISIC_0024609', '0.0', '1.0', '0.0', '0.0', '0.0', '0.0', '0.0'],\n",
       " ['ISIC_0024610', '0.0', '1.0', '0.0', '0.0', '0.0', '0.0', '0.0'],\n",
       " ['ISIC_0024611', '0.0', '1.0', '0.0', '0.0', '0.0', '0.0', '0.0'],\n",
       " ['ISIC_0024612', '0.0', '0.0', '0.0', '0.0', '1.0', '0.0', '0.0'],\n",
       " ['ISIC_0024613', '0.0', '1.0', '0.0', '0.0', '0.0', '0.0', '0.0'],\n",
       " ['ISIC_0024614', '0.0', '1.0', '0.0', '0.0', '0.0', '0.0', '0.0'],\n",
       " ['ISIC_0024615', '0.0', '1.0', '0.0', '0.0', '0.0', '0.0', '0.0'],\n",
       " ['ISIC_0024616', '0.0', '1.0', '0.0', '0.0', '0.0', '0.0', '0.0'],\n",
       " ['ISIC_0024617', '0.0', '1.0', '0.0', '0.0', '0.0', '0.0', '0.0'],\n",
       " ['ISIC_0024618', '0.0', '1.0', '0.0', '0.0', '0.0', '0.0', '0.0'],\n",
       " ['ISIC_0024619', '0.0', '1.0', '0.0', '0.0', '0.0', '0.0', '0.0'],\n",
       " ['ISIC_0024620', '0.0', '1.0', '0.0', '0.0', '0.0', '0.0', '0.0'],\n",
       " ['ISIC_0024621', '0.0', '1.0', '0.0', '0.0', '0.0', '0.0', '0.0'],\n",
       " ['ISIC_0024622', '0.0', '1.0', '0.0', '0.0', '0.0', '0.0', '0.0'],\n",
       " ['ISIC_0024623', '0.0', '0.0', '0.0', '0.0', '1.0', '0.0', '0.0'],\n",
       " ['ISIC_0024624', '1.0', '0.0', '0.0', '0.0', '0.0', '0.0', '0.0'],\n",
       " ['ISIC_0024625', '0.0', '1.0', '0.0', '0.0', '0.0', '0.0', '0.0'],\n",
       " ['ISIC_0024626', '0.0', '0.0', '0.0', '0.0', '1.0', '0.0', '0.0'],\n",
       " ['ISIC_0024627', '0.0', '1.0', '0.0', '0.0', '0.0', '0.0', '0.0'],\n",
       " ['ISIC_0024628', '0.0', '1.0', '0.0', '0.0', '0.0', '0.0', '0.0'],\n",
       " ['ISIC_0024629', '0.0', '1.0', '0.0', '0.0', '0.0', '0.0', '0.0'],\n",
       " ['ISIC_0024630', '1.0', '0.0', '0.0', '0.0', '0.0', '0.0', '0.0'],\n",
       " ['ISIC_0024631', '0.0', '1.0', '0.0', '0.0', '0.0', '0.0', '0.0'],\n",
       " ['ISIC_0024632', '0.0', '0.0', '1.0', '0.0', '0.0', '0.0', '0.0'],\n",
       " ['ISIC_0024633', '0.0', '1.0', '0.0', '0.0', '0.0', '0.0', '0.0'],\n",
       " ['ISIC_0024634', '0.0', '0.0', '1.0', '0.0', '0.0', '0.0', '0.0'],\n",
       " ['ISIC_0024635', '0.0', '0.0', '0.0', '0.0', '1.0', '0.0', '0.0'],\n",
       " ['ISIC_0024636', '0.0', '1.0', '0.0', '0.0', '0.0', '0.0', '0.0'],\n",
       " ['ISIC_0024637', '0.0', '1.0', '0.0', '0.0', '0.0', '0.0', '0.0'],\n",
       " ['ISIC_0024638', '0.0', '1.0', '0.0', '0.0', '0.0', '0.0', '0.0'],\n",
       " ['ISIC_0024639', '0.0', '1.0', '0.0', '0.0', '0.0', '0.0', '0.0'],\n",
       " ['ISIC_0024640', '1.0', '0.0', '0.0', '0.0', '0.0', '0.0', '0.0'],\n",
       " ['ISIC_0024641', '0.0', '1.0', '0.0', '0.0', '0.0', '0.0', '0.0'],\n",
       " ['ISIC_0024642', '0.0', '1.0', '0.0', '0.0', '0.0', '0.0', '0.0'],\n",
       " ['ISIC_0024643', '0.0', '0.0', '0.0', '0.0', '1.0', '0.0', '0.0'],\n",
       " ['ISIC_0024644', '1.0', '0.0', '0.0', '0.0', '0.0', '0.0', '0.0'],\n",
       " ['ISIC_0024645', '0.0', '1.0', '0.0', '0.0', '0.0', '0.0', '0.0'],\n",
       " ['ISIC_0024646', '0.0', '0.0', '0.0', '1.0', '0.0', '0.0', '0.0'],\n",
       " ['ISIC_0024647', '1.0', '0.0', '0.0', '0.0', '0.0', '0.0', '0.0'],\n",
       " ['ISIC_0024648', '0.0', '1.0', '0.0', '0.0', '0.0', '0.0', '0.0'],\n",
       " ['ISIC_0024649', '0.0', '1.0', '0.0', '0.0', '0.0', '0.0', '0.0'],\n",
       " ['ISIC_0024650', '0.0', '1.0', '0.0', '0.0', '0.0', '0.0', '0.0'],\n",
       " ['ISIC_0024651', '0.0', '1.0', '0.0', '0.0', '0.0', '0.0', '0.0'],\n",
       " ['ISIC_0024652', '1.0', '0.0', '0.0', '0.0', '0.0', '0.0', '0.0'],\n",
       " ['ISIC_0024653', '0.0', '1.0', '0.0', '0.0', '0.0', '0.0', '0.0'],\n",
       " ['ISIC_0024654', '0.0', '0.0', '0.0', '1.0', '0.0', '0.0', '0.0'],\n",
       " ['ISIC_0024655', '0.0', '1.0', '0.0', '0.0', '0.0', '0.0', '0.0'],\n",
       " ['ISIC_0024656', '0.0', '1.0', '0.0', '0.0', '0.0', '0.0', '0.0'],\n",
       " ['ISIC_0024657', '0.0', '1.0', '0.0', '0.0', '0.0', '0.0', '0.0'],\n",
       " ['ISIC_0024658', '0.0', '1.0', '0.0', '0.0', '0.0', '0.0', '0.0'],\n",
       " ['ISIC_0024659', '0.0', '1.0', '0.0', '0.0', '0.0', '0.0', '0.0'],\n",
       " ['ISIC_0024660', '0.0', '1.0', '0.0', '0.0', '0.0', '0.0', '0.0'],\n",
       " ['ISIC_0024661', '0.0', '1.0', '0.0', '0.0', '0.0', '0.0', '0.0'],\n",
       " ['ISIC_0024662', '0.0', '0.0', '0.0', '0.0', '0.0', '0.0', '1.0'],\n",
       " ['ISIC_0024663', '0.0', '1.0', '0.0', '0.0', '0.0', '0.0', '0.0'],\n",
       " ['ISIC_0024664', '0.0', '1.0', '0.0', '0.0', '0.0', '0.0', '0.0'],\n",
       " ['ISIC_0024665', '0.0', '0.0', '1.0', '0.0', '0.0', '0.0', '0.0'],\n",
       " ['ISIC_0024666', '0.0', '0.0', '1.0', '0.0', '0.0', '0.0', '0.0'],\n",
       " ['ISIC_0024667', '0.0', '1.0', '0.0', '0.0', '0.0', '0.0', '0.0'],\n",
       " ['ISIC_0024668', '0.0', '1.0', '0.0', '0.0', '0.0', '0.0', '0.0'],\n",
       " ['ISIC_0024669', '0.0', '0.0', '0.0', '0.0', '0.0', '0.0', '1.0'],\n",
       " ['ISIC_0024670', '0.0', '1.0', '0.0', '0.0', '0.0', '0.0', '0.0'],\n",
       " ['ISIC_0024671', '0.0', '1.0', '0.0', '0.0', '0.0', '0.0', '0.0'],\n",
       " ['ISIC_0024672', '0.0', '0.0', '0.0', '0.0', '1.0', '0.0', '0.0'],\n",
       " ['ISIC_0024673', '0.0', '0.0', '1.0', '0.0', '0.0', '0.0', '0.0'],\n",
       " ['ISIC_0024674', '0.0', '1.0', '0.0', '0.0', '0.0', '0.0', '0.0'],\n",
       " ['ISIC_0024675', '1.0', '0.0', '0.0', '0.0', '0.0', '0.0', '0.0'],\n",
       " ['ISIC_0024676', '0.0', '0.0', '0.0', '0.0', '1.0', '0.0', '0.0'],\n",
       " ['ISIC_0024677', '0.0', '1.0', '0.0', '0.0', '0.0', '0.0', '0.0'],\n",
       " ['ISIC_0024678', '0.0', '1.0', '0.0', '0.0', '0.0', '0.0', '0.0'],\n",
       " ['ISIC_0024679', '1.0', '0.0', '0.0', '0.0', '0.0', '0.0', '0.0'],\n",
       " ['ISIC_0024680', '0.0', '1.0', '0.0', '0.0', '0.0', '0.0', '0.0'],\n",
       " ['ISIC_0024681', '0.0', '1.0', '0.0', '0.0', '0.0', '0.0', '0.0'],\n",
       " ['ISIC_0024682', '0.0', '1.0', '0.0', '0.0', '0.0', '0.0', '0.0'],\n",
       " ['ISIC_0024683', '0.0', '1.0', '0.0', '0.0', '0.0', '0.0', '0.0'],\n",
       " ['ISIC_0024684', '0.0', '1.0', '0.0', '0.0', '0.0', '0.0', '0.0'],\n",
       " ['ISIC_0024685', '0.0', '1.0', '0.0', '0.0', '0.0', '0.0', '0.0'],\n",
       " ['ISIC_0024686', '0.0', '1.0', '0.0', '0.0', '0.0', '0.0', '0.0'],\n",
       " ['ISIC_0024687', '0.0', '1.0', '0.0', '0.0', '0.0', '0.0', '0.0'],\n",
       " ['ISIC_0024688', '1.0', '0.0', '0.0', '0.0', '0.0', '0.0', '0.0'],\n",
       " ['ISIC_0024689', '0.0', '1.0', '0.0', '0.0', '0.0', '0.0', '0.0'],\n",
       " ['ISIC_0024690', '0.0', '1.0', '0.0', '0.0', '0.0', '0.0', '0.0'],\n",
       " ['ISIC_0024691', '0.0', '1.0', '0.0', '0.0', '0.0', '0.0', '0.0'],\n",
       " ['ISIC_0024692', '0.0', '1.0', '0.0', '0.0', '0.0', '0.0', '0.0'],\n",
       " ['ISIC_0024693', '0.0', '1.0', '0.0', '0.0', '0.0', '0.0', '0.0'],\n",
       " ['ISIC_0024694', '0.0', '1.0', '0.0', '0.0', '0.0', '0.0', '0.0'],\n",
       " ['ISIC_0024695', '0.0', '1.0', '0.0', '0.0', '0.0', '0.0', '0.0'],\n",
       " ['ISIC_0024696', '0.0', '0.0', '0.0', '0.0', '1.0', '0.0', '0.0'],\n",
       " ['ISIC_0024697', '0.0', '1.0', '0.0', '0.0', '0.0', '0.0', '0.0'],\n",
       " ['ISIC_0024698', '0.0', '1.0', '0.0', '0.0', '0.0', '0.0', '0.0'],\n",
       " ['ISIC_0024699', '0.0', '1.0', '0.0', '0.0', '0.0', '0.0', '0.0'],\n",
       " ['ISIC_0024700', '1.0', '0.0', '0.0', '0.0', '0.0', '0.0', '0.0'],\n",
       " ['ISIC_0024701', '1.0', '0.0', '0.0', '0.0', '0.0', '0.0', '0.0'],\n",
       " ['ISIC_0024702', '1.0', '0.0', '0.0', '0.0', '0.0', '0.0', '0.0'],\n",
       " ['ISIC_0024703', '0.0', '1.0', '0.0', '0.0', '0.0', '0.0', '0.0'],\n",
       " ['ISIC_0024704', '0.0', '1.0', '0.0', '0.0', '0.0', '0.0', '0.0'],\n",
       " ['ISIC_0024705', '0.0', '0.0', '0.0', '0.0', '1.0', '0.0', '0.0'],\n",
       " ['ISIC_0024706', '0.0', '0.0', '0.0', '0.0', '0.0', '0.0', '1.0'],\n",
       " ['ISIC_0024707', '0.0', '0.0', '0.0', '1.0', '0.0', '0.0', '0.0'],\n",
       " ['ISIC_0024708', '0.0', '0.0', '0.0', '0.0', '1.0', '0.0', '0.0'],\n",
       " ['ISIC_0024709', '0.0', '0.0', '0.0', '0.0', '1.0', '0.0', '0.0'],\n",
       " ['ISIC_0024710', '0.0', '0.0', '0.0', '1.0', '0.0', '0.0', '0.0'],\n",
       " ['ISIC_0024711', '0.0', '0.0', '0.0', '0.0', '1.0', '0.0', '0.0'],\n",
       " ['ISIC_0024712', '0.0', '1.0', '0.0', '0.0', '0.0', '0.0', '0.0'],\n",
       " ['ISIC_0024713', '0.0', '1.0', '0.0', '0.0', '0.0', '0.0', '0.0'],\n",
       " ['ISIC_0024714', '0.0', '1.0', '0.0', '0.0', '0.0', '0.0', '0.0'],\n",
       " ['ISIC_0024715', '0.0', '1.0', '0.0', '0.0', '0.0', '0.0', '0.0'],\n",
       " ['ISIC_0024716', '0.0', '1.0', '0.0', '0.0', '0.0', '0.0', '0.0'],\n",
       " ['ISIC_0024717', '0.0', '1.0', '0.0', '0.0', '0.0', '0.0', '0.0'],\n",
       " ['ISIC_0024718', '0.0', '1.0', '0.0', '0.0', '0.0', '0.0', '0.0'],\n",
       " ['ISIC_0024719', '0.0', '1.0', '0.0', '0.0', '0.0', '0.0', '0.0'],\n",
       " ['ISIC_0024720', '0.0', '1.0', '0.0', '0.0', '0.0', '0.0', '0.0'],\n",
       " ['ISIC_0024721', '0.0', '1.0', '0.0', '0.0', '0.0', '0.0', '0.0'],\n",
       " ['ISIC_0024722', '0.0', '1.0', '0.0', '0.0', '0.0', '0.0', '0.0'],\n",
       " ['ISIC_0024723', '0.0', '1.0', '0.0', '0.0', '0.0', '0.0', '0.0'],\n",
       " ['ISIC_0024724', '0.0', '1.0', '0.0', '0.0', '0.0', '0.0', '0.0'],\n",
       " ['ISIC_0024725', '0.0', '1.0', '0.0', '0.0', '0.0', '0.0', '0.0'],\n",
       " ['ISIC_0024726', '0.0', '0.0', '0.0', '0.0', '1.0', '0.0', '0.0'],\n",
       " ['ISIC_0024727', '0.0', '1.0', '0.0', '0.0', '0.0', '0.0', '0.0'],\n",
       " ['ISIC_0024728', '0.0', '1.0', '0.0', '0.0', '0.0', '0.0', '0.0'],\n",
       " ['ISIC_0024729', '1.0', '0.0', '0.0', '0.0', '0.0', '0.0', '0.0'],\n",
       " ['ISIC_0024730', '0.0', '1.0', '0.0', '0.0', '0.0', '0.0', '0.0'],\n",
       " ['ISIC_0024731', '0.0', '1.0', '0.0', '0.0', '0.0', '0.0', '0.0'],\n",
       " ['ISIC_0024732', '1.0', '0.0', '0.0', '0.0', '0.0', '0.0', '0.0'],\n",
       " ['ISIC_0024733', '1.0', '0.0', '0.0', '0.0', '0.0', '0.0', '0.0'],\n",
       " ['ISIC_0024734', '0.0', '1.0', '0.0', '0.0', '0.0', '0.0', '0.0'],\n",
       " ['ISIC_0024735', '0.0', '1.0', '0.0', '0.0', '0.0', '0.0', '0.0'],\n",
       " ['ISIC_0024736', '0.0', '1.0', '0.0', '0.0', '0.0', '0.0', '0.0'],\n",
       " ['ISIC_0024737', '0.0', '1.0', '0.0', '0.0', '0.0', '0.0', '0.0'],\n",
       " ['ISIC_0024738', '0.0', '1.0', '0.0', '0.0', '0.0', '0.0', '0.0'],\n",
       " ['ISIC_0024739', '1.0', '0.0', '0.0', '0.0', '0.0', '0.0', '0.0'],\n",
       " ['ISIC_0024740', '0.0', '0.0', '0.0', '0.0', '1.0', '0.0', '0.0'],\n",
       " ['ISIC_0024741', '0.0', '0.0', '0.0', '0.0', '1.0', '0.0', '0.0'],\n",
       " ['ISIC_0024742', '0.0', '1.0', '0.0', '0.0', '0.0', '0.0', '0.0'],\n",
       " ['ISIC_0024743', '0.0', '0.0', '1.0', '0.0', '0.0', '0.0', '0.0'],\n",
       " ['ISIC_0024744', '0.0', '1.0', '0.0', '0.0', '0.0', '0.0', '0.0'],\n",
       " ['ISIC_0024745', '0.0', '1.0', '0.0', '0.0', '0.0', '0.0', '0.0'],\n",
       " ['ISIC_0024746', '0.0', '1.0', '0.0', '0.0', '0.0', '0.0', '0.0'],\n",
       " ['ISIC_0024747', '0.0', '0.0', '0.0', '0.0', '0.0', '0.0', '1.0'],\n",
       " ['ISIC_0024748', '0.0', '0.0', '0.0', '0.0', '1.0', '0.0', '0.0'],\n",
       " ['ISIC_0024749', '0.0', '1.0', '0.0', '0.0', '0.0', '0.0', '0.0'],\n",
       " ['ISIC_0024750', '0.0', '1.0', '0.0', '0.0', '0.0', '0.0', '0.0'],\n",
       " ['ISIC_0024751', '0.0', '1.0', '0.0', '0.0', '0.0', '0.0', '0.0'],\n",
       " ['ISIC_0024752', '0.0', '1.0', '0.0', '0.0', '0.0', '0.0', '0.0'],\n",
       " ['ISIC_0024753', '0.0', '1.0', '0.0', '0.0', '0.0', '0.0', '0.0'],\n",
       " ['ISIC_0024754', '0.0', '1.0', '0.0', '0.0', '0.0', '0.0', '0.0'],\n",
       " ['ISIC_0024755', '0.0', '1.0', '0.0', '0.0', '0.0', '0.0', '0.0'],\n",
       " ['ISIC_0024756', '1.0', '0.0', '0.0', '0.0', '0.0', '0.0', '0.0'],\n",
       " ['ISIC_0024757', '0.0', '1.0', '0.0', '0.0', '0.0', '0.0', '0.0'],\n",
       " ['ISIC_0024758', '0.0', '0.0', '0.0', '0.0', '1.0', '0.0', '0.0'],\n",
       " ['ISIC_0024759', '0.0', '1.0', '0.0', '0.0', '0.0', '0.0', '0.0'],\n",
       " ['ISIC_0024760', '0.0', '0.0', '0.0', '0.0', '1.0', '0.0', '0.0'],\n",
       " ['ISIC_0024761', '0.0', '0.0', '0.0', '0.0', '1.0', '0.0', '0.0'],\n",
       " ['ISIC_0024762', '0.0', '1.0', '0.0', '0.0', '0.0', '0.0', '0.0'],\n",
       " ['ISIC_0024763', '0.0', '0.0', '0.0', '1.0', '0.0', '0.0', '0.0'],\n",
       " ['ISIC_0024764', '0.0', '1.0', '0.0', '0.0', '0.0', '0.0', '0.0'],\n",
       " ['ISIC_0024765', '0.0', '1.0', '0.0', '0.0', '0.0', '0.0', '0.0'],\n",
       " ['ISIC_0024766', '0.0', '1.0', '0.0', '0.0', '0.0', '0.0', '0.0'],\n",
       " ['ISIC_0024767', '1.0', '0.0', '0.0', '0.0', '0.0', '0.0', '0.0'],\n",
       " ['ISIC_0024768', '0.0', '1.0', '0.0', '0.0', '0.0', '0.0', '0.0'],\n",
       " ['ISIC_0024769', '0.0', '1.0', '0.0', '0.0', '0.0', '0.0', '0.0'],\n",
       " ['ISIC_0024770', '0.0', '0.0', '0.0', '0.0', '1.0', '0.0', '0.0'],\n",
       " ['ISIC_0024771', '0.0', '0.0', '0.0', '1.0', '0.0', '0.0', '0.0'],\n",
       " ['ISIC_0024772', '0.0', '0.0', '0.0', '0.0', '1.0', '0.0', '0.0'],\n",
       " ['ISIC_0024773', '0.0', '0.0', '0.0', '0.0', '1.0', '0.0', '0.0'],\n",
       " ['ISIC_0024774', '0.0', '0.0', '0.0', '0.0', '1.0', '0.0', '0.0'],\n",
       " ['ISIC_0024775', '0.0', '1.0', '0.0', '0.0', '0.0', '0.0', '0.0'],\n",
       " ['ISIC_0024776', '0.0', '1.0', '0.0', '0.0', '0.0', '0.0', '0.0'],\n",
       " ['ISIC_0024777', '0.0', '1.0', '0.0', '0.0', '0.0', '0.0', '0.0'],\n",
       " ['ISIC_0024778', '0.0', '1.0', '0.0', '0.0', '0.0', '0.0', '0.0'],\n",
       " ['ISIC_0024779', '0.0', '1.0', '0.0', '0.0', '0.0', '0.0', '0.0'],\n",
       " ['ISIC_0024780', '0.0', '1.0', '0.0', '0.0', '0.0', '0.0', '0.0'],\n",
       " ['ISIC_0024781', '0.0', '1.0', '0.0', '0.0', '0.0', '0.0', '0.0'],\n",
       " ['ISIC_0024782', '0.0', '0.0', '0.0', '0.0', '1.0', '0.0', '0.0'],\n",
       " ['ISIC_0024783', '0.0', '1.0', '0.0', '0.0', '0.0', '0.0', '0.0'],\n",
       " ['ISIC_0024784', '0.0', '1.0', '0.0', '0.0', '0.0', '0.0', '0.0'],\n",
       " ['ISIC_0024785', '0.0', '1.0', '0.0', '0.0', '0.0', '0.0', '0.0'],\n",
       " ['ISIC_0024786', '0.0', '0.0', '0.0', '0.0', '1.0', '0.0', '0.0'],\n",
       " ['ISIC_0024787', '0.0', '0.0', '1.0', '0.0', '0.0', '0.0', '0.0'],\n",
       " ['ISIC_0024788', '0.0', '1.0', '0.0', '0.0', '0.0', '0.0', '0.0'],\n",
       " ['ISIC_0024789', '0.0', '1.0', '0.0', '0.0', '0.0', '0.0', '0.0'],\n",
       " ['ISIC_0024790', '0.0', '1.0', '0.0', '0.0', '0.0', '0.0', '0.0'],\n",
       " ['ISIC_0024791', '0.0', '1.0', '0.0', '0.0', '0.0', '0.0', '0.0'],\n",
       " ['ISIC_0024792', '1.0', '0.0', '0.0', '0.0', '0.0', '0.0', '0.0'],\n",
       " ['ISIC_0024793', '0.0', '1.0', '0.0', '0.0', '0.0', '0.0', '0.0'],\n",
       " ['ISIC_0024794', '0.0', '1.0', '0.0', '0.0', '0.0', '0.0', '0.0'],\n",
       " ['ISIC_0024795', '0.0', '0.0', '1.0', '0.0', '0.0', '0.0', '0.0'],\n",
       " ['ISIC_0024796', '0.0', '1.0', '0.0', '0.0', '0.0', '0.0', '0.0'],\n",
       " ['ISIC_0024797', '0.0', '1.0', '0.0', '0.0', '0.0', '0.0', '0.0'],\n",
       " ['ISIC_0024798', '0.0', '1.0', '0.0', '0.0', '0.0', '0.0', '0.0'],\n",
       " ['ISIC_0024799', '0.0', '0.0', '1.0', '0.0', '0.0', '0.0', '0.0'],\n",
       " ['ISIC_0024800', '0.0', '0.0', '0.0', '1.0', '0.0', '0.0', '0.0'],\n",
       " ['ISIC_0024801', '0.0', '1.0', '0.0', '0.0', '0.0', '0.0', '0.0'],\n",
       " ['ISIC_0024802', '0.0', '1.0', '0.0', '0.0', '0.0', '0.0', '0.0'],\n",
       " ['ISIC_0024803', '0.0', '1.0', '0.0', '0.0', '0.0', '0.0', '0.0'],\n",
       " ['ISIC_0024804', '0.0', '1.0', '0.0', '0.0', '0.0', '0.0', '0.0'],\n",
       " ['ISIC_0024805', '1.0', '0.0', '0.0', '0.0', '0.0', '0.0', '0.0'],\n",
       " ['ISIC_0024806', '1.0', '0.0', '0.0', '0.0', '0.0', '0.0', '0.0'],\n",
       " ['ISIC_0024807', '0.0', '1.0', '0.0', '0.0', '0.0', '0.0', '0.0'],\n",
       " ['ISIC_0024808', '0.0', '1.0', '0.0', '0.0', '0.0', '0.0', '0.0'],\n",
       " ['ISIC_0024809', '0.0', '1.0', '0.0', '0.0', '0.0', '0.0', '0.0'],\n",
       " ['ISIC_0024810', '0.0', '1.0', '0.0', '0.0', '0.0', '0.0', '0.0'],\n",
       " ['ISIC_0024811', '0.0', '1.0', '0.0', '0.0', '0.0', '0.0', '0.0'],\n",
       " ['ISIC_0024812', '0.0', '1.0', '0.0', '0.0', '0.0', '0.0', '0.0'],\n",
       " ['ISIC_0024813', '0.0', '1.0', '0.0', '0.0', '0.0', '0.0', '0.0'],\n",
       " ['ISIC_0024814', '0.0', '0.0', '0.0', '0.0', '1.0', '0.0', '0.0'],\n",
       " ['ISIC_0024815', '0.0', '1.0', '0.0', '0.0', '0.0', '0.0', '0.0'],\n",
       " ['ISIC_0024816', '0.0', '1.0', '0.0', '0.0', '0.0', '0.0', '0.0'],\n",
       " ['ISIC_0024817', '0.0', '1.0', '0.0', '0.0', '0.0', '0.0', '0.0'],\n",
       " ['ISIC_0024818', '0.0', '1.0', '0.0', '0.0', '0.0', '0.0', '0.0'],\n",
       " ['ISIC_0024819', '0.0', '1.0', '0.0', '0.0', '0.0', '0.0', '0.0'],\n",
       " ['ISIC_0024820', '0.0', '1.0', '0.0', '0.0', '0.0', '0.0', '0.0'],\n",
       " ['ISIC_0024821', '0.0', '1.0', '0.0', '0.0', '0.0', '0.0', '0.0'],\n",
       " ['ISIC_0024822', '0.0', '1.0', '0.0', '0.0', '0.0', '0.0', '0.0'],\n",
       " ['ISIC_0024823', '1.0', '0.0', '0.0', '0.0', '0.0', '0.0', '0.0'],\n",
       " ['ISIC_0024824', '0.0', '1.0', '0.0', '0.0', '0.0', '0.0', '0.0'],\n",
       " ['ISIC_0024825', '0.0', '0.0', '0.0', '0.0', '1.0', '0.0', '0.0'],\n",
       " ['ISIC_0024826', '0.0', '1.0', '0.0', '0.0', '0.0', '0.0', '0.0'],\n",
       " ['ISIC_0024827', '0.0', '1.0', '0.0', '0.0', '0.0', '0.0', '0.0'],\n",
       " ['ISIC_0024828', '0.0', '1.0', '0.0', '0.0', '0.0', '0.0', '0.0'],\n",
       " ['ISIC_0024829', '0.0', '0.0', '1.0', '0.0', '0.0', '0.0', '0.0'],\n",
       " ['ISIC_0024830', '0.0', '1.0', '0.0', '0.0', '0.0', '0.0', '0.0'],\n",
       " ['ISIC_0024831', '0.0', '1.0', '0.0', '0.0', '0.0', '0.0', '0.0'],\n",
       " ['ISIC_0024832', '0.0', '0.0', '0.0', '0.0', '1.0', '0.0', '0.0'],\n",
       " ['ISIC_0024833', '0.0', '0.0', '1.0', '0.0', '0.0', '0.0', '0.0'],\n",
       " ['ISIC_0024834', '0.0', '1.0', '0.0', '0.0', '0.0', '0.0', '0.0'],\n",
       " ['ISIC_0024835', '0.0', '1.0', '0.0', '0.0', '0.0', '0.0', '0.0'],\n",
       " ['ISIC_0024836', '0.0', '1.0', '0.0', '0.0', '0.0', '0.0', '0.0'],\n",
       " ['ISIC_0024837', '0.0', '1.0', '0.0', '0.0', '0.0', '0.0', '0.0'],\n",
       " ['ISIC_0024838', '0.0', '1.0', '0.0', '0.0', '0.0', '0.0', '0.0'],\n",
       " ['ISIC_0024839', '0.0', '0.0', '0.0', '0.0', '1.0', '0.0', '0.0'],\n",
       " ['ISIC_0024840', '0.0', '1.0', '0.0', '0.0', '0.0', '0.0', '0.0'],\n",
       " ['ISIC_0024841', '0.0', '1.0', '0.0', '0.0', '0.0', '0.0', '0.0'],\n",
       " ['ISIC_0024842', '0.0', '1.0', '0.0', '0.0', '0.0', '0.0', '0.0'],\n",
       " ['ISIC_0024843', '0.0', '0.0', '0.0', '1.0', '0.0', '0.0', '0.0'],\n",
       " ['ISIC_0024844', '0.0', '1.0', '0.0', '0.0', '0.0', '0.0', '0.0'],\n",
       " ['ISIC_0024845', '0.0', '0.0', '0.0', '0.0', '0.0', '1.0', '0.0'],\n",
       " ['ISIC_0024846', '0.0', '1.0', '0.0', '0.0', '0.0', '0.0', '0.0'],\n",
       " ['ISIC_0024847', '0.0', '1.0', '0.0', '0.0', '0.0', '0.0', '0.0'],\n",
       " ['ISIC_0024848', '0.0', '0.0', '1.0', '0.0', '0.0', '0.0', '0.0'],\n",
       " ['ISIC_0024849', '0.0', '1.0', '0.0', '0.0', '0.0', '0.0', '0.0'],\n",
       " ['ISIC_0024850', '0.0', '0.0', '0.0', '0.0', '1.0', '0.0', '0.0'],\n",
       " ['ISIC_0024851', '0.0', '0.0', '0.0', '0.0', '1.0', '0.0', '0.0'],\n",
       " ['ISIC_0024852', '0.0', '1.0', '0.0', '0.0', '0.0', '0.0', '0.0'],\n",
       " ['ISIC_0024853', '1.0', '0.0', '0.0', '0.0', '0.0', '0.0', '0.0'],\n",
       " ['ISIC_0024854', '0.0', '1.0', '0.0', '0.0', '0.0', '0.0', '0.0'],\n",
       " ['ISIC_0024855', '0.0', '1.0', '0.0', '0.0', '0.0', '0.0', '0.0'],\n",
       " ['ISIC_0024856', '0.0', '1.0', '0.0', '0.0', '0.0', '0.0', '0.0'],\n",
       " ['ISIC_0024857', '0.0', '1.0', '0.0', '0.0', '0.0', '0.0', '0.0'],\n",
       " ['ISIC_0024858', '0.0', '1.0', '0.0', '0.0', '0.0', '0.0', '0.0'],\n",
       " ['ISIC_0024859', '0.0', '1.0', '0.0', '0.0', '0.0', '0.0', '0.0'],\n",
       " ['ISIC_0024860', '0.0', '1.0', '0.0', '0.0', '0.0', '0.0', '0.0'],\n",
       " ['ISIC_0024861', '0.0', '1.0', '0.0', '0.0', '0.0', '0.0', '0.0'],\n",
       " ['ISIC_0024862', '0.0', '1.0', '0.0', '0.0', '0.0', '0.0', '0.0'],\n",
       " ['ISIC_0024863', '0.0', '1.0', '0.0', '0.0', '0.0', '0.0', '0.0'],\n",
       " ['ISIC_0024864', '1.0', '0.0', '0.0', '0.0', '0.0', '0.0', '0.0'],\n",
       " ['ISIC_0024865', '1.0', '0.0', '0.0', '0.0', '0.0', '0.0', '0.0'],\n",
       " ['ISIC_0024866', '0.0', '1.0', '0.0', '0.0', '0.0', '0.0', '0.0'],\n",
       " ['ISIC_0024867', '0.0', '0.0', '0.0', '0.0', '0.0', '0.0', '1.0'],\n",
       " ['ISIC_0024868', '0.0', '1.0', '0.0', '0.0', '0.0', '0.0', '0.0'],\n",
       " ['ISIC_0024869', '0.0', '1.0', '0.0', '0.0', '0.0', '0.0', '0.0'],\n",
       " ['ISIC_0024870', '0.0', '1.0', '0.0', '0.0', '0.0', '0.0', '0.0'],\n",
       " ['ISIC_0024871', '0.0', '0.0', '0.0', '0.0', '1.0', '0.0', '0.0'],\n",
       " ['ISIC_0024872', '0.0', '1.0', '0.0', '0.0', '0.0', '0.0', '0.0'],\n",
       " ['ISIC_0024873', '0.0', '1.0', '0.0', '0.0', '0.0', '0.0', '0.0'],\n",
       " ['ISIC_0024874', '0.0', '1.0', '0.0', '0.0', '0.0', '0.0', '0.0'],\n",
       " ['ISIC_0024875', '1.0', '0.0', '0.0', '0.0', '0.0', '0.0', '0.0'],\n",
       " ['ISIC_0024876', '0.0', '1.0', '0.0', '0.0', '0.0', '0.0', '0.0'],\n",
       " ['ISIC_0024877', '0.0', '0.0', '0.0', '0.0', '1.0', '0.0', '0.0'],\n",
       " ['ISIC_0024878', '0.0', '1.0', '0.0', '0.0', '0.0', '0.0', '0.0'],\n",
       " ['ISIC_0024879', '0.0', '1.0', '0.0', '0.0', '0.0', '0.0', '0.0'],\n",
       " ['ISIC_0024880', '0.0', '0.0', '0.0', '0.0', '1.0', '0.0', '0.0'],\n",
       " ['ISIC_0024881', '0.0', '0.0', '0.0', '0.0', '1.0', '0.0', '0.0'],\n",
       " ['ISIC_0024882', '0.0', '1.0', '0.0', '0.0', '0.0', '0.0', '0.0'],\n",
       " ['ISIC_0024883', '0.0', '0.0', '0.0', '0.0', '1.0', '0.0', '0.0'],\n",
       " ['ISIC_0024884', '0.0', '1.0', '0.0', '0.0', '0.0', '0.0', '0.0'],\n",
       " ['ISIC_0024885', '0.0', '0.0', '1.0', '0.0', '0.0', '0.0', '0.0'],\n",
       " ['ISIC_0024886', '1.0', '0.0', '0.0', '0.0', '0.0', '0.0', '0.0'],\n",
       " ['ISIC_0024887', '0.0', '1.0', '0.0', '0.0', '0.0', '0.0', '0.0'],\n",
       " ['ISIC_0024888', '0.0', '1.0', '0.0', '0.0', '0.0', '0.0', '0.0'],\n",
       " ['ISIC_0024889', '0.0', '1.0', '0.0', '0.0', '0.0', '0.0', '0.0'],\n",
       " ['ISIC_0024890', '0.0', '0.0', '0.0', '0.0', '1.0', '0.0', '0.0'],\n",
       " ['ISIC_0024891', '0.0', '1.0', '0.0', '0.0', '0.0', '0.0', '0.0'],\n",
       " ['ISIC_0024892', '0.0', '1.0', '0.0', '0.0', '0.0', '0.0', '0.0'],\n",
       " ['ISIC_0024893', '0.0', '0.0', '0.0', '0.0', '1.0', '0.0', '0.0'],\n",
       " ['ISIC_0024894', '0.0', '1.0', '0.0', '0.0', '0.0', '0.0', '0.0'],\n",
       " ['ISIC_0024895', '0.0', '1.0', '0.0', '0.0', '0.0', '0.0', '0.0'],\n",
       " ['ISIC_0024896', '0.0', '1.0', '0.0', '0.0', '0.0', '0.0', '0.0'],\n",
       " ['ISIC_0024897', '0.0', '0.0', '1.0', '0.0', '0.0', '0.0', '0.0'],\n",
       " ['ISIC_0024898', '1.0', '0.0', '0.0', '0.0', '0.0', '0.0', '0.0'],\n",
       " ['ISIC_0024899', '0.0', '1.0', '0.0', '0.0', '0.0', '0.0', '0.0'],\n",
       " ['ISIC_0024900', '1.0', '0.0', '0.0', '0.0', '0.0', '0.0', '0.0'],\n",
       " ['ISIC_0024901', '0.0', '1.0', '0.0', '0.0', '0.0', '0.0', '0.0'],\n",
       " ['ISIC_0024902', '0.0', '1.0', '0.0', '0.0', '0.0', '0.0', '0.0'],\n",
       " ['ISIC_0024903', '0.0', '1.0', '0.0', '0.0', '0.0', '0.0', '0.0'],\n",
       " ['ISIC_0024904', '0.0', '0.0', '0.0', '0.0', '0.0', '0.0', '1.0'],\n",
       " ['ISIC_0024905', '0.0', '1.0', '0.0', '0.0', '0.0', '0.0', '0.0'],\n",
       " ['ISIC_0024906', '0.0', '1.0', '0.0', '0.0', '0.0', '0.0', '0.0'],\n",
       " ['ISIC_0024907', '0.0', '1.0', '0.0', '0.0', '0.0', '0.0', '0.0'],\n",
       " ['ISIC_0024908', '0.0', '1.0', '0.0', '0.0', '0.0', '0.0', '0.0'],\n",
       " ['ISIC_0024909', '0.0', '0.0', '0.0', '0.0', '1.0', '0.0', '0.0'],\n",
       " ['ISIC_0024910', '0.0', '0.0', '0.0', '0.0', '1.0', '0.0', '0.0'],\n",
       " ['ISIC_0024911', '1.0', '0.0', '0.0', '0.0', '0.0', '0.0', '0.0'],\n",
       " ['ISIC_0024912', '0.0', '1.0', '0.0', '0.0', '0.0', '0.0', '0.0'],\n",
       " ['ISIC_0024913', '0.0', '0.0', '0.0', '1.0', '0.0', '0.0', '0.0'],\n",
       " ['ISIC_0024914', '0.0', '1.0', '0.0', '0.0', '0.0', '0.0', '0.0'],\n",
       " ['ISIC_0024915', '0.0', '0.0', '0.0', '0.0', '1.0', '0.0', '0.0'],\n",
       " ['ISIC_0024916', '0.0', '1.0', '0.0', '0.0', '0.0', '0.0', '0.0'],\n",
       " ['ISIC_0024917', '0.0', '1.0', '0.0', '0.0', '0.0', '0.0', '0.0'],\n",
       " ['ISIC_0024918', '1.0', '0.0', '0.0', '0.0', '0.0', '0.0', '0.0'],\n",
       " ['ISIC_0024919', '0.0', '1.0', '0.0', '0.0', '0.0', '0.0', '0.0'],\n",
       " ['ISIC_0024920', '0.0', '1.0', '0.0', '0.0', '0.0', '0.0', '0.0'],\n",
       " ['ISIC_0024921', '0.0', '1.0', '0.0', '0.0', '0.0', '0.0', '0.0'],\n",
       " ['ISIC_0024922', '0.0', '1.0', '0.0', '0.0', '0.0', '0.0', '0.0'],\n",
       " ['ISIC_0024923', '0.0', '0.0', '0.0', '1.0', '0.0', '0.0', '0.0'],\n",
       " ['ISIC_0024924', '0.0', '1.0', '0.0', '0.0', '0.0', '0.0', '0.0'],\n",
       " ['ISIC_0024925', '0.0', '0.0', '0.0', '1.0', '0.0', '0.0', '0.0'],\n",
       " ['ISIC_0024926', '0.0', '1.0', '0.0', '0.0', '0.0', '0.0', '0.0'],\n",
       " ['ISIC_0024927', '0.0', '1.0', '0.0', '0.0', '0.0', '0.0', '0.0'],\n",
       " ['ISIC_0024928', '0.0', '1.0', '0.0', '0.0', '0.0', '0.0', '0.0'],\n",
       " ['ISIC_0024929', '1.0', '0.0', '0.0', '0.0', '0.0', '0.0', '0.0'],\n",
       " ['ISIC_0024930', '1.0', '0.0', '0.0', '0.0', '0.0', '0.0', '0.0'],\n",
       " ['ISIC_0024931', '0.0', '0.0', '1.0', '0.0', '0.0', '0.0', '0.0'],\n",
       " ['ISIC_0024932', '1.0', '0.0', '0.0', '0.0', '0.0', '0.0', '0.0'],\n",
       " ['ISIC_0024933', '0.0', '1.0', '0.0', '0.0', '0.0', '0.0', '0.0'],\n",
       " ['ISIC_0024934', '0.0', '1.0', '0.0', '0.0', '0.0', '0.0', '0.0'],\n",
       " ['ISIC_0024935', '0.0', '1.0', '0.0', '0.0', '0.0', '0.0', '0.0'],\n",
       " ['ISIC_0024936', '0.0', '1.0', '0.0', '0.0', '0.0', '0.0', '0.0'],\n",
       " ['ISIC_0024937', '0.0', '1.0', '0.0', '0.0', '0.0', '0.0', '0.0'],\n",
       " ['ISIC_0024938', '0.0', '1.0', '0.0', '0.0', '0.0', '0.0', '0.0'],\n",
       " ['ISIC_0024939', '0.0', '1.0', '0.0', '0.0', '0.0', '0.0', '0.0'],\n",
       " ['ISIC_0024940', '1.0', '0.0', '0.0', '0.0', '0.0', '0.0', '0.0'],\n",
       " ['ISIC_0024941', '0.0', '1.0', '0.0', '0.0', '0.0', '0.0', '0.0'],\n",
       " ['ISIC_0024942', '0.0', '1.0', '0.0', '0.0', '0.0', '0.0', '0.0'],\n",
       " ['ISIC_0024943', '0.0', '0.0', '0.0', '0.0', '1.0', '0.0', '0.0'],\n",
       " ['ISIC_0024944', '0.0', '1.0', '0.0', '0.0', '0.0', '0.0', '0.0'],\n",
       " ['ISIC_0024945', '0.0', '1.0', '0.0', '0.0', '0.0', '0.0', '0.0'],\n",
       " ['ISIC_0024946', '0.0', '0.0', '0.0', '1.0', '0.0', '0.0', '0.0'],\n",
       " ['ISIC_0024947', '0.0', '0.0', '0.0', '0.0', '1.0', '0.0', '0.0'],\n",
       " ['ISIC_0024948', '0.0', '0.0', '0.0', '1.0', '0.0', '0.0', '0.0'],\n",
       " ['ISIC_0024949', '0.0', '0.0', '1.0', '0.0', '0.0', '0.0', '0.0'],\n",
       " ['ISIC_0024950', '0.0', '1.0', '0.0', '0.0', '0.0', '0.0', '0.0'],\n",
       " ['ISIC_0024951', '1.0', '0.0', '0.0', '0.0', '0.0', '0.0', '0.0'],\n",
       " ['ISIC_0024952', '1.0', '0.0', '0.0', '0.0', '0.0', '0.0', '0.0'],\n",
       " ['ISIC_0024953', '0.0', '1.0', '0.0', '0.0', '0.0', '0.0', '0.0'],\n",
       " ['ISIC_0024954', '0.0', '1.0', '0.0', '0.0', '0.0', '0.0', '0.0'],\n",
       " ['ISIC_0024955', '0.0', '1.0', '0.0', '0.0', '0.0', '0.0', '0.0'],\n",
       " ['ISIC_0024956', '0.0', '1.0', '0.0', '0.0', '0.0', '0.0', '0.0'],\n",
       " ['ISIC_0024957', '0.0', '1.0', '0.0', '0.0', '0.0', '0.0', '0.0'],\n",
       " ['ISIC_0024958', '1.0', '0.0', '0.0', '0.0', '0.0', '0.0', '0.0'],\n",
       " ['ISIC_0024959', '0.0', '1.0', '0.0', '0.0', '0.0', '0.0', '0.0'],\n",
       " ['ISIC_0024960', '0.0', '1.0', '0.0', '0.0', '0.0', '0.0', '0.0'],\n",
       " ['ISIC_0024961', '1.0', '0.0', '0.0', '0.0', '0.0', '0.0', '0.0'],\n",
       " ['ISIC_0024962', '1.0', '0.0', '0.0', '0.0', '0.0', '0.0', '0.0'],\n",
       " ['ISIC_0024963', '0.0', '1.0', '0.0', '0.0', '0.0', '0.0', '0.0'],\n",
       " ['ISIC_0024964', '0.0', '1.0', '0.0', '0.0', '0.0', '0.0', '0.0'],\n",
       " ['ISIC_0024965', '0.0', '1.0', '0.0', '0.0', '0.0', '0.0', '0.0'],\n",
       " ['ISIC_0024966', '0.0', '1.0', '0.0', '0.0', '0.0', '0.0', '0.0'],\n",
       " ['ISIC_0024967', '1.0', '0.0', '0.0', '0.0', '0.0', '0.0', '0.0'],\n",
       " ['ISIC_0024968', '0.0', '1.0', '0.0', '0.0', '0.0', '0.0', '0.0'],\n",
       " ['ISIC_0024969', '0.0', '1.0', '0.0', '0.0', '0.0', '0.0', '0.0'],\n",
       " ['ISIC_0024970', '0.0', '0.0', '0.0', '0.0', '1.0', '0.0', '0.0'],\n",
       " ['ISIC_0024971', '0.0', '0.0', '0.0', '0.0', '1.0', '0.0', '0.0'],\n",
       " ['ISIC_0024972', '1.0', '0.0', '0.0', '0.0', '0.0', '0.0', '0.0'],\n",
       " ['ISIC_0024973', '0.0', '0.0', '0.0', '0.0', '0.0', '1.0', '0.0'],\n",
       " ['ISIC_0024974', '0.0', '1.0', '0.0', '0.0', '0.0', '0.0', '0.0'],\n",
       " ['ISIC_0024975', '0.0', '1.0', '0.0', '0.0', '0.0', '0.0', '0.0'],\n",
       " ['ISIC_0024976', '0.0', '1.0', '0.0', '0.0', '0.0', '0.0', '0.0'],\n",
       " ['ISIC_0024977', '0.0', '1.0', '0.0', '0.0', '0.0', '0.0', '0.0'],\n",
       " ['ISIC_0024978', '0.0', '1.0', '0.0', '0.0', '0.0', '0.0', '0.0'],\n",
       " ['ISIC_0024979', '0.0', '1.0', '0.0', '0.0', '0.0', '0.0', '0.0'],\n",
       " ['ISIC_0024980', '0.0', '1.0', '0.0', '0.0', '0.0', '0.0', '0.0'],\n",
       " ['ISIC_0024981', '0.0', '0.0', '0.0', '0.0', '1.0', '0.0', '0.0'],\n",
       " ['ISIC_0024982', '0.0', '0.0', '0.0', '0.0', '1.0', '0.0', '0.0'],\n",
       " ['ISIC_0024983', '0.0', '1.0', '0.0', '0.0', '0.0', '0.0', '0.0'],\n",
       " ['ISIC_0024984', '0.0', '0.0', '1.0', '0.0', '0.0', '0.0', '0.0'],\n",
       " ['ISIC_0024985', '0.0', '1.0', '0.0', '0.0', '0.0', '0.0', '0.0'],\n",
       " ['ISIC_0024986', '0.0', '1.0', '0.0', '0.0', '0.0', '0.0', '0.0'],\n",
       " ['ISIC_0024987', '1.0', '0.0', '0.0', '0.0', '0.0', '0.0', '0.0'],\n",
       " ['ISIC_0024988', '0.0', '1.0', '0.0', '0.0', '0.0', '0.0', '0.0'],\n",
       " ['ISIC_0024989', '0.0', '1.0', '0.0', '0.0', '0.0', '0.0', '0.0'],\n",
       " ['ISIC_0024990', '0.0', '1.0', '0.0', '0.0', '0.0', '0.0', '0.0'],\n",
       " ['ISIC_0024991', '0.0', '1.0', '0.0', '0.0', '0.0', '0.0', '0.0'],\n",
       " ['ISIC_0024992', '0.0', '1.0', '0.0', '0.0', '0.0', '0.0', '0.0'],\n",
       " ['ISIC_0024993', '0.0', '1.0', '0.0', '0.0', '0.0', '0.0', '0.0'],\n",
       " ['ISIC_0024994', '0.0', '0.0', '0.0', '0.0', '0.0', '1.0', '0.0'],\n",
       " ['ISIC_0024995', '0.0', '1.0', '0.0', '0.0', '0.0', '0.0', '0.0'],\n",
       " ['ISIC_0024996', '0.0', '1.0', '0.0', '0.0', '0.0', '0.0', '0.0'],\n",
       " ['ISIC_0024997', '0.0', '0.0', '0.0', '0.0', '1.0', '0.0', '0.0'],\n",
       " ['ISIC_0024998', '0.0', '1.0', '0.0', '0.0', '0.0', '0.0', '0.0'],\n",
       " ['ISIC_0024999', '1.0', '0.0', '0.0', '0.0', '0.0', '0.0', '0.0'],\n",
       " ['ISIC_0025000', '0.0', '1.0', '0.0', '0.0', '0.0', '0.0', '0.0'],\n",
       " ['ISIC_0025001', '0.0', '1.0', '0.0', '0.0', '0.0', '0.0', '0.0'],\n",
       " ['ISIC_0025002', '0.0', '1.0', '0.0', '0.0', '0.0', '0.0', '0.0'],\n",
       " ['ISIC_0025003', '0.0', '1.0', '0.0', '0.0', '0.0', '0.0', '0.0'],\n",
       " ['ISIC_0025004', '0.0', '1.0', '0.0', '0.0', '0.0', '0.0', '0.0'],\n",
       " ['ISIC_0025005', '0.0', '0.0', '0.0', '0.0', '1.0', '0.0', '0.0'],\n",
       " ['ISIC_0025006', '0.0', '1.0', '0.0', '0.0', '0.0', '0.0', '0.0'],\n",
       " ['ISIC_0025007', '0.0', '1.0', '0.0', '0.0', '0.0', '0.0', '0.0'],\n",
       " ['ISIC_0025008', '0.0', '1.0', '0.0', '0.0', '0.0', '0.0', '0.0'],\n",
       " ['ISIC_0025009', '0.0', '1.0', '0.0', '0.0', '0.0', '0.0', '0.0'],\n",
       " ['ISIC_0025010', '0.0', '1.0', '0.0', '0.0', '0.0', '0.0', '0.0'],\n",
       " ['ISIC_0025011', '0.0', '1.0', '0.0', '0.0', '0.0', '0.0', '0.0'],\n",
       " ['ISIC_0025012', '0.0', '1.0', '0.0', '0.0', '0.0', '0.0', '0.0'],\n",
       " ['ISIC_0025013', '0.0', '1.0', '0.0', '0.0', '0.0', '0.0', '0.0'],\n",
       " ['ISIC_0025014', '0.0', '1.0', '0.0', '0.0', '0.0', '0.0', '0.0'],\n",
       " ['ISIC_0025015', '0.0', '1.0', '0.0', '0.0', '0.0', '0.0', '0.0'],\n",
       " ['ISIC_0025016', '0.0', '0.0', '0.0', '0.0', '1.0', '0.0', '0.0'],\n",
       " ['ISIC_0025017', '0.0', '1.0', '0.0', '0.0', '0.0', '0.0', '0.0'],\n",
       " ['ISIC_0025018', '1.0', '0.0', '0.0', '0.0', '0.0', '0.0', '0.0'],\n",
       " ['ISIC_0025019', '0.0', '0.0', '1.0', '0.0', '0.0', '0.0', '0.0'],\n",
       " ['ISIC_0025020', '0.0', '1.0', '0.0', '0.0', '0.0', '0.0', '0.0'],\n",
       " ['ISIC_0025021', '0.0', '1.0', '0.0', '0.0', '0.0', '0.0', '0.0'],\n",
       " ['ISIC_0025022', '0.0', '1.0', '0.0', '0.0', '0.0', '0.0', '0.0'],\n",
       " ['ISIC_0025023', '0.0', '1.0', '0.0', '0.0', '0.0', '0.0', '0.0'],\n",
       " ['ISIC_0025024', '0.0', '1.0', '0.0', '0.0', '0.0', '0.0', '0.0'],\n",
       " ['ISIC_0025025', '0.0', '1.0', '0.0', '0.0', '0.0', '0.0', '0.0'],\n",
       " ['ISIC_0025026', '0.0', '1.0', '0.0', '0.0', '0.0', '0.0', '0.0'],\n",
       " ['ISIC_0025027', '0.0', '1.0', '0.0', '0.0', '0.0', '0.0', '0.0'],\n",
       " ['ISIC_0025028', '0.0', '1.0', '0.0', '0.0', '0.0', '0.0', '0.0'],\n",
       " ['ISIC_0025029', '0.0', '0.0', '0.0', '1.0', '0.0', '0.0', '0.0'],\n",
       " ['ISIC_0025030', '0.0', '0.0', '0.0', '0.0', '1.0', '0.0', '0.0'],\n",
       " ['ISIC_0025031', '0.0', '0.0', '1.0', '0.0', '0.0', '0.0', '0.0'],\n",
       " ['ISIC_0025032', '0.0', '0.0', '0.0', '0.0', '1.0', '0.0', '0.0'],\n",
       " ['ISIC_0025033', '0.0', '0.0', '0.0', '0.0', '1.0', '0.0', '0.0'],\n",
       " ['ISIC_0025034', '0.0', '1.0', '0.0', '0.0', '0.0', '0.0', '0.0'],\n",
       " ['ISIC_0025035', '1.0', '0.0', '0.0', '0.0', '0.0', '0.0', '0.0'],\n",
       " ['ISIC_0025036', '0.0', '1.0', '0.0', '0.0', '0.0', '0.0', '0.0'],\n",
       " ['ISIC_0025037', '0.0', '1.0', '0.0', '0.0', '0.0', '0.0', '0.0'],\n",
       " ['ISIC_0025038', '0.0', '0.0', '0.0', '0.0', '1.0', '0.0', '0.0'],\n",
       " ['ISIC_0025039', '0.0', '1.0', '0.0', '0.0', '0.0', '0.0', '0.0'],\n",
       " ['ISIC_0025040', '0.0', '0.0', '0.0', '0.0', '1.0', '0.0', '0.0'],\n",
       " ['ISIC_0025041', '0.0', '1.0', '0.0', '0.0', '0.0', '0.0', '0.0'],\n",
       " ['ISIC_0025042', '0.0', '1.0', '0.0', '0.0', '0.0', '0.0', '0.0'],\n",
       " ['ISIC_0025043', '0.0', '1.0', '0.0', '0.0', '0.0', '0.0', '0.0'],\n",
       " ['ISIC_0025044', '0.0', '1.0', '0.0', '0.0', '0.0', '0.0', '0.0'],\n",
       " ['ISIC_0025045', '0.0', '1.0', '0.0', '0.0', '0.0', '0.0', '0.0'],\n",
       " ['ISIC_0025046', '0.0', '0.0', '1.0', '0.0', '0.0', '0.0', '0.0'],\n",
       " ['ISIC_0025047', '0.0', '1.0', '0.0', '0.0', '0.0', '0.0', '0.0'],\n",
       " ['ISIC_0025048', '0.0', '1.0', '0.0', '0.0', '0.0', '0.0', '0.0'],\n",
       " ['ISIC_0025049', '0.0', '1.0', '0.0', '0.0', '0.0', '0.0', '0.0'],\n",
       " ['ISIC_0025050', '0.0', '1.0', '0.0', '0.0', '0.0', '0.0', '0.0'],\n",
       " ['ISIC_0025051', '0.0', '1.0', '0.0', '0.0', '0.0', '0.0', '0.0'],\n",
       " ['ISIC_0025052', '0.0', '1.0', '0.0', '0.0', '0.0', '0.0', '0.0'],\n",
       " ['ISIC_0025053', '0.0', '1.0', '0.0', '0.0', '0.0', '0.0', '0.0'],\n",
       " ['ISIC_0025054', '0.0', '1.0', '0.0', '0.0', '0.0', '0.0', '0.0'],\n",
       " ['ISIC_0025055', '0.0', '1.0', '0.0', '0.0', '0.0', '0.0', '0.0'],\n",
       " ['ISIC_0025056', '0.0', '1.0', '0.0', '0.0', '0.0', '0.0', '0.0'],\n",
       " ['ISIC_0025057', '0.0', '1.0', '0.0', '0.0', '0.0', '0.0', '0.0'],\n",
       " ['ISIC_0025058', '0.0', '1.0', '0.0', '0.0', '0.0', '0.0', '0.0'],\n",
       " ['ISIC_0025059', '0.0', '1.0', '0.0', '0.0', '0.0', '0.0', '0.0'],\n",
       " ['ISIC_0025060', '0.0', '1.0', '0.0', '0.0', '0.0', '0.0', '0.0'],\n",
       " ['ISIC_0025061', '0.0', '1.0', '0.0', '0.0', '0.0', '0.0', '0.0'],\n",
       " ['ISIC_0025062', '0.0', '1.0', '0.0', '0.0', '0.0', '0.0', '0.0'],\n",
       " ['ISIC_0025063', '0.0', '0.0', '0.0', '0.0', '1.0', '0.0', '0.0'],\n",
       " ['ISIC_0025064', '0.0', '0.0', '0.0', '0.0', '1.0', '0.0', '0.0'],\n",
       " ['ISIC_0025065', '0.0', '1.0', '0.0', '0.0', '0.0', '0.0', '0.0'],\n",
       " ['ISIC_0025066', '0.0', '0.0', '0.0', '0.0', '1.0', '0.0', '0.0'],\n",
       " ['ISIC_0025067', '0.0', '1.0', '0.0', '0.0', '0.0', '0.0', '0.0'],\n",
       " ['ISIC_0025068', '0.0', '0.0', '0.0', '0.0', '1.0', '0.0', '0.0'],\n",
       " ['ISIC_0025069', '0.0', '0.0', '0.0', '1.0', '0.0', '0.0', '0.0'],\n",
       " ['ISIC_0025070', '0.0', '1.0', '0.0', '0.0', '0.0', '0.0', '0.0'],\n",
       " ['ISIC_0025071', '0.0', '1.0', '0.0', '0.0', '0.0', '0.0', '0.0'],\n",
       " ['ISIC_0025072', '0.0', '1.0', '0.0', '0.0', '0.0', '0.0', '0.0'],\n",
       " ['ISIC_0025073', '0.0', '1.0', '0.0', '0.0', '0.0', '0.0', '0.0'],\n",
       " ['ISIC_0025074', '0.0', '1.0', '0.0', '0.0', '0.0', '0.0', '0.0'],\n",
       " ['ISIC_0025075', '0.0', '0.0', '0.0', '0.0', '1.0', '0.0', '0.0'],\n",
       " ['ISIC_0025076', '0.0', '0.0', '0.0', '0.0', '1.0', '0.0', '0.0'],\n",
       " ['ISIC_0025077', '0.0', '1.0', '0.0', '0.0', '0.0', '0.0', '0.0'],\n",
       " ['ISIC_0025078', '0.0', '1.0', '0.0', '0.0', '0.0', '0.0', '0.0'],\n",
       " ['ISIC_0025079', '0.0', '1.0', '0.0', '0.0', '0.0', '0.0', '0.0'],\n",
       " ['ISIC_0025080', '0.0', '1.0', '0.0', '0.0', '0.0', '0.0', '0.0'],\n",
       " ['ISIC_0025081', '1.0', '0.0', '0.0', '0.0', '0.0', '0.0', '0.0'],\n",
       " ['ISIC_0025082', '0.0', '1.0', '0.0', '0.0', '0.0', '0.0', '0.0'],\n",
       " ['ISIC_0025083', '0.0', '0.0', '0.0', '0.0', '1.0', '0.0', '0.0'],\n",
       " ['ISIC_0025084', '0.0', '1.0', '0.0', '0.0', '0.0', '0.0', '0.0'],\n",
       " ['ISIC_0025085', '1.0', '0.0', '0.0', '0.0', '0.0', '0.0', '0.0'],\n",
       " ['ISIC_0025086', '0.0', '0.0', '0.0', '0.0', '1.0', '0.0', '0.0'],\n",
       " ['ISIC_0025087', '0.0', '1.0', '0.0', '0.0', '0.0', '0.0', '0.0'],\n",
       " ['ISIC_0025088', '0.0', '1.0', '0.0', '0.0', '0.0', '0.0', '0.0'],\n",
       " ['ISIC_0025089', '0.0', '0.0', '0.0', '1.0', '0.0', '0.0', '0.0'],\n",
       " ['ISIC_0025090', '0.0', '1.0', '0.0', '0.0', '0.0', '0.0', '0.0'],\n",
       " ['ISIC_0025091', '0.0', '1.0', '0.0', '0.0', '0.0', '0.0', '0.0'],\n",
       " ['ISIC_0025092', '0.0', '1.0', '0.0', '0.0', '0.0', '0.0', '0.0'],\n",
       " ['ISIC_0025093', '0.0', '1.0', '0.0', '0.0', '0.0', '0.0', '0.0'],\n",
       " ['ISIC_0025094', '0.0', '1.0', '0.0', '0.0', '0.0', '0.0', '0.0'],\n",
       " ['ISIC_0025095', '0.0', '1.0', '0.0', '0.0', '0.0', '0.0', '0.0'],\n",
       " ['ISIC_0025096', '0.0', '1.0', '0.0', '0.0', '0.0', '0.0', '0.0'],\n",
       " ['ISIC_0025097', '1.0', '0.0', '0.0', '0.0', '0.0', '0.0', '0.0'],\n",
       " ['ISIC_0025098', '0.0', '1.0', '0.0', '0.0', '0.0', '0.0', '0.0'],\n",
       " ['ISIC_0025099', '0.0', '0.0', '0.0', '0.0', '1.0', '0.0', '0.0'],\n",
       " ['ISIC_0025100', '0.0', '1.0', '0.0', '0.0', '0.0', '0.0', '0.0'],\n",
       " ['ISIC_0025101', '0.0', '1.0', '0.0', '0.0', '0.0', '0.0', '0.0'],\n",
       " ['ISIC_0025102', '0.0', '0.0', '1.0', '0.0', '0.0', '0.0', '0.0'],\n",
       " ['ISIC_0025103', '0.0', '0.0', '0.0', '0.0', '1.0', '0.0', '0.0'],\n",
       " ['ISIC_0025104', '0.0', '1.0', '0.0', '0.0', '0.0', '0.0', '0.0'],\n",
       " ['ISIC_0025105', '1.0', '0.0', '0.0', '0.0', '0.0', '0.0', '0.0'],\n",
       " ['ISIC_0025106', '0.0', '1.0', '0.0', '0.0', '0.0', '0.0', '0.0'],\n",
       " ['ISIC_0025107', '0.0', '1.0', '0.0', '0.0', '0.0', '0.0', '0.0'],\n",
       " ['ISIC_0025108', '0.0', '1.0', '0.0', '0.0', '0.0', '0.0', '0.0'],\n",
       " ['ISIC_0025109', '0.0', '1.0', '0.0', '0.0', '0.0', '0.0', '0.0'],\n",
       " ['ISIC_0025110', '0.0', '1.0', '0.0', '0.0', '0.0', '0.0', '0.0'],\n",
       " ['ISIC_0025111', '0.0', '1.0', '0.0', '0.0', '0.0', '0.0', '0.0'],\n",
       " ['ISIC_0025112', '0.0', '1.0', '0.0', '0.0', '0.0', '0.0', '0.0'],\n",
       " ['ISIC_0025113', '0.0', '0.0', '0.0', '0.0', '1.0', '0.0', '0.0'],\n",
       " ['ISIC_0025114', '0.0', '1.0', '0.0', '0.0', '0.0', '0.0', '0.0'],\n",
       " ['ISIC_0025115', '0.0', '1.0', '0.0', '0.0', '0.0', '0.0', '0.0'],\n",
       " ['ISIC_0025116', '0.0', '1.0', '0.0', '0.0', '0.0', '0.0', '0.0'],\n",
       " ['ISIC_0025117', '0.0', '1.0', '0.0', '0.0', '0.0', '0.0', '0.0'],\n",
       " ['ISIC_0025118', '0.0', '1.0', '0.0', '0.0', '0.0', '0.0', '0.0'],\n",
       " ['ISIC_0025119', '0.0', '1.0', '0.0', '0.0', '0.0', '0.0', '0.0'],\n",
       " ['ISIC_0025120', '0.0', '1.0', '0.0', '0.0', '0.0', '0.0', '0.0'],\n",
       " ['ISIC_0025121', '1.0', '0.0', '0.0', '0.0', '0.0', '0.0', '0.0'],\n",
       " ['ISIC_0025122', '0.0', '1.0', '0.0', '0.0', '0.0', '0.0', '0.0'],\n",
       " ['ISIC_0025123', '0.0', '1.0', '0.0', '0.0', '0.0', '0.0', '0.0'],\n",
       " ['ISIC_0025124', '0.0', '1.0', '0.0', '0.0', '0.0', '0.0', '0.0'],\n",
       " ['ISIC_0025125', '0.0', '1.0', '0.0', '0.0', '0.0', '0.0', '0.0'],\n",
       " ['ISIC_0025126', '0.0', '1.0', '0.0', '0.0', '0.0', '0.0', '0.0'],\n",
       " ['ISIC_0025127', '1.0', '0.0', '0.0', '0.0', '0.0', '0.0', '0.0'],\n",
       " ['ISIC_0025128', '1.0', '0.0', '0.0', '0.0', '0.0', '0.0', '0.0'],\n",
       " ['ISIC_0025129', '0.0', '1.0', '0.0', '0.0', '0.0', '0.0', '0.0'],\n",
       " ['ISIC_0025130', '0.0', '0.0', '0.0', '1.0', '0.0', '0.0', '0.0'],\n",
       " ['ISIC_0025131', '0.0', '0.0', '0.0', '0.0', '1.0', '0.0', '0.0'],\n",
       " ['ISIC_0025132', '1.0', '0.0', '0.0', '0.0', '0.0', '0.0', '0.0'],\n",
       " ['ISIC_0025133', '0.0', '1.0', '0.0', '0.0', '0.0', '0.0', '0.0'],\n",
       " ['ISIC_0025134', '0.0', '1.0', '0.0', '0.0', '0.0', '0.0', '0.0'],\n",
       " ['ISIC_0025135', '0.0', '1.0', '0.0', '0.0', '0.0', '0.0', '0.0'],\n",
       " ['ISIC_0025136', '0.0', '0.0', '0.0', '0.0', '1.0', '0.0', '0.0'],\n",
       " ['ISIC_0025137', '0.0', '1.0', '0.0', '0.0', '0.0', '0.0', '0.0'],\n",
       " ['ISIC_0025138', '0.0', '1.0', '0.0', '0.0', '0.0', '0.0', '0.0'],\n",
       " ['ISIC_0025139', '0.0', '1.0', '0.0', '0.0', '0.0', '0.0', '0.0'],\n",
       " ['ISIC_0025140', '0.0', '0.0', '0.0', '0.0', '1.0', '0.0', '0.0'],\n",
       " ['ISIC_0025141', '0.0', '1.0', '0.0', '0.0', '0.0', '0.0', '0.0'],\n",
       " ['ISIC_0025142', '0.0', '1.0', '0.0', '0.0', '0.0', '0.0', '0.0'],\n",
       " ['ISIC_0025143', '0.0', '1.0', '0.0', '0.0', '0.0', '0.0', '0.0'],\n",
       " ['ISIC_0025144', '0.0', '0.0', '1.0', '0.0', '0.0', '0.0', '0.0'],\n",
       " ['ISIC_0025145', '1.0', '0.0', '0.0', '0.0', '0.0', '0.0', '0.0'],\n",
       " ['ISIC_0025146', '0.0', '1.0', '0.0', '0.0', '0.0', '0.0', '0.0'],\n",
       " ['ISIC_0025147', '0.0', '1.0', '0.0', '0.0', '0.0', '0.0', '0.0'],\n",
       " ['ISIC_0025148', '0.0', '1.0', '0.0', '0.0', '0.0', '0.0', '0.0'],\n",
       " ['ISIC_0025149', '0.0', '1.0', '0.0', '0.0', '0.0', '0.0', '0.0'],\n",
       " ['ISIC_0025150', '0.0', '1.0', '0.0', '0.0', '0.0', '0.0', '0.0'],\n",
       " ['ISIC_0025151', '0.0', '1.0', '0.0', '0.0', '0.0', '0.0', '0.0'],\n",
       " ['ISIC_0025152', '0.0', '1.0', '0.0', '0.0', '0.0', '0.0', '0.0'],\n",
       " ['ISIC_0025153', '1.0', '0.0', '0.0', '0.0', '0.0', '0.0', '0.0'],\n",
       " ['ISIC_0025154', '0.0', '0.0', '0.0', '0.0', '0.0', '1.0', '0.0'],\n",
       " ['ISIC_0025155', '1.0', '0.0', '0.0', '0.0', '0.0', '0.0', '0.0'],\n",
       " ['ISIC_0025156', '0.0', '1.0', '0.0', '0.0', '0.0', '0.0', '0.0'],\n",
       " ['ISIC_0025157', '0.0', '0.0', '0.0', '0.0', '1.0', '0.0', '0.0'],\n",
       " ['ISIC_0025158', '0.0', '1.0', '0.0', '0.0', '0.0', '0.0', '0.0'],\n",
       " ['ISIC_0025159', '0.0', '1.0', '0.0', '0.0', '0.0', '0.0', '0.0'],\n",
       " ['ISIC_0025160', '0.0', '1.0', '0.0', '0.0', '0.0', '0.0', '0.0'],\n",
       " ['ISIC_0025161', '0.0', '1.0', '0.0', '0.0', '0.0', '0.0', '0.0'],\n",
       " ['ISIC_0025162', '0.0', '1.0', '0.0', '0.0', '0.0', '0.0', '0.0'],\n",
       " ['ISIC_0025163', '0.0', '1.0', '0.0', '0.0', '0.0', '0.0', '0.0'],\n",
       " ['ISIC_0025164', '0.0', '1.0', '0.0', '0.0', '0.0', '0.0', '0.0'],\n",
       " ['ISIC_0025165', '0.0', '1.0', '0.0', '0.0', '0.0', '0.0', '0.0'],\n",
       " ['ISIC_0025166', '0.0', '1.0', '0.0', '0.0', '0.0', '0.0', '0.0'],\n",
       " ['ISIC_0025167', '0.0', '1.0', '0.0', '0.0', '0.0', '0.0', '0.0'],\n",
       " ['ISIC_0025168', '0.0', '1.0', '0.0', '0.0', '0.0', '0.0', '0.0'],\n",
       " ['ISIC_0025169', '0.0', '1.0', '0.0', '0.0', '0.0', '0.0', '0.0'],\n",
       " ['ISIC_0025170', '0.0', '1.0', '0.0', '0.0', '0.0', '0.0', '0.0'],\n",
       " ['ISIC_0025171', '0.0', '1.0', '0.0', '0.0', '0.0', '0.0', '0.0'],\n",
       " ['ISIC_0025172', '0.0', '1.0', '0.0', '0.0', '0.0', '0.0', '0.0'],\n",
       " ['ISIC_0025173', '0.0', '1.0', '0.0', '0.0', '0.0', '0.0', '0.0'],\n",
       " ['ISIC_0025174', '0.0', '1.0', '0.0', '0.0', '0.0', '0.0', '0.0'],\n",
       " ['ISIC_0025175', '0.0', '1.0', '0.0', '0.0', '0.0', '0.0', '0.0'],\n",
       " ['ISIC_0025176', '0.0', '1.0', '0.0', '0.0', '0.0', '0.0', '0.0'],\n",
       " ['ISIC_0025177', '0.0', '1.0', '0.0', '0.0', '0.0', '0.0', '0.0'],\n",
       " ['ISIC_0025178', '0.0', '0.0', '0.0', '1.0', '0.0', '0.0', '0.0'],\n",
       " ['ISIC_0025179', '0.0', '1.0', '0.0', '0.0', '0.0', '0.0', '0.0'],\n",
       " ['ISIC_0025180', '0.0', '0.0', '0.0', '0.0', '1.0', '0.0', '0.0'],\n",
       " ['ISIC_0025181', '0.0', '1.0', '0.0', '0.0', '0.0', '0.0', '0.0'],\n",
       " ['ISIC_0025182', '0.0', '0.0', '0.0', '1.0', '0.0', '0.0', '0.0'],\n",
       " ['ISIC_0025183', '0.0', '1.0', '0.0', '0.0', '0.0', '0.0', '0.0'],\n",
       " ['ISIC_0025184', '0.0', '1.0', '0.0', '0.0', '0.0', '0.0', '0.0'],\n",
       " ['ISIC_0025185', '0.0', '1.0', '0.0', '0.0', '0.0', '0.0', '0.0'],\n",
       " ['ISIC_0025186', '0.0', '1.0', '0.0', '0.0', '0.0', '0.0', '0.0'],\n",
       " ['ISIC_0025187', '0.0', '1.0', '0.0', '0.0', '0.0', '0.0', '0.0'],\n",
       " ['ISIC_0025188', '1.0', '0.0', '0.0', '0.0', '0.0', '0.0', '0.0'],\n",
       " ['ISIC_0025189', '0.0', '1.0', '0.0', '0.0', '0.0', '0.0', '0.0'],\n",
       " ['ISIC_0025190', '0.0', '1.0', '0.0', '0.0', '0.0', '0.0', '0.0'],\n",
       " ['ISIC_0025191', '0.0', '1.0', '0.0', '0.0', '0.0', '0.0', '0.0'],\n",
       " ['ISIC_0025192', '0.0', '1.0', '0.0', '0.0', '0.0', '0.0', '0.0'],\n",
       " ['ISIC_0025193', '0.0', '1.0', '0.0', '0.0', '0.0', '0.0', '0.0'],\n",
       " ['ISIC_0025194', '0.0', '1.0', '0.0', '0.0', '0.0', '0.0', '0.0'],\n",
       " ['ISIC_0025195', '1.0', '0.0', '0.0', '0.0', '0.0', '0.0', '0.0'],\n",
       " ['ISIC_0025196', '0.0', '0.0', '0.0', '1.0', '0.0', '0.0', '0.0'],\n",
       " ['ISIC_0025197', '0.0', '0.0', '0.0', '0.0', '0.0', '0.0', '1.0'],\n",
       " ['ISIC_0025198', '0.0', '1.0', '0.0', '0.0', '0.0', '0.0', '0.0'],\n",
       " ['ISIC_0025199', '0.0', '0.0', '0.0', '0.0', '1.0', '0.0', '0.0'],\n",
       " ['ISIC_0025200', '0.0', '1.0', '0.0', '0.0', '0.0', '0.0', '0.0'],\n",
       " ['ISIC_0025201', '0.0', '1.0', '0.0', '0.0', '0.0', '0.0', '0.0'],\n",
       " ['ISIC_0025202', '0.0', '1.0', '0.0', '0.0', '0.0', '0.0', '0.0'],\n",
       " ['ISIC_0025203', '0.0', '1.0', '0.0', '0.0', '0.0', '0.0', '0.0'],\n",
       " ['ISIC_0025204', '0.0', '1.0', '0.0', '0.0', '0.0', '0.0', '0.0'],\n",
       " ['ISIC_0025205', '0.0', '1.0', '0.0', '0.0', '0.0', '0.0', '0.0'],\n",
       " ['ISIC_0025206', '0.0', '1.0', '0.0', '0.0', '0.0', '0.0', '0.0'],\n",
       " ['ISIC_0025207', '0.0', '1.0', '0.0', '0.0', '0.0', '0.0', '0.0'],\n",
       " ['ISIC_0025208', '0.0', '1.0', '0.0', '0.0', '0.0', '0.0', '0.0'],\n",
       " ['ISIC_0025209', '0.0', '0.0', '0.0', '0.0', '1.0', '0.0', '0.0'],\n",
       " ['ISIC_0025210', '0.0', '1.0', '0.0', '0.0', '0.0', '0.0', '0.0'],\n",
       " ['ISIC_0025211', '0.0', '1.0', '0.0', '0.0', '0.0', '0.0', '0.0'],\n",
       " ['ISIC_0025212', '0.0', '1.0', '0.0', '0.0', '0.0', '0.0', '0.0'],\n",
       " ['ISIC_0025213', '0.0', '1.0', '0.0', '0.0', '0.0', '0.0', '0.0'],\n",
       " ['ISIC_0025214', '0.0', '1.0', '0.0', '0.0', '0.0', '0.0', '0.0'],\n",
       " ['ISIC_0025215', '0.0', '1.0', '0.0', '0.0', '0.0', '0.0', '0.0'],\n",
       " ['ISIC_0025216', '0.0', '1.0', '0.0', '0.0', '0.0', '0.0', '0.0'],\n",
       " ['ISIC_0025217', '0.0', '1.0', '0.0', '0.0', '0.0', '0.0', '0.0'],\n",
       " ['ISIC_0025218', '0.0', '1.0', '0.0', '0.0', '0.0', '0.0', '0.0'],\n",
       " ['ISIC_0025219', '1.0', '0.0', '0.0', '0.0', '0.0', '0.0', '0.0'],\n",
       " ['ISIC_0025220', '0.0', '1.0', '0.0', '0.0', '0.0', '0.0', '0.0'],\n",
       " ['ISIC_0025221', '0.0', '1.0', '0.0', '0.0', '0.0', '0.0', '0.0'],\n",
       " ['ISIC_0025222', '0.0', '0.0', '0.0', '0.0', '1.0', '0.0', '0.0'],\n",
       " ['ISIC_0025223', '0.0', '0.0', '0.0', '0.0', '0.0', '1.0', '0.0'],\n",
       " ['ISIC_0025224', '0.0', '1.0', '0.0', '0.0', '0.0', '0.0', '0.0'],\n",
       " ['ISIC_0025225', '0.0', '1.0', '0.0', '0.0', '0.0', '0.0', '0.0'],\n",
       " ['ISIC_0025226', '0.0', '1.0', '0.0', '0.0', '0.0', '0.0', '0.0'],\n",
       " ['ISIC_0025227', '0.0', '1.0', '0.0', '0.0', '0.0', '0.0', '0.0'],\n",
       " ['ISIC_0025228', '0.0', '1.0', '0.0', '0.0', '0.0', '0.0', '0.0'],\n",
       " ['ISIC_0025229', '0.0', '1.0', '0.0', '0.0', '0.0', '0.0', '0.0'],\n",
       " ['ISIC_0025230', '0.0', '1.0', '0.0', '0.0', '0.0', '0.0', '0.0'],\n",
       " ['ISIC_0025231', '0.0', '1.0', '0.0', '0.0', '0.0', '0.0', '0.0'],\n",
       " ['ISIC_0025232', '0.0', '1.0', '0.0', '0.0', '0.0', '0.0', '0.0'],\n",
       " ['ISIC_0025233', '0.0', '1.0', '0.0', '0.0', '0.0', '0.0', '0.0'],\n",
       " ['ISIC_0025234', '1.0', '0.0', '0.0', '0.0', '0.0', '0.0', '0.0'],\n",
       " ['ISIC_0025235', '1.0', '0.0', '0.0', '0.0', '0.0', '0.0', '0.0'],\n",
       " ['ISIC_0025236', '0.0', '1.0', '0.0', '0.0', '0.0', '0.0', '0.0'],\n",
       " ['ISIC_0025237', '0.0', '1.0', '0.0', '0.0', '0.0', '0.0', '0.0'],\n",
       " ['ISIC_0025238', '1.0', '0.0', '0.0', '0.0', '0.0', '0.0', '0.0'],\n",
       " ['ISIC_0025239', '0.0', '1.0', '0.0', '0.0', '0.0', '0.0', '0.0'],\n",
       " ['ISIC_0025240', '0.0', '1.0', '0.0', '0.0', '0.0', '0.0', '0.0'],\n",
       " ['ISIC_0025241', '0.0', '1.0', '0.0', '0.0', '0.0', '0.0', '0.0'],\n",
       " ['ISIC_0025242', '0.0', '1.0', '0.0', '0.0', '0.0', '0.0', '0.0'],\n",
       " ['ISIC_0025243', '0.0', '1.0', '0.0', '0.0', '0.0', '0.0', '0.0'],\n",
       " ['ISIC_0025244', '0.0', '0.0', '0.0', '0.0', '0.0', '0.0', '1.0'],\n",
       " ['ISIC_0025245', '0.0', '1.0', '0.0', '0.0', '0.0', '0.0', '0.0'],\n",
       " ['ISIC_0025246', '0.0', '1.0', '0.0', '0.0', '0.0', '0.0', '0.0'],\n",
       " ['ISIC_0025247', '0.0', '0.0', '0.0', '1.0', '0.0', '0.0', '0.0'],\n",
       " ['ISIC_0025248', '1.0', '0.0', '0.0', '0.0', '0.0', '0.0', '0.0'],\n",
       " ['ISIC_0025249', '0.0', '0.0', '0.0', '0.0', '0.0', '0.0', '1.0'],\n",
       " ['ISIC_0025250', '0.0', '0.0', '0.0', '0.0', '0.0', '0.0', '1.0'],\n",
       " ['ISIC_0025251', '0.0', '1.0', '0.0', '0.0', '0.0', '0.0', '0.0'],\n",
       " ['ISIC_0025252', '0.0', '1.0', '0.0', '0.0', '0.0', '0.0', '0.0'],\n",
       " ['ISIC_0025253', '0.0', '1.0', '0.0', '0.0', '0.0', '0.0', '0.0'],\n",
       " ['ISIC_0025254', '0.0', '1.0', '0.0', '0.0', '0.0', '0.0', '0.0'],\n",
       " ['ISIC_0025255', '0.0', '1.0', '0.0', '0.0', '0.0', '0.0', '0.0'],\n",
       " ['ISIC_0025256', '0.0', '1.0', '0.0', '0.0', '0.0', '0.0', '0.0'],\n",
       " ['ISIC_0025257', '0.0', '1.0', '0.0', '0.0', '0.0', '0.0', '0.0'],\n",
       " ['ISIC_0025258', '0.0', '1.0', '0.0', '0.0', '0.0', '0.0', '0.0'],\n",
       " ['ISIC_0025259', '0.0', '1.0', '0.0', '0.0', '0.0', '0.0', '0.0'],\n",
       " ['ISIC_0025260', '0.0', '0.0', '1.0', '0.0', '0.0', '0.0', '0.0'],\n",
       " ['ISIC_0025261', '0.0', '1.0', '0.0', '0.0', '0.0', '0.0', '0.0'],\n",
       " ['ISIC_0025262', '0.0', '1.0', '0.0', '0.0', '0.0', '0.0', '0.0'],\n",
       " ['ISIC_0025263', '0.0', '1.0', '0.0', '0.0', '0.0', '0.0', '0.0'],\n",
       " ['ISIC_0025264', '0.0', '0.0', '0.0', '1.0', '0.0', '0.0', '0.0'],\n",
       " ['ISIC_0025265', '1.0', '0.0', '0.0', '0.0', '0.0', '0.0', '0.0'],\n",
       " ['ISIC_0025266', '0.0', '0.0', '1.0', '0.0', '0.0', '0.0', '0.0'],\n",
       " ['ISIC_0025267', '0.0', '1.0', '0.0', '0.0', '0.0', '0.0', '0.0'],\n",
       " ['ISIC_0025268', '1.0', '0.0', '0.0', '0.0', '0.0', '0.0', '0.0'],\n",
       " ['ISIC_0025269', '0.0', '1.0', '0.0', '0.0', '0.0', '0.0', '0.0'],\n",
       " ['ISIC_0025270', '0.0', '1.0', '0.0', '0.0', '0.0', '0.0', '0.0'],\n",
       " ['ISIC_0025271', '0.0', '1.0', '0.0', '0.0', '0.0', '0.0', '0.0'],\n",
       " ['ISIC_0025272', '0.0', '1.0', '0.0', '0.0', '0.0', '0.0', '0.0'],\n",
       " ['ISIC_0025273', '0.0', '1.0', '0.0', '0.0', '0.0', '0.0', '0.0'],\n",
       " ['ISIC_0025274', '0.0', '1.0', '0.0', '0.0', '0.0', '0.0', '0.0'],\n",
       " ['ISIC_0025275', '0.0', '0.0', '0.0', '0.0', '1.0', '0.0', '0.0'],\n",
       " ['ISIC_0025276', '0.0', '0.0', '0.0', '0.0', '1.0', '0.0', '0.0'],\n",
       " ['ISIC_0025277', '1.0', '0.0', '0.0', '0.0', '0.0', '0.0', '0.0'],\n",
       " ['ISIC_0025278', '0.0', '1.0', '0.0', '0.0', '0.0', '0.0', '0.0'],\n",
       " ['ISIC_0025279', '0.0', '1.0', '0.0', '0.0', '0.0', '0.0', '0.0'],\n",
       " ['ISIC_0025280', '0.0', '1.0', '0.0', '0.0', '0.0', '0.0', '0.0'],\n",
       " ['ISIC_0025281', '0.0', '1.0', '0.0', '0.0', '0.0', '0.0', '0.0'],\n",
       " ['ISIC_0025282', '0.0', '1.0', '0.0', '0.0', '0.0', '0.0', '0.0'],\n",
       " ['ISIC_0025283', '0.0', '1.0', '0.0', '0.0', '0.0', '0.0', '0.0'],\n",
       " ['ISIC_0025284', '0.0', '1.0', '0.0', '0.0', '0.0', '0.0', '0.0'],\n",
       " ['ISIC_0025285', '0.0', '0.0', '1.0', '0.0', '0.0', '0.0', '0.0'],\n",
       " ['ISIC_0025286', '0.0', '0.0', '0.0', '0.0', '1.0', '0.0', '0.0'],\n",
       " ['ISIC_0025287', '0.0', '1.0', '0.0', '0.0', '0.0', '0.0', '0.0'],\n",
       " ['ISIC_0025288', '0.0', '1.0', '0.0', '0.0', '0.0', '0.0', '0.0'],\n",
       " ['ISIC_0025289', '0.0', '1.0', '0.0', '0.0', '0.0', '0.0', '0.0'],\n",
       " ['ISIC_0025290', '0.0', '1.0', '0.0', '0.0', '0.0', '0.0', '0.0'],\n",
       " ['ISIC_0025291', '0.0', '1.0', '0.0', '0.0', '0.0', '0.0', '0.0'],\n",
       " ['ISIC_0025292', '0.0', '0.0', '0.0', '0.0', '1.0', '0.0', '0.0'],\n",
       " ['ISIC_0025293', '0.0', '1.0', '0.0', '0.0', '0.0', '0.0', '0.0'],\n",
       " ['ISIC_0025294', '0.0', '1.0', '0.0', '0.0', '0.0', '0.0', '0.0'],\n",
       " ['ISIC_0025295', '0.0', '1.0', '0.0', '0.0', '0.0', '0.0', '0.0'],\n",
       " ['ISIC_0025296', '0.0', '1.0', '0.0', '0.0', '0.0', '0.0', '0.0'],\n",
       " ['ISIC_0025297', '0.0', '0.0', '0.0', '0.0', '1.0', '0.0', '0.0'],\n",
       " ['ISIC_0025298', '0.0', '1.0', '0.0', '0.0', '0.0', '0.0', '0.0'],\n",
       " ['ISIC_0025299', '0.0', '0.0', '1.0', '0.0', '0.0', '0.0', '0.0'],\n",
       " ['ISIC_0025300', '0.0', '1.0', '0.0', '0.0', '0.0', '0.0', '0.0'],\n",
       " ['ISIC_0025301', '0.0', '0.0', '1.0', '0.0', '0.0', '0.0', '0.0'],\n",
       " ['ISIC_0025302', '0.0', '0.0', '0.0', '0.0', '0.0', '1.0', '0.0'],\n",
       " ['ISIC_0025303', '1.0', '0.0', '0.0', '0.0', '0.0', '0.0', '0.0'],\n",
       " ['ISIC_0025304', '0.0', '1.0', '0.0', '0.0', '0.0', '0.0', '0.0'],\n",
       " ['ISIC_0025305', '0.0', '1.0', '0.0', '0.0', '0.0', '0.0', '0.0'],\n",
       " ...]"
      ]
     },
     "execution_count": 6,
     "metadata": {},
     "output_type": "execute_result"
    }
   ],
   "source": [
    "rows = []\n",
    "for row in csvreader:\n",
    "        rows.append(row)\n",
    "rows"
   ]
  },
  {
   "cell_type": "code",
   "execution_count": 12,
   "id": "80c4e244-0749-45fe-9134-318cad2b7ceb",
   "metadata": {},
   "outputs": [],
   "source": [
    "name_dict={}\n",
    "for i in rows:\n",
    "    name_dict[i[0]]=header[i.index('1.0')]"
   ]
  },
  {
   "cell_type": "code",
   "execution_count": 14,
   "id": "72106adc-90d7-4713-b0d1-53c1653e3f80",
   "metadata": {},
   "outputs": [
    {
     "data": {
      "text/plain": [
       "10015"
      ]
     },
     "execution_count": 14,
     "metadata": {},
     "output_type": "execute_result"
    }
   ],
   "source": [
    "len(name_dict.items())"
   ]
  },
  {
   "cell_type": "code",
   "execution_count": 15,
   "id": "e594a0c4-a5b0-4f7c-a11b-3fa3e08a2362",
   "metadata": {},
   "outputs": [],
   "source": [
    "import os\n",
    "i=1\n",
    "for i in range(1,8):\n",
    "    os.makedirs('/home/piyush/Downloads/archive/train'+header[i])\n",
    "    os.makedirs('/home/piyush/Downloads/archive/test'+header[i])"
   ]
  },
  {
   "cell_type": "code",
   "execution_count": 21,
   "id": "ae72c7dc-e861-4d10-9108-ba10a1979fc8",
   "metadata": {},
   "outputs": [],
   "source": [
    "import shutil\n",
    "for i in name_dict.keys():\n",
    "    shutil.copy('/home/piyush/Downloads/archive/images/'+i+'.jpg','/home/piyush/Downloads/archive/train/'+name_dict[i])"
   ]
  },
  {
   "cell_type": "code",
   "execution_count": 25,
   "id": "21ba23fc-d40b-4d32-89de-b62325b7b26f",
   "metadata": {},
   "outputs": [
    {
     "name": "stdout",
     "output_type": "stream",
     "text": [
      "1099\n",
      "327\n",
      "514\n",
      "142\n",
      "1113\n",
      "115\n",
      "6705\n"
     ]
    }
   ],
   "source": [
    "total_images=0\n",
    "for j in set(name_dict.values()):\n",
    "    print(len(os.listdir('/home/piyush/Downloads/archive/train/'+j)))\n",
    "    total_images=total_images+len(os.listdir('/home/piyush/Downloads/archive/train/'+j))"
   ]
  },
  {
   "cell_type": "code",
   "execution_count": 26,
   "id": "bddab62c-64c1-4e7f-815e-7b129ecd034c",
   "metadata": {},
   "outputs": [
    {
     "data": {
      "text/plain": [
       "10015"
      ]
     },
     "execution_count": 26,
     "metadata": {},
     "output_type": "execute_result"
    }
   ],
   "source": [
    "total_images"
   ]
  },
  {
   "cell_type": "code",
   "execution_count": null,
   "id": "3281f99c-673e-42a0-a284-1cd6c92dad5d",
   "metadata": {},
   "outputs": [],
   "source": []
  }
 ],
 "metadata": {
  "kernelspec": {
   "display_name": "Python 3",
   "language": "python",
   "name": "python3"
  },
  "language_info": {
   "codemirror_mode": {
    "name": "ipython",
    "version": 3
   },
   "file_extension": ".py",
   "mimetype": "text/x-python",
   "name": "python",
   "nbconvert_exporter": "python",
   "pygments_lexer": "ipython3",
   "version": "3.8.10"
  }
 },
 "nbformat": 4,
 "nbformat_minor": 5
}
